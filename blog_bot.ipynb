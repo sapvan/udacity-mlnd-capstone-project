{
 "cells": [
  {
   "cell_type": "markdown",
   "metadata": {},
   "source": [
    "# Auto-generate travel blogs "
   ]
  },
  {
   "cell_type": "code",
   "execution_count": 1,
   "metadata": {},
   "outputs": [
    {
     "name": "stderr",
     "output_type": "stream",
     "text": [
      "Using TensorFlow backend.\n",
      "/home/ubuntu/.local/lib/python2.7/site-packages/h5py/__init__.py:34: FutureWarning: Conversion of the second argument of issubdtype from `float` to `np.floating` is deprecated. In future, it will be treated as `np.float64 == np.dtype(float).type`.\n",
      "  from ._conv import register_converters as _register_converters\n"
     ]
    }
   ],
   "source": [
    "'''Example script to generate blogging text from nomadic matt's blog.\n",
    "\n",
    "Starting off by training a simple model with very little text\n",
    "'''\n",
    "\n",
    "from __future__ import print_function\n",
    "\n",
    "from keras.callbacks import LambdaCallback\n",
    "from keras.models import Sequential\n",
    "from keras.layers import Dense, Activation, LSTM, Flatten, Dropout, TimeDistributed\n",
    "from keras.optimizers import RMSprop\n",
    "from keras.utils.data_utils import get_file\n",
    "from keras.callbacks import ModelCheckpoint\n",
    "import keras.backend as K\n",
    "\n",
    "from matplotlib import pyplot\n",
    "import seaborn as sns\n",
    "import numpy as np\n",
    "import pandas as pd\n",
    "import random\n",
    "import sys\n",
    "import io\n",
    "import re\n",
    "\n",
    "from collections import Counter\n",
    "\n",
    "%matplotlib inline"
   ]
  },
  {
   "cell_type": "code",
   "execution_count": 2,
   "metadata": {
    "collapsed": true
   },
   "outputs": [],
   "source": [
    "# Download over a network\n",
    "# path = get_file('output.txt', origin='https://www......')\n",
    "# with io.open(path, encoding='utf-8') as f:\n",
    "#     text = f.read().lower()\n",
    "\n",
    "text = ''\n",
    "with open(\"blog.txt\", 'r') as content_file:\n",
    "    for line in content_file.readlines():\n",
    "        text += line\n",
    "        \n",
    "# text = text[:5000]"
   ]
  },
  {
   "cell_type": "markdown",
   "metadata": {},
   "source": [
    "## Data preprocessing"
   ]
  },
  {
   "cell_type": "code",
   "execution_count": 3,
   "metadata": {},
   "outputs": [
    {
     "name": "stdout",
     "output_type": "stream",
     "text": [
      "Total raw text chars: 6735242\n",
      "total vocab: 145\n",
      "['\\n', ' ', '!', '\"', '#', '$', '%', '&', \"'\", '(', ')', '*', '+', ',', '-', '.', '/', '0', '1', '2', '3', '4', '5', '6', '7', '8', '9', ':', ';', '<', '=', '>', '?', '@', 'A', 'B', 'C', 'D', 'E', 'F', 'G', 'H', 'I', 'J', 'K', 'L', 'M', 'N', 'O', 'P', 'Q', 'R', 'S', 'T', 'U', 'V', 'W', 'X', 'Y', 'Z', '[', '\\\\', ']', '^', '_', 'a', 'b', 'c', 'd', 'e', 'f', 'g', 'h', 'i', 'j', 'k', 'l', 'm', 'n', 'o', 'p', 'q', 'r', 's', 't', 'u', 'v', 'w', 'x', 'y', 'z', '{', '|', '}', '~', '\\x80', '\\x81', '\\x82', '\\x85', '\\x87', '\\x89', '\\x8d', '\\x8e', '\\x93', '\\x94', '\\x97', '\\x98', '\\x99', '\\x9c', '\\x9d', '\\x9f', '\\xa0', '\\xa1', '\\xa2', '\\xa3', '\\xa4', '\\xa5', '\\xa6', '\\xa7', '\\xa8', '\\xa9', '\\xaa', '\\xab', '\\xac', '\\xad', '\\xae', '\\xaf', '\\xb0', '\\xb1', '\\xb2', '\\xb3', '\\xb4', '\\xb6', '\\xb8', '\\xba', '\\xbb', '\\xbc', '\\xbd', '\\xc2', '\\xc3', '\\xc4', '\\xc5', '\\xcc', '\\xe2', '\\xf0']\n"
     ]
    }
   ],
   "source": [
    "def print_stats(text, chars):\n",
    "    print('Total raw text chars:', len(text))    \n",
    "    print('total vocab:', len(chars))\n",
    "    print(chars)\n",
    "    \n",
    "chars = sorted(list(set(text)))\n",
    "print_stats(text, chars)"
   ]
  },
  {
   "cell_type": "markdown",
   "metadata": {},
   "source": [
    "The total vocab for this text comes to about 75 unique characters. Most of them are not required and can be removed. We shall cleanup the text to retain only ASCII characters, which reduces the text size and brings down the vocab count."
   ]
  },
  {
   "cell_type": "code",
   "execution_count": 4,
   "metadata": {},
   "outputs": [
    {
     "name": "stdout",
     "output_type": "stream",
     "text": [
      "Total raw text chars: 6614263\n",
      "total vocab: 95\n",
      "['\\n', ' ', '!', '\"', '#', '$', '%', '&', \"'\", '(', ')', '*', '+', ',', '-', '.', '/', '0', '1', '2', '3', '4', '5', '6', '7', '8', '9', ':', ';', '<', '=', '>', '?', '@', 'A', 'B', 'C', 'D', 'E', 'F', 'G', 'H', 'I', 'J', 'K', 'L', 'M', 'N', 'O', 'P', 'Q', 'R', 'S', 'T', 'U', 'V', 'W', 'X', 'Y', 'Z', '[', '\\\\', ']', '^', '_', 'a', 'b', 'c', 'd', 'e', 'f', 'g', 'h', 'i', 'j', 'k', 'l', 'm', 'n', 'o', 'p', 'q', 'r', 's', 't', 'u', 'v', 'w', 'x', 'y', 'z', '{', '|', '}', '~']\n"
     ]
    }
   ],
   "source": [
    "def get_ASCII_text(text):\n",
    "    return re.sub(r'[^\\x00-\\x7F]+','', text)\n",
    "\n",
    "text = get_ASCII_text(text) #.lower()\n",
    "chars = sorted(list(set(text)))\n",
    "print_stats(text, chars)"
   ]
  },
  {
   "cell_type": "markdown",
   "metadata": {},
   "source": [
    "You can see that there are some more characters that we could remove to further clean up the dataset that will reduce the vocabulary and may improve the modeling process."
   ]
  },
  {
   "cell_type": "code",
   "execution_count": 5,
   "metadata": {},
   "outputs": [
    {
     "name": "stdout",
     "output_type": "stream",
     "text": [
      "Total raw text chars: 6510373\n",
      "total vocab: 83\n",
      "[' ', '!', '\"', '#', '$', '%', '(', ')', '*', '+', ',', '-', '.', '0', '1', '2', '3', '4', '5', '6', '7', '8', '9', ':', ';', '<', '=', '>', '?', '@', 'A', 'B', 'C', 'D', 'E', 'F', 'G', 'H', 'I', 'J', 'K', 'L', 'M', 'N', 'O', 'P', 'Q', 'R', 'S', 'T', 'U', 'V', 'W', 'X', 'Y', 'Z', 'a', 'b', 'c', 'd', 'e', 'f', 'g', 'h', 'i', 'j', 'k', 'l', 'm', 'n', 'o', 'p', 'q', 'r', 's', 't', 'u', 'v', 'w', 'x', 'y', 'z', '|']\n"
     ]
    }
   ],
   "source": [
    "chars_to_remove = ['&', '[', ']', '\\\\', '^', '_', '`', '{', '}', '~', \"'\", '/', '\\n']\n",
    "\n",
    "for ch in chars_to_remove:\n",
    "    if ch in text:\n",
    "        text = text.replace(ch, '')\n",
    "        \n",
    "chars = sorted(list(set(text)))\n",
    "print_stats(text, chars)"
   ]
  },
  {
   "cell_type": "markdown",
   "metadata": {},
   "source": [
    "To prepare data for modelling by the neural network, we cannot model the characters directly. We should first convert the characters to integers. This can be done by mapping every character to an integer. \n",
    "\n",
    "Also, when preparing the mapping of unique characters to integers, we must also create a reverse mapping that we can use to convert the integers back to characters so that we can understand the predictions."
   ]
  },
  {
   "cell_type": "code",
   "execution_count": 6,
   "metadata": {
    "collapsed": true
   },
   "outputs": [],
   "source": [
    "char_indices = dict((c, i) for i, c in enumerate(chars))\n",
    "indices_char = dict((i, c) for i, c in enumerate(chars))"
   ]
  },
  {
   "cell_type": "markdown",
   "metadata": {},
   "source": [
    "We now need to define the training data for the network. There is a lot of flexibility in how we choose to break up the text and expose it to the network during training.\n",
    "We shall split the blog text into subsequences of 40 characters. We shall slide this window of 100 characters along the entire blog text, jumping 3 characters at every stride."
   ]
  },
  {
   "cell_type": "code",
   "execution_count": 7,
   "metadata": {},
   "outputs": [
    {
     "name": "stdout",
     "output_type": "stream",
     "text": [
      "nb sequences: 2170111\n"
     ]
    }
   ],
   "source": [
    "# cut the text in semi-redundant sequences of maxlen characters\n",
    "maxlen = 40\n",
    "step = 3\n",
    "sentences = []\n",
    "next_chars = []\n",
    "for i in range(0, len(text) - maxlen, step):\n",
    "    sentences.append(text[i: i + maxlen])\n",
    "    next_chars.append(text[i + maxlen])\n",
    "print('nb sequences:', len(sentences))"
   ]
  },
  {
   "cell_type": "markdown",
   "metadata": {},
   "source": [
    "## Visualization"
   ]
  },
  {
   "cell_type": "code",
   "execution_count": 8,
   "metadata": {},
   "outputs": [
    {
     "data": {
      "image/png": "[encoded data removed]",
      "text/plain": [
       "<matplotlib.figure.Figure at 0x7f0a55f704d0>"
      ]
     },
     "metadata": {},
     "output_type": "display_data"
    }
   ],
   "source": [
    "text_len = len(text)\n",
    "\n",
    "char_frequency_counter = Counter()\n",
    "char_frequency_counter += Counter(text)\n",
    "\n",
    "char_frequency_dataframe = pd.DataFrame.from_dict(char_frequency_counter, orient='index').reset_index()\n",
    "char_frequency_dataframe = char_frequency_dataframe.rename(columns={'index':'characters', 0:'count'})\n",
    "order_of_chars = ['a', 'b', 'c', 'd', 'e', 'f', 'g', 'h', 'i', 'j', 'k', 'l', 'm', 'n', 'o', 'p', 'q', 'r', 's', 't', 'u', 'v', 'w', 'x', 'y', 'z','|', '!', '\"', '#', '$', '%', '(', ')', '*', '+', ',', '-', '.', '0', '1', '2', '3', '4', '5', '6', '7', '8', '9', ':', ';', '<', '=', '>', '?', '@', ' ']\n",
    "\n",
    "pyplot.figure(figsize=(16,4))\n",
    "pyplot.title('Distribution of characters in input data')\n",
    "pyplot.ylabel('Frequency [%]')\n",
    "ax = sns.barplot(x=char_frequency_dataframe[\"characters\"], y=char_frequency_dataframe[\"count\"], \n",
    "            order=order_of_chars, estimator=lambda y: (y / text_len) * 100)"
   ]
  },
  {
   "cell_type": "markdown",
   "metadata": {},
   "source": [
    "## One-hot encoding"
   ]
  },
  {
   "cell_type": "markdown",
   "metadata": {},
   "source": [
    "First we must transform the list of input sequences into the form [samples, time steps, features] expected by an LSTM network. Next we need to rescale the integers to the range 0-to-1 to make the patterns easier to learn by the LSTM network that uses the sigmoid activation function by default. In order to do that, we shall one-hot encode the input sequences by creating a 3-dimensional matrix representation of sentences:\n",
    "* The 1st dimension is the total of all sentences (nb sequences).\n",
    "* The 2nd dimension is the length of each sentence, in our case 40\n",
    "* The 3rd dimension is the length of total vocab/unique characters, in our case 59.\n",
    "\n",
    "The output consists of a one-hot encoded 2-dimensional matrix. \n",
    "* The 1st dimension remains the same as input.\n",
    "* The 2nd dimension has the length of total vocab/unique characters.\n",
    "\n",
    "The output pair tells the next char for every input pair."
   ]
  },
  {
   "cell_type": "code",
   "execution_count": 9,
   "metadata": {},
   "outputs": [
    {
     "name": "stdout",
     "output_type": "stream",
     "text": [
      "Vectorization...\n",
      "Total patterns 2170111\n",
      "Input vector shape (2170111, 40, 83)\n",
      "Output vector shape (2170111, 83)\n"
     ]
    }
   ],
   "source": [
    "print('Vectorization...')\n",
    "x = np.zeros((len(sentences), maxlen, len(chars)), dtype=np.bool)\n",
    "y = np.zeros((len(sentences), len(chars)), dtype=np.bool)\n",
    "for i, sentence in enumerate(sentences):\n",
    "    for t, char in enumerate(sentence):\n",
    "        x[i, t, char_indices[char]] = 1\n",
    "    y[i, char_indices[next_chars[i]]] = 1\n",
    "print(\"Total patterns\", len(x))\n",
    "print(\"Input vector shape\", x.shape)\n",
    "print(\"Output vector shape\", y.shape)"
   ]
  },
  {
   "cell_type": "markdown",
   "metadata": {},
   "source": [
    "## Building and running the model"
   ]
  },
  {
   "cell_type": "code",
   "execution_count": 17,
   "metadata": {
    "collapsed": true
   },
   "outputs": [],
   "source": [
    "# build the model: a single LSTM\n",
    "model = Sequential()\n",
    "model.add(LSTM(512, input_shape=(x.shape[1], x.shape[2]), return_sequences=True))\n",
    "model.add(Dropout(0.4))\n",
    "model.add(LSTM(512))\n",
    "model.add(Dropout(0.4))\n",
    "model.add(Dense(y.shape[1]))\n",
    "model.add(Activation('softmax'))"
   ]
  },
  {
   "cell_type": "code",
   "execution_count": 11,
   "metadata": {
    "collapsed": true
   },
   "outputs": [],
   "source": [
    "def perplexity(y_true, y_pred):\n",
    "    cross_entropy = K.categorical_crossentropy(y_true, y_pred)\n",
    "    perplexity = K.pow(2.0, cross_entropy)\n",
    "    return perplexity\n",
    "\n",
    "optimizer = 'adam' # RMSprop(lr=0.01)\n",
    "model.compile(loss='categorical_crossentropy', optimizer=optimizer, metrics=[perplexity])"
   ]
  },
  {
   "cell_type": "code",
   "execution_count": 12,
   "metadata": {
    "collapsed": true
   },
   "outputs": [],
   "source": [
    "# Add a model checkpoint\n",
    "filepath=\"weights-improvement.hdf5\"\n",
    "checkpoint = ModelCheckpoint(filepath, monitor='loss', verbose=1, save_best_only=True, mode='min')"
   ]
  },
  {
   "cell_type": "markdown",
   "metadata": {},
   "source": [
    "### Generating Text with an LSTM Network\n",
    "\n",
    "The simplest way to use the Keras LSTM model to make predictions is to first start off with a seed sequence as input, generate the next character then update the seed sequence to add the generated character on the end and trim off the first character. This process is repeated for as long as we want to predict new characters (e.g. a sequence of 400 characters in length).\n",
    "\n",
    "We can pick a random input pattern as our seed sequence, then print generated characters as we generate them."
   ]
  },
  {
   "cell_type": "code",
   "execution_count": 13,
   "metadata": {
    "collapsed": true
   },
   "outputs": [],
   "source": [
    "def sample(preds, temperature=1.0):\n",
    "    # helper function to sample an index from a probability array\n",
    "    preds = np.asarray(preds).astype('float64')\n",
    "    preds = np.log(preds) / temperature\n",
    "    exp_preds = np.exp(preds)\n",
    "    preds = exp_preds / np.sum(exp_preds)\n",
    "    probas = np.random.multinomial(1, preds, 1)\n",
    "    return np.argmax(probas)"
   ]
  },
  {
   "cell_type": "code",
   "execution_count": 14,
   "metadata": {
    "collapsed": true
   },
   "outputs": [],
   "source": [
    "def on_epoch_end(epoch, logs):\n",
    "    # Function invoked at end of each epoch. Prints generated text.\n",
    "    print()\n",
    "    print('----- Generating text after Epoch: %d' % epoch)\n",
    "\n",
    "    start_index = random.randint(0, len(text) - maxlen - 1)\n",
    "    for diversity in [0.2, 0.5, 1.0, 1.2]:\n",
    "        print('----- diversity:', diversity)\n",
    "\n",
    "        generated = ''\n",
    "        sentence = text[start_index: start_index + maxlen]\n",
    "        generated += sentence\n",
    "        print('----- Generating with seed: \"' + sentence + '\"')\n",
    "        sys.stdout.write(generated)\n",
    "\n",
    "        for i in range(400):\n",
    "            x_pred = np.zeros((1, maxlen, len(chars)))\n",
    "            for t, char in enumerate(sentence):\n",
    "                x_pred[0, t, char_indices[char]] = 1.\n",
    "\n",
    "            preds = model.predict(x_pred, verbose=0)[0]\n",
    "            next_index = sample(preds, diversity)\n",
    "            next_char = indices_char[next_index]\n",
    "\n",
    "            generated += next_char\n",
    "            sentence = sentence[1:] + next_char\n",
    "\n",
    "            sys.stdout.write(next_char)\n",
    "            sys.stdout.flush()\n",
    "        print()"
   ]
  },
  {
   "cell_type": "code",
   "execution_count": 15,
   "metadata": {},
   "outputs": [
    {
     "name": "stdout",
     "output_type": "stream",
     "text": [
      "Train on 1736088 samples, validate on 434023 samples\n",
      "Epoch 1/15\n",
      "1735680/1736088 [============================>.] - ETA: 0s - loss: 1.9861 - perplexity: 20879.7511\n",
      "----- Generating text after Epoch: 0\n",
      "----- diversity: 0.2\n",
      "----- Generating with seed: \" you worked as an au pair?Ive been toGer\"\n",
      " you worked as an au pair?Ive been toGerest the most of the country in the contrnsion of the travel and the start of the start to the travel to the country and the same that I all the past of the country in the day the contrne to the completely that I all the country the start of the more the start to the book and the bast of the start to the country that I was the stay to the main the past of the country and the and the same that I was\n",
      "----- diversity: 0.5\n",
      "----- Generating with seed: \" you worked as an au pair?Ive been toGer\"\n",
      " you worked as an au pair?Ive been toGern the staye shoult I was the real the least would be the countries while the road that I feel a tour part in the long to the believe the reading the finally end up having to the present about the beach of a long as well but a flight that you can end to make a more and a few surple of a such rest of the can can eas the town and I see the main the read and in the list and fact on the active to a wee\n",
      "----- diversity: 1.0\n",
      "----- Generating with seed: \" you worked as an au pair?Ive been toGer\"\n",
      " you worked as an au pair?Ive been toGerrel mopo, great becauring a leap of as the take a costles of the hif you can me there esurs nenger more the world since they days pay probably rectiunary one wont put into the cyoal hold of the explaring may, you known all on their nywk to cridibar or all hard your num day.Im over the only we to arrive any long actuage the plane the world the some bood go, but a complate most of the cretas of phar\n",
      "----- diversity: 1.2\n",
      "----- Generating with seed: \" you worked as an au pair?Ive been toGer\"\n",
      " you worked as an au pair?Ive been toGervebwoalt its to say. I and stic and simk pasty mention? Many perfesce on hunding Ive stay, that sinss and funiday big there and life you qurss other datixity-what will Ma. If mutSthat, questio sand still dight talk that nationaral since something knew on the A-ast people and nonife while aruinded you problai about hours tripEto, on you week as relarbperor, my liqe-combnt working or gousing acountr\n",
      "Epoch 00000: loss improved from inf to 1.98603, saving model to weights-improvement.hdf5\n",
      "1736088/1736088 [==============================] - 2760s - loss: 1.9860 - perplexity: 20878.2331 - val_loss: 1.5442 - val_perplexity: 15334.0628\n",
      "Epoch 2/15\n",
      "1735680/1736088 [============================>.] - ETA: 0s - loss: 1.5403 - perplexity: 15243.4880\n",
      "----- Generating text after Epoch: 1\n",
      "----- diversity: 0.2\n",
      "----- Generating with seed: \"e you funding this trip?I worked in fina\"\n",
      "e you funding this trip?I worked in finally and the street of the most is a lot of people who want to stay the stay to the world and the fact that I was some of the country that I dont have a couple of travel country and the more than I have a lot of travel in the most of the most people who want to stay in the country that I dont have to stay the staff and the month is a good time and the same of the country, in the post of the most of\n",
      "----- diversity: 0.5\n",
      "----- Generating with seed: \"e you funding this trip?I worked in fina\"\n",
      "e you funding this trip?I worked in finally plane to read on the country that he spent stating and the most asked a more but they want to recently would be to completely familiar for a discost to and I have to see this post we were a bit of traveling to a card of other country and the surrounded of the experiences in the right as I stayed to look in the road and the tourist country I would be completely have some about now, in the count\n",
      "----- diversity: 1.0\n",
      "----- Generating with seed: \"e you funding this trip?I worked in fina\"\n",
      "e you funding this trip?I worked in final however, perones.with, we bail keeping someone were a good way to say me speninl statists internet.Addition:As no local useful and time I referbred my airport.MonexalInt far located, are me to time to be a I would ever bnan is all SOA have been turned and a museum for as Would Make some camp in the worlder of a discover of church! I would stypp we all home.I know it costs return down all in the \n",
      "----- diversity: 1.2\n",
      "----- Generating with seed: \"e you funding this trip?I worked in fina\"\n",
      "e you funding this trip?I worked in finally experss what I might think Imy doing you happy a very group of their hucks).Howe Ive leeded to the rcnrlom.Fare Just just felt deight may need some phanogimal very a4join our other half-wide cA3.lef fairs amount food, kind about the way backs only getting 20%s-and girss Tugiar, U ny:Wander I Xnt. Communitation dranbs. A couple while travel few local, them. Bver esunce help you, orper simply ni\n",
      "Epoch 00001: loss improved from 1.98603 to 1.54030, saving model to weights-improvement.hdf5\n",
      "1736088/1736088 [==============================] - 2745s - loss: 1.5403 - perplexity: 15243.0037 - val_loss: 1.3911 - val_perplexity: 13667.6094\n",
      "Epoch 3/15\n",
      "1735680/1736088 [============================>.] - ETA: 0s - loss: 1.4360 - perplexity: 14097.0354\n",
      "----- Generating text after Epoch: 2\n",
      "----- diversity: 0.2\n",
      "----- Generating with seed: \" the way?On the outskirts of Udaipur, a \"\n",
      " the way?On the outskirts of Udaipur, a single post of the past of the country in the world and the street is a serious of the country of the country of the country and the summer of the most in the street of the street of the world and the best to the fact that I said that I was a lot of time to see the world and the few months are not a situation of the time and the street of the country is the first time to the part of the time and t\n",
      "----- diversity: 0.5\n",
      "----- Generating with seed: \" the way?On the outskirts of Udaipur, a \"\n",
      " the way?On the outskirts of Udaipur, a side of the room and I want to call a community of the presence that we cant be the best to the memorable shot and the great stuff and pay the same time before I didnt say them experience that you do this place on the reason the can they are like a time to stay in the surrounding restaurant and from the country where the being readers and even the time I made the first time I spent travelers. The \n",
      "----- diversity: 1.0\n",
      "----- Generating with seed: \" the way?On the outskirts of Udaipur, a \"\n",
      " the way?On the outskirts of Udaipur, a 12-ring town of its drive bar starting so than the post More only overtheres Swedern lands and trying to meet tips rals, some of My home-day trip to the almost imples of whol decisions internet and contracting the trip, you may have in our honestrast shower and spend a tool about your while ran a few man overllows on them all plans off point on the provide blog with a roub after 3 zet in Solotolo \n",
      "----- diversity: 1.2\n",
      "----- Generating with seed: \" the way?On the outskirts of Udaipur, a \"\n",
      " the way?On the outskirts of Udaipur, a majo  the book of Ramella sickpard, a resuit of 1,000 Fhrm.Untown or you interact it? Noh an iDea even answert in your dear of scitigue because of the questions I nst only do realize the chewe quality, but the Someng Mernactian For me aroundWhah?ver Carkin) search; the mip involming part from stories, it didnt know in airline beide afDeachely thinking language and yet.Its been anywandefline more a\n",
      "Epoch 00002: loss improved from 1.54030 to 1.43598, saving model to weights-improvement.hdf5\n",
      "1736088/1736088 [==============================] - 2746s - loss: 1.4360 - perplexity: 14096.6206 - val_loss: 1.3326 - val_perplexity: 13089.5067\n",
      "Epoch 4/15\n",
      "1735680/1736088 [============================>.] - ETA: 0s - loss: 1.3803 - perplexity: 13492.1375\n",
      "----- Generating text after Epoch: 3\n",
      "----- diversity: 0.2\n",
      "----- Generating with seed: \"nally managed to meet up in Bangkok.Near\"\n"
     ]
    },
    {
     "name": "stdout",
     "output_type": "stream",
     "text": [
      "nally managed to meet up in Bangkok.Near the world is the staff in the country and the first time I was staying about the street of the country in the road that I was all about the streets of the country in the country and the local country is a great staff and the more than I was staying about the street of the world and a second and the street of the road was the problem of the country and the stuff is the story of the country in the \n",
      "----- diversity: 0.5\n",
      "----- Generating with seed: \"nally managed to meet up in Bangkok.Near\"\n",
      "nally managed to meet up in Bangkok.Near to the last country where I really ended up still doing a book my own trip in now as much more than the best way to be heart and the next hand of the place to make a few more people who would say that when I can take a few tours and get to the part of the end of the most of the police in the short people or before we need to want to be a couple of trip to an incred to the perfect as the same hote\n",
      "----- diversity: 1.0\n",
      "----- Generating with seed: \"nally managed to meet up in Bangkok.Near\"\n",
      "nally managed to meet up in Bangkok.Near, or have some possted to connet, but I end us feel from an haneful of flight women language quite putty apspecially they also write exist many remained.And when I manage to be same feour or indepind the hard City Im sure with they rent also only feel local than you could conlife in Milboin in.*Gend on a day cements other travelers had much advance I know where I said. Its a well pry some language\n",
      "----- diversity: 1.2\n",
      "----- Generating with seed: \"nally managed to meet up in Bangkok.Near\"\n",
      "nally managed to meet up in Bangkok.Near $1 USD visits?Is me was makes over to follow this Maldivibut Y LafiaZan- chefp and a line and like far by upbecary into the hadluest soyill Kickia online still stift. Youhger charp in, therehard about, goney pay 9  tour start the consumels meals along as bed away for me they boyfully sunder the sxa0ip ons, at all. As yhe livedment to help it ivers they actually do what I havent seen. In fact more\n",
      "Epoch 00003: loss improved from 1.43598 to 1.38027, saving model to weights-improvement.hdf5\n",
      "1736088/1736088 [==============================] - 2744s - loss: 1.3803 - perplexity: 13491.7653 - val_loss: 1.3018 - val_perplexity: 12861.7870\n",
      "Epoch 5/15\n",
      "1735680/1736088 [============================>.] - ETA: 0s - loss: 1.3440 - perplexity: 13090.9869\n",
      "----- Generating text after Epoch: 4\n",
      "----- diversity: 0.2\n",
      "----- Generating with seed: \"enced hitchhiker friend Shannon carries \"\n",
      "enced hitchhiker friend Shannon carries of the country and the continent was a long time to travel to the country and the rest of the staff of the country and the staff are some of the most important travelers and the staff are some of the most of the most people who have all wanted to see the streets of the country that I was still a few weeks and the most of the places to travel and then any of the most important people who want to sa\n",
      "----- diversity: 0.5\n",
      "----- Generating with seed: \"enced hitchhiker friend Shannon carries \"\n",
      "enced hitchhiker friend Shannon carries out the next search of the travel and the good manager at the main language that we all have a plane to how they would not say that everything I had done what I can do is something that the post will the country is a question that I dont see the tour in the world, a few country and the people that I dont have a second search and was before there was a solo female beautiful tour, the more they real\n",
      "----- diversity: 1.0\n",
      "----- Generating with seed: \"enced hitchhiker friend Shannon carries \"\n",
      "enced hitchhiker friend Shannon carries of one of this is going to cance, you are cotfing to start a road restaurant and filsers there are just a very day one, standing to recommend the onlision placet so not peeple as we traveling in a difference? What is a story desarist moment during their town of culture. If a country just say no ice if a trip to public websites, and I was last minutes, and to read of a lot of people instead. That f\n",
      "----- diversity: 1.2\n",
      "----- Generating with seed: \"enced hitchhiker friend Shannon carries \"\n",
      "enced hitchhiker friend Shannon carries closenity ringree, o local wildlife is word before sIm excited as well as Range Lelke w the Geftis visitor. Idlay.Im tired of spendingnt as a lot of suggested without believing the anti-and Amsterdammom-room car.Vatorgo:34d; .nck-6up:-37526.sprinrIu before :wherre, xa0Ir-commit? again, Varmona must spent 7 doxs of experiences if no one are overney doing the country) decisions) whe need to go state\n",
      "Epoch 00004: loss improved from 1.38027 to 1.34397, saving model to weights-improvement.hdf5\n",
      "1736088/1736088 [==============================] - 2744s - loss: 1.3440 - perplexity: 13090.6482 - val_loss: 1.2802 - val_perplexity: 12613.9613\n",
      "Epoch 6/15\n",
      "1735680/1736088 [============================>.] - ETA: 0s - loss: 1.3169 - perplexity: 12794.3370\n",
      "----- Generating text after Epoch: 5\n",
      "----- diversity: 0.2\n",
      "----- Generating with seed: \"ide to New York City), have been asked t\"\n",
      "ide to New York City), have been asked the state of the country in the country on the plane to the country of the country where I was able to stay in the country and the start of the past of the country of the world and the streets are not a lot of time that I can also start a better and the street of the country is the same time and the following and the continue that I was still a place to show a few months and then the people we pref\n",
      "----- diversity: 0.5\n",
      "----- Generating with seed: \"ide to New York City), have been asked t\"\n",
      "ide to New York City), have been asked the staff the language and the actual details is pretty much more enough to see in the conversation and the reason that we still have to work on the street of the fact that I am constantly the street in the top of the place that I am have a traveler and the above a couple of time is a story and then the same time on the world to leave a few hours of the continue for the language that I was able to \n",
      "----- diversity: 1.0\n",
      "----- Generating with seed: \"ide to New York City), have been asked t\"\n",
      "ide to New York City), have been asked through my business land.If you can not travel or you got believing in with all of us could took. at the result.I had been spint everyone.All you decide to do to Hong Kong travel with a free month that has much sent Also Sake and more unsqueeder in Sourt Time, or while the extran catevoror was burgen.Discovery is that no lives in the one site, but theres some terminatemiliar amazing cynority situat\n",
      "----- diversity: 1.2\n",
      "----- Generating with seed: \"ide to New York City), have been asked t\"\n",
      "ide to New York City), have been asked that you tell. :Wett-right up!Achieve trivex to Philipprine? The female travel company truly, garned over studious, there used to become such as dalePlogle to ent other roness, there treats over even if you have a viouragy, simply a mewi-vniving.Its as live in India.ButI was recently provided Ive helped if bryana, farm rice) enchugh-organical photograph seemed that we all able to hagged comforts wi\n",
      "Epoch 00005: loss improved from 1.34397 to 1.31693, saving model to weights-improvement.hdf5\n",
      "1736088/1736088 [==============================] - 2742s - loss: 1.3169 - perplexity: 12794.0569 - val_loss: 1.2680 - val_perplexity: 12523.6980\n",
      "Epoch 7/15\n",
      "1735680/1736088 [============================>.] - ETA: 0s - loss: 1.2951 - perplexity: 12560.1055\n",
      "----- Generating text after Epoch: 6\n",
      "----- diversity: 0.2\n",
      "----- Generating with seed: \"ow, right?Just like the industry convinc\"\n",
      "ow, right?Just like the industry convinces that I was still able to stay at the continue to the projects and the rest of the country is all of the most people that I was traveling and the same projects that I was able to stay at a simple story of the part of the country and the start of the state of the street of the country and the state of the street of the travel company and the staff we had a chance to start a lot of country that I \n",
      "----- diversity: 0.5\n",
      "----- Generating with seed: \"ow, right?Just like the industry convinc\"\n"
     ]
    },
    {
     "name": "stdout",
     "output_type": "stream",
     "text": [
      "ow, right?Just like the industry convince that I was still only feeling a few hours and travel in the day that any of the most important partnerships and staying in the end of the photos of the street of the world, which is all of the day that I can be as what I would always stay in the above and say that I do start about their life of the city, the real exciting of food is a check of the streets of the moment with the destinations whil\n",
      "----- diversity: 1.0\n",
      "----- Generating with seed: \"ow, right?Just like the industry convinc\"\n",
      "ow, right?Just like the industry convince cares (ams in this country. Its conditions when you do no think Sometime sand from the video! I have all kind of drinks, sometimes a result, we were in North Korea of Hibapaly of Keare:I thought amazing normally smages the difference the grade to profemmed blown whenever I do what I never ever standing to try and say Hillorip with we never oble-trip to a third country that was the 19th century t\n",
      "----- diversity: 1.2\n",
      "----- Generating with seed: \"ow, right?Just like the industry convinc\"\n",
      "ow, right?Just like the industry convinces  people the oub list is to above?With my calance we spent countless.And since they will be develoved for give quitn out and feeling I have their major geal with these.My friends,dnewnt off an Mrcguent. But it could eorned their hopes about the case as I was wording a plan of the regard as a mext-able to take my opie of returning at Nets  etiquetist especially watch breef sclote. The taxis has e\n",
      "Epoch 00006: loss improved from 1.31693 to 1.29509, saving model to weights-improvement.hdf5\n",
      "1736088/1736088 [==============================] - 2743s - loss: 1.2951 - perplexity: 12559.7329 - val_loss: 1.2580 - val_perplexity: 12406.5782\n",
      "Epoch 8/15\n",
      "1735680/1736088 [============================>.] - ETA: 0s - loss: 1.2780 - perplexity: 12367.8462\n",
      "----- Generating text after Epoch: 7\n",
      "----- diversity: 0.2\n",
      "----- Generating with seed: \"rry, but you make it on your trip and be\"\n",
      "rry, but you make it on your trip and be able to be able to stay in the country of the country and the staff we had a couple of travelers and then the same thing I would have to do when I was there when I was traveling around the world and the staff we want to end up all of the best to try to stay in the process of the country and the project is that I was actually with the same site and the staff that I have a really stuff at the start\n",
      "----- diversity: 0.5\n",
      "----- Generating with seed: \"rry, but you make it on your trip and be\"\n",
      "rry, but you make it on your trip and be a half the all the problem in the end of the reason that I always want to enjoy the same time all the way of a hostel who comes to me to stay in an area in the category of the travel instead of travel and the more that I was staring somewhere and that the world are all about the start of the time I finally dont have to get between the underground that I was able to share a couple of days up for t\n",
      "----- diversity: 1.0\n",
      "----- Generating with seed: \"rry, but you make it on your trip and be\"\n",
      "rry, but you make it on your trip and be should tell you there.Ill really have to sleep up a gradual off at times to enjoy this place.So on original dreams. When the guides that the best to find myself at the same exerble of visiting just country and thats happening before an interesting than they spent money or, after that country my backpack should say, I have no more home on any sunlight on it. There are alwayents ffor sense, and eve\n",
      "----- diversity: 1.2\n",
      "----- Generating with seed: \"rry, but you make it on your trip and be\"\n",
      "rry, but you make it on your trip and be quite yet more different, and chasis of hitiYaln I none-onDebsited or Laty, Gura, tourism, despite the faloch, wave up will let it want to enjoy an adventure in email, its stall up to a deip), mess of school Right  How mage, up different books, quite rea = very off. I do visit tourist chaicsHow KEAR.That Dirtwent wikn InDoneydial part of Chinese Need to ad plenty of leaders, I feel cura live all \n",
      "Epoch 00007: loss improved from 1.29509 to 1.27793, saving model to weights-improvement.hdf5\n",
      "1736088/1736088 [==============================] - 2742s - loss: 1.2779 - perplexity: 12367.4493 - val_loss: 1.2520 - val_perplexity: 12351.3762\n",
      "Epoch 9/15\n",
      "1735680/1736088 [============================>.] - ETA: 0s - loss: 1.2626 - perplexity: 12200.5842\n",
      "----- Generating text after Epoch: 8\n",
      "----- diversity: 0.2\n",
      "----- Generating with seed: \"to haveNager syndrome, a super rare gene\"\n",
      "to haveNager syndrome, a super rare general story of the country. I have to be a place to stay in the country and the street of the country is the same time to stay in the morning that I want to do in the country and I have a few things that I want to stay in the country and the same time to travel and we all have to be a couple of time to stay in the street of the country and the staff was the same time to stay in the country. I dont h\n",
      "----- diversity: 0.5\n",
      "----- Generating with seed: \"to haveNager syndrome, a super rare gene\"\n",
      "to haveNager syndrome, a super rare general from American tourist country and the local safety of the beach of the country to work on their favorite words in the world, when providing their places to travel and then a great deal of travelers can stay with a current tour with a sight and the traveling around the world to take a place to take the next year. I would not be the only thing I ended up talking to their passport for a few month\n",
      "----- diversity: 1.0\n",
      "----- Generating with seed: \"to haveNager syndrome, a super rare gene\"\n",
      "to haveNager syndrome, a super rare general purtuat at the end.And what are some activitiesAng the pay of terms of safety on Madrid and this might actually love and say those readers that I imagined you see, then, if I manage every chance to say it mentioned their ferry sounds with status  and let you try out eight months fear. Will I have stayed remy time, I would follow them as taking up needs of my lives in a random moment oh the sud\n",
      "----- diversity: 1.2\n",
      "----- Generating with seed: \"to haveNager syndrome, a super rare gene\"\n",
      "to haveNager syndrome, a super rare general typical live back.He came at NYC(and ofperonescame refessed at my goal was flar tourist pressrict and flsing up sitting on topical other cases for 8 minutes with enough mabout. And sri jub after I tend waddum a jog, you affect to pafff as well, would coll go? That.6 Daps in like right really when you could be teberits ford, for the day pyy frort secance; helping travel and work with his Keckwa\n",
      "Epoch 00008: loss improved from 1.27793 to 1.26260, saving model to weights-improvement.hdf5\n",
      "1736088/1736088 [==============================] - 2744s - loss: 1.2626 - perplexity: 12200.2411 - val_loss: 1.2457 - val_perplexity: 12314.2386\n",
      "Epoch 10/15\n",
      "1735680/1736088 [============================>.] - ETA: 0s - loss: 1.2513 - perplexity: 12076.4398\n",
      "----- Generating text after Epoch: 9\n",
      "----- diversity: 0.2\n",
      "----- Generating with seed: \" the island  as well as all that whisky \"\n",
      " the island  as well as all that whisky the major company is the same time and the street of the country we were able to stay in the past the airport and the problem where I was trying to stay in the country and I was able to stay at a result, I want to travel and the same time I have a long time and that the country is that the same time I was trying to stay in the morning on the road and the time is that I was still a simple stay and \n",
      "----- diversity: 0.5\n",
      "----- Generating with seed: \" the island  as well as all that whisky \"\n",
      " the island  as well as all that whisky and I have to take you a little temple to deal with the planned on the planet for a great time and the cheapest community of travel is that I talk about the crowds and say that whenever I can also say that I was able to end up on the process of the country, I have a few people they were traveling alone? I am looking at a plane to the second of the months and the internet of this can be rent a long\n",
      "----- diversity: 1.0\n",
      "----- Generating with seed: \" the island  as well as all that whisky \"\n"
     ]
    },
    {
     "name": "stdout",
     "output_type": "stream",
     "text": [
      " the island  as well as all that whisky California crashios painted and with the rest of Adventures out.And as a falign.Surdriver knowment that will start lake, how to love while sit 4, you choose to say. The tasty, so much where people who knows what I can have a taste-language.While going in Romania has regretted on those in this trip.I refresh a depth and there is one of the most desiris for a budget of tiny, spending myself teaching\n",
      "----- diversity: 1.2\n",
      "----- Generating with seed: \" the island  as well as all that whisky \"\n",
      " the island  as well as all that whisky That much eventually to start something clothes dline.How do you exising kind of phanoring clight bids bry much quite notain, rittle society where any sex for a chanding ereparablemature from London plasty! Whatseons, this pictures?For thosb on Kinyment: Men lown beyond celebration, tording everyad, an ays touristy.KeboxiaItalian trog choice memail or I was making zastace in this mixage or a websi\n",
      "Epoch 00009: loss improved from 1.26260 to 1.25127, saving model to weights-improvement.hdf5\n",
      "1736088/1736088 [==============================] - 2744s - loss: 1.2513 - perplexity: 12076.1118 - val_loss: 1.2519 - val_perplexity: 12281.2177\n",
      "Epoch 11/15\n",
      "1735680/1736088 [============================>.] - ETA: 0s - loss: 1.2420 - perplexity: 11970.2728\n",
      "----- Generating text after Epoch: 10\n",
      "----- diversity: 0.2\n",
      "----- Generating with seed: \"dhere to transparency but also show a cl\"\n",
      "dhere to transparency but also show a class of money to say that I was working at a couple of times that I was still able to stay at the travel planning to the streets of the country that I was traveling alone as a result, I was able to stay at a couple of time to travel to the city and the street is all about the streets of the country that I was a long time and the same time is that I dont have to be a street and the street started th\n",
      "----- diversity: 0.5\n",
      "----- Generating with seed: \"dhere to transparency but also show a cl\"\n",
      "dhere to transparency but also show a class and since this was the first place to stay in street of the streets and I have already been to the same time.And it was because I spent months of a new food and the food they would be able to stay and at the and enjoy the time all the time I started trying to check out of the process of the world, and that was the experience that will the experience that since I was still happy to travel and t\n",
      "----- diversity: 1.0\n",
      "----- Generating with seed: \"dhere to transparency but also show a cl\"\n",
      "dhere to transparency but also show a clear, closest to below their head, and tent the first first to be quite a passport (shararily a collock and no real of with a hild that is something I had already done it as cover as a whole day and that an actually think you ever is Gar to Boyagoan in my hostel. The people the ever, Mildour Tickets I sleep in quite simply earning a jestly for them xa0we try to avoid their next bust they had been m\n",
      "----- diversity: 1.2\n",
      "----- Generating with seed: \"dhere to transparency but also show a cl\"\n",
      "dhere to transparency but also show a closely teas, my yalforthwent doing up to a hugan bed. In sended internical course, you can find a largest faticip night while beSacive, seems to tell you that they useEd FortW$21: $40 USDNOOF.Here while it will require done itOnce as they just clear my way zooming without difficult, especially if you should quite visited by boads, families had not huge starting into organizations that are reached a\n",
      "Epoch 00010: loss improved from 1.25127 to 1.24193, saving model to weights-improvement.hdf5\n",
      "1736088/1736088 [==============================] - 2744s - loss: 1.2419 - perplexity: 11969.8883 - val_loss: 1.2375 - val_perplexity: 12233.9370\n",
      "Epoch 12/15\n",
      "1735680/1736088 [============================>.] - ETA: 0s - loss: 1.2326 - perplexity: 11874.8275\n",
      "----- Generating text after Epoch: 11\n",
      "----- diversity: 0.2\n",
      "----- Generating with seed: \"money aside to cover my loans.But Bobs m\"\n",
      "money aside to cover my loans.But Bobs may be able to travel to the country and the tour is a long time to stay in the past thing that I am able to stay in the morning of the country and the state of the country is a couple of months and the staff is a real part of the world and the same time is what I wanted to see and then want to stay in the country and the state of the country is the same time and the company that I was traveling th\n",
      "----- diversity: 0.5\n",
      "----- Generating with seed: \"money aside to cover my loans.But Bobs m\"\n",
      "money aside to cover my loans.But Bobs might remember the cheapest and the pass of the school is that I was still asked that I was a continue with the world of the world that I stuck in the air of the past the most people who have been to the park for me, so a result, I could have been a few days and I was there to achieve in a single time to get there and with a local part of the country and the belief that I went to the street of the \n",
      "----- diversity: 1.0\n",
      "----- Generating with seed: \"money aside to cover my loans.But Bobs m\"\n",
      "money aside to cover my loans.But Bobs mentulating, a few tour water, vira of this is getting writing when, head out and try to know which there were adjusting guesthouses to owners younger and with off some reason as we renived them isnt desperately usually all of these days into their world, poker focus pressure that you saved, up.Sogo Old Hay (SEA)Visit:Ago: Sitxa0 Come Jagru (Titzara oriGhand Mry.Cknair:s.StBlogguy Parks are all wer\n",
      "----- diversity: 1.2\n",
      "----- Generating with seed: \"money aside to cover my loans.But Bobs m\"\n",
      "money aside to cover my loans.But Bobs might not get automatical.successful and scene, because the money ment, you  its spending as much the metro, ejust in my book, then the end for two months I was there.ShopsLegodyAnd I actuallyom as tiring ups that accommodation they imagine. Mexico, India, the Tour ReadyTown.Im barning a spot the kind of two years. And why, Ill admit to explain the hat just a service, iven you just cant anyone debi\n",
      "Epoch 00011: loss improved from 1.24193 to 1.23258, saving model to weights-improvement.hdf5\n",
      "1736088/1736088 [==============================] - 2742s - loss: 1.2326 - perplexity: 11874.4365 - val_loss: 1.2333 - val_perplexity: 12150.0076\n",
      "Epoch 13/15\n",
      "1735680/1736088 [============================>.] - ETA: 0s - loss: 1.2235 - perplexity: 11770.7532\n",
      "----- Generating text after Epoch: 12\n",
      "----- diversity: 0.2\n",
      "----- Generating with seed: \"Id also like to say that while they were\"\n",
      "Id also like to say that while they were there and the same thing that I was traveling and the problem where I was traveling and the same time I was able to stay at a country where I was traveling and the streets are not a good idea and the same thing I was still able to stay in the country and the tour of the world was the same to the streets and the last month is a bit of the streets and the post of the country where I was able to tra\n",
      "----- diversity: 0.5\n",
      "----- Generating with seed: \"Id also like to say that while they were\"\n",
      "Id also like to say that while they were happy to say the words of the destination and the staff are more exciting as a week and any person to help you tell you that I would never be able to have their books and that I should be the only time to say the country and I start traveling the world and that the food has a story and memorable restaurant on this place to get into the plane, so I have to want to need to stay in the past a decisi\n",
      "----- diversity: 1.0\n",
      "----- Generating with seed: \"Id also like to say that while they were\"\n",
      "Id also like to say that while they were an unique quality that is enorghed when we may be traveling and known about the motion? What I wasnt in Itwas the the tour of the Ceverion, the Instagram hold are stayed at home on delicious, people, twenty, locals exsitions, mvidees, and not interested in my streasthan a village breakfast and then then better to sit somewhere for me, though, I enjoy where that would be used to might never have a\n",
      "----- diversity: 1.2\n",
      "----- Generating with seed: \"Id also like to say that while they were\"\n"
     ]
    },
    {
     "name": "stdout",
     "output_type": "stream",
     "text": [
      "Id also like to say that while they were US downside, but its incredibly good without fraving ignork up again.The stuti sitting on, I give long-bulliar historic samans in the old other banks of Splorm refrestics on the US are some 300% admiriles:As Ive nevel entered a picture quality overgined with a general hall, and whatever to leave Thailand.What illway to me includes180ths for minimizations? Food, rorbedbrieth and goys, commandary, \n",
      "Epoch 00012: loss improved from 1.23258 to 1.22343, saving model to weights-improvement.hdf5\n",
      "1736088/1736088 [==============================] - 2742s - loss: 1.2234 - perplexity: 11770.3719 - val_loss: 1.2321 - val_perplexity: 12151.6224\n",
      "Epoch 14/15\n",
      "1735680/1736088 [============================>.] - ETA: 0s - loss: 1.2147 - perplexity: 11675.2727\n",
      "----- Generating text after Epoch: 13\n",
      "----- diversity: 0.2\n",
      "----- Generating with seed: \"rie:By far the most popular microbrewery\"\n",
      "rie:By far the most popular microbrewery of the country and the more I was able to stay in the country and the last minute of the country is that I was still a long time and the same time is that I was trying to stay at a place to stay in the streets and the local restaurants are a great place to see and the problem was that I was trying to see the world that I was trying to share the same time and the staff was a strong thing that I wa\n",
      "----- diversity: 0.5\n",
      "----- Generating with seed: \"rie:By far the most popular microbrewery\"\n",
      "rie:By far the most popular microbrewery store, the bus that I finally found it a since the site of the price of the country and when it was a second back in the beach on the way of the country is about the country and the feeling will be traveling? I started traveling and the art and with the guesthouse working on the country. And the next steps are good and there is a security the same time in the world and he had a great way to see a\n",
      "----- diversity: 1.0\n",
      "----- Generating with seed: \"rie:By far the most popular microbrewery\"\n",
      "rie:By far the most popular microbrewery.With her car or checks of me for 1.00 plots of is message whether they received that this ideaas would help me decide while this is all I do was generally no line.If there is no different information for the female travelers  everyone almost met Her full face, this is the year, I finally loved their own I would go no photos of the programs? Are the twice about my family from added by ahead of sit\n",
      "----- diversity: 1.2\n",
      "----- Generating with seed: \"rie:By far the most popular microbrewery\"\n",
      "rie:By far the most popular microbrewery showers. You get my gradina fee, so they shine enough, the way I love was the church, disapp. Mecon.The ten year I cant oman hand? Peacefolled a routine.Just go around Yelois twat-way I netwell about this company inever behind the advance: search or generalized a bit spending long-major daes, setting bozt photes5 souping turned off each year, Buqyine is, just a great cloivy, for heading to Mercoe\n",
      "Epoch 00013: loss improved from 1.22343 to 1.21464, saving model to weights-improvement.hdf5\n",
      "1736088/1736088 [==============================] - 2744s - loss: 1.2146 - perplexity: 11674.9417 - val_loss: 1.2287 - val_perplexity: 12144.2095\n",
      "Epoch 15/15\n",
      "1735680/1736088 [============================>.] - ETA: 0s - loss: 1.2077 - perplexity: 11600.6465\n",
      "----- Generating text after Epoch: 14\n",
      "----- diversity: 0.2\n",
      "----- Generating with seed: \" I had none and so she quickly recommend\"\n",
      " I had none and so she quickly recommend that the fact that I was still able to travel and the only thing I was in the world and I was able to stay in the street of the country and the language of the streets are the best place to stay in the beach in the country and the rest of the world is not a post of the street and the tour of the country is all about the problem and the status of the street is all about the rest of the world and t\n",
      "----- diversity: 0.5\n",
      "----- Generating with seed: \" I had none and so she quickly recommend\"\n",
      " I had none and so she quickly recommend that the world of the country, that we had a country that is the contract with the regood of the country and the short location of the areas in the world when the world is more than one post of the computer who wants to know that the beautiful hostel derilize the chances that the short really has been to the world with the great variety of the street line or while the language as much as I would \n",
      "----- diversity: 1.0\n",
      "----- Generating with seed: \" I had none and so she quickly recommend\"\n",
      " I had none and so she quickly recommend from exercises for some of you in lanes, there were surprising a writer, programs, high-deal travel requires cheap and mind that if this doesnt matter where it just has made is of Medicon Southern ( 1          and and Sri 6-na> The Becaure And then I charge a long-lay trip to Japan, and I am, much longer of course everyone is pushing their trip  while pretty bloog around I asked an upon our high-\n",
      "----- diversity: 1.2\n",
      "----- Generating with seed: \" I had none and so she quickly recommend\"\n",
      " I had none and so she quickly recommend? You also know who would look babely edit, made more language follies corgeriatules.Blanksayway, Ounta Ki$ Kive of Tonye,Id:Just ha cains New Youk GrandicThis was a gear to understand those who want to know in this momest of wissoes caught away.Traveling in GuideAnvilla: ship Fol one new kitchens Mistal (cavinasui, Muchiali) sayWive!GoTI Watch. Set at masint because Im in me requires a good.(Book\n",
      "Epoch 00014: loss improved from 1.21464 to 1.20766, saving model to weights-improvement.hdf5\n",
      "1736088/1736088 [==============================] - 2743s - loss: 1.2077 - perplexity: 11600.2428 - val_loss: 1.2270 - val_perplexity: 12114.6346\n"
     ]
    }
   ],
   "source": [
    "print_callback = LambdaCallback(on_epoch_end=on_epoch_end)\n",
    "\n",
    "result = model.fit(x, y,\n",
    "          batch_size=512,\n",
    "          epochs=15,\n",
    "          validation_split=0.20,\n",
    "          shuffle=False,\n",
    "          callbacks=[print_callback, checkpoint])"
   ]
  },
  {
   "cell_type": "code",
   "execution_count": 16,
   "metadata": {},
   "outputs": [
    {
     "data": {
      "image/png": "[encoded data removed]",
      "text/plain": [
       "<matplotlib.figure.Figure at 0x7f07103f1e90>"
      ]
     },
     "metadata": {},
     "output_type": "display_data"
    }
   ],
   "source": [
    "pyplot.figure(figsize=(16,5))\n",
    "\n",
    "\n",
    "# sp1\n",
    "pyplot.subplot(121)\n",
    "pyplot.plot(result.history[\"loss\"])\n",
    "pyplot.plot(result.history[\"val_loss\"])\n",
    "pyplot.title('Train vs validation loss')\n",
    "pyplot.xlabel('no. of epochs')\n",
    "pyplot.ylabel('Loss score')\n",
    "pyplot.legend(['train', 'validation'], loc='upper right')\n",
    "\n",
    "# sp2\n",
    "pyplot.subplot(122)\n",
    "pyplot.plot(result.history[\"perplexity\"])\n",
    "pyplot.plot(result.history[\"val_perplexity\"])\n",
    "pyplot.title('Train vs validation perplexity')\n",
    "pyplot.xlabel('no. of epochs')\n",
    "pyplot.ylabel('Perplexity score')\n",
    "pyplot.legend(['train', 'validation'], loc='upper right')\n",
    "\n",
    "pyplot.tight_layout()\n",
    "\n",
    "pyplot.show()"
   ]
  }
 ],
 "metadata": {
  "kernelspec": {
   "display_name": "Python 2",
   "language": "python",
   "name": "python2"
  },
  "language_info": {
   "codemirror_mode": {
    "name": "ipython",
    "version": 2
   },
   "file_extension": ".py",
   "mimetype": "text/x-python",
   "name": "python",
   "nbconvert_exporter": "python",
   "pygments_lexer": "ipython2",
   "version": "2.7.12"
  }
 },
 "nbformat": 4,
 "nbformat_minor": 2
}
