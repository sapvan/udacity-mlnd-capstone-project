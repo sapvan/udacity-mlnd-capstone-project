{
 "cells": [
  {
   "cell_type": "markdown",
   "metadata": {},
   "source": [
    "# Auto-generate travel blogs "
   ]
  },
  {
   "cell_type": "code",
   "execution_count": 9,
   "metadata": {
    "collapsed": true
   },
   "outputs": [],
   "source": [
    "'''Example script to generate blogging text from nomadic matt's blog.\n",
    "\n",
    "Starting off by training a simple model with very little text\n",
    "'''\n",
    "\n",
    "from __future__ import print_function\n",
    "\n",
    "from keras.callbacks import LambdaCallback\n",
    "from keras.models import Sequential\n",
    "from keras.layers import Dense, Activation, LSTM, Flatten, Dropout, TimeDistributed\n",
    "from keras.optimizers import RMSprop\n",
    "from keras.utils.data_utils import get_file\n",
    "from keras.callbacks import ModelCheckpoint\n",
    "import keras.backend as K\n",
    "\n",
    "from matplotlib import pyplot\n",
    "import seaborn as sns\n",
    "import numpy as np\n",
    "import pandas as pd\n",
    "import random\n",
    "import sys\n",
    "import io\n",
    "import re\n",
    "\n",
    "from collections import Counter\n",
    "\n",
    "%matplotlib inline"
   ]
  },
  {
   "cell_type": "code",
   "execution_count": 10,
   "metadata": {
    "collapsed": true
   },
   "outputs": [],
   "source": [
    "# Download over a network\n",
    "# path = get_file('output.txt', origin='https://www......')\n",
    "# with io.open(path, encoding='utf-8') as f:\n",
    "#     text = f.read().lower()\n",
    "\n",
    "text = ''\n",
    "with open(\"blog.txt\", 'r') as content_file:\n",
    "    for line in content_file.readlines():\n",
    "        text += line"
   ]
  },
  {
   "cell_type": "markdown",
   "metadata": {},
   "source": [
    "## Data preprocessing"
   ]
  },
  {
   "cell_type": "code",
   "execution_count": 11,
   "metadata": {},
   "outputs": [
    {
     "name": "stdout",
     "output_type": "stream",
     "text": [
      "Total raw text chars: 6654892\n",
      "total vocab: 155\n",
      "['\\n', ' ', '!', '\"', '#', '$', '%', '&', \"'\", '(', ')', '*', '+', ',', '-', '.', '/', '0', '1', '2', '3', '4', '5', '6', '7', '8', '9', ':', ';', '<', '=', '>', '?', '@', 'A', 'B', 'C', 'D', 'E', 'F', 'G', 'H', 'I', 'J', 'K', 'L', 'M', 'N', 'O', 'P', 'Q', 'R', 'S', 'T', 'U', 'V', 'W', 'X', 'Y', 'Z', '[', '\\\\', ']', '^', '_', 'a', 'b', 'c', 'd', 'e', 'f', 'g', 'h', 'i', 'j', 'k', 'l', 'm', 'n', 'o', 'p', 'q', 'r', 's', 't', 'u', 'v', 'w', 'x', 'y', 'z', '{', '|', '}', '~', '¡', '£', '®', '°', '±', '´', '¼', '½', 'Á', 'Å', 'Ç', 'É', 'Í', 'Î', '×', 'ß', 'à', 'á', 'â', 'ã', 'ä', 'å', 'æ', 'ç', 'è', 'é', 'ê', 'ì', 'í', 'ï', 'ð', 'ñ', 'ò', 'ó', 'ô', 'ö', 'ø', 'ú', 'û', 'ü', 'ý', 'ā', 'ī', 'ı', 'ş', 'š', '́', '–', '—', '‘', '’', '“', '”', '…', '″', '€', '✓', '😉', '🙁', '🙂']\n"
     ]
    }
   ],
   "source": [
    "def print_stats(text, chars):\n",
    "    print('Total raw text chars:', len(text))    \n",
    "    print('total vocab:', len(chars))\n",
    "    print(chars)\n",
    "    \n",
    "chars = sorted(list(set(text)))\n",
    "print_stats(text, chars)"
   ]
  },
  {
   "cell_type": "markdown",
   "metadata": {},
   "source": [
    "The total vocab for this text comes to about 75 unique characters. Most of them are not required and can be removed. We shall cleanup the text to retain only ASCII characters and convert all alphabets to lowercase, which reduces the text size and brings down the vocab count."
   ]
  },
  {
   "cell_type": "code",
   "execution_count": 12,
   "metadata": {},
   "outputs": [
    {
     "name": "stdout",
     "output_type": "stream",
     "text": [
      "Total raw text chars: 6614263\n",
      "total vocab: 69\n",
      "['\\n', ' ', '!', '\"', '#', '$', '%', '&', \"'\", '(', ')', '*', '+', ',', '-', '.', '/', '0', '1', '2', '3', '4', '5', '6', '7', '8', '9', ':', ';', '<', '=', '>', '?', '@', '[', '\\\\', ']', '^', '_', 'a', 'b', 'c', 'd', 'e', 'f', 'g', 'h', 'i', 'j', 'k', 'l', 'm', 'n', 'o', 'p', 'q', 'r', 's', 't', 'u', 'v', 'w', 'x', 'y', 'z', '{', '|', '}', '~']\n"
     ]
    }
   ],
   "source": [
    "def get_ASCII_text(text):\n",
    "    return re.sub(r'[^\\x00-\\x7F]+','', text)\n",
    "\n",
    "text = get_ASCII_text(text).lower()\n",
    "chars = sorted(list(set(text)))\n",
    "print_stats(text, chars)"
   ]
  },
  {
   "cell_type": "markdown",
   "metadata": {},
   "source": [
    "You can see that there are some more characters that we could remove to further clean up the dataset that will reduce the vocabulary and may improve the modeling process."
   ]
  },
  {
   "cell_type": "code",
   "execution_count": 13,
   "metadata": {},
   "outputs": [
    {
     "name": "stdout",
     "output_type": "stream",
     "text": [
      "Total raw text chars: 6510373\n",
      "total vocab: 57\n",
      "[' ', '!', '\"', '#', '$', '%', '(', ')', '*', '+', ',', '-', '.', '0', '1', '2', '3', '4', '5', '6', '7', '8', '9', ':', ';', '<', '=', '>', '?', '@', 'a', 'b', 'c', 'd', 'e', 'f', 'g', 'h', 'i', 'j', 'k', 'l', 'm', 'n', 'o', 'p', 'q', 'r', 's', 't', 'u', 'v', 'w', 'x', 'y', 'z', '|']\n"
     ]
    }
   ],
   "source": [
    "chars_to_remove = ['&', '[', ']', '\\\\', '^', '_', '`', '{', '}', '~', \"'\", '/', '\\n']\n",
    "\n",
    "for ch in chars_to_remove:\n",
    "    if ch in text:\n",
    "        text = text.replace(ch, '')\n",
    "        \n",
    "chars = sorted(list(set(text)))\n",
    "print_stats(text, chars)"
   ]
  },
  {
   "cell_type": "markdown",
   "metadata": {},
   "source": [
    "To prepare data for modelling by the neural network, we cannot model the characters directly. We should first convert the characters to integers. This can be done by mapping every character to an integer. \n",
    "\n",
    "Also, when preparing the mapping of unique characters to integers, we must also create a reverse mapping that we can use to convert the integers back to characters so that we can understand the predictions."
   ]
  },
  {
   "cell_type": "code",
   "execution_count": 14,
   "metadata": {
    "collapsed": true
   },
   "outputs": [],
   "source": [
    "char_indices = dict((c, i) for i, c in enumerate(chars))\n",
    "indices_char = dict((i, c) for i, c in enumerate(chars))"
   ]
  },
  {
   "cell_type": "markdown",
   "metadata": {},
   "source": [
    "We now need to define the training data for the network. There is a lot of flexibility in how we choose to break up the text and expose it to the network during training.\n",
    "We shall split the blog text into subsequences of 40 characters. We shall slide this window of 100 characters along the entire blog text, jumping 3 characters at every stride."
   ]
  },
  {
   "cell_type": "code",
   "execution_count": 15,
   "metadata": {},
   "outputs": [
    {
     "name": "stdout",
     "output_type": "stream",
     "text": [
      "nb sequences: 2170111\n"
     ]
    }
   ],
   "source": [
    "# cut the text in semi-redundant sequences of maxlen characters\n",
    "maxlen = 40\n",
    "step = 3\n",
    "sentences = []\n",
    "next_chars = []\n",
    "for i in range(0, len(text) - maxlen, step):\n",
    "    sentences.append(text[i: i + maxlen])\n",
    "    next_chars.append(text[i + maxlen])\n",
    "print('nb sequences:', len(sentences))"
   ]
  },
  {
   "cell_type": "markdown",
   "metadata": {},
   "source": [
    "## Visualization"
   ]
  },
  {
   "cell_type": "code",
   "execution_count": 16,
   "metadata": {},
   "outputs": [
    {
     "data": {
      "image/png": "[encoded data removed]",
      "text/plain": [
       "<matplotlib.figure.Figure at 0x7f4da09298d0>"
      ]
     },
     "metadata": {},
     "output_type": "display_data"
    }
   ],
   "source": [
    "text_len = len(text)\n",
    "\n",
    "char_frequency_counter = Counter()\n",
    "char_frequency_counter += Counter(text)\n",
    "\n",
    "char_frequency_dataframe = pd.DataFrame.from_dict(char_frequency_counter, orient='index').reset_index()\n",
    "char_frequency_dataframe = char_frequency_dataframe.rename(columns={'index':'characters', 0:'count'})\n",
    "order_of_chars = ['a', 'b', 'c', 'd', 'e', 'f', 'g', 'h', 'i', 'j', 'k', 'l', 'm', 'n', 'o', 'p', 'q', 'r', 's', 't', 'u', 'v', 'w', 'x', 'y', 'z','|', '!', '\"', '#', '$', '%', '(', ')', '*', '+', ',', '-', '.', '0', '1', '2', '3', '4', '5', '6', '7', '8', '9', ':', ';', '<', '=', '>', '?', '@', ' ']\n",
    "\n",
    "pyplot.figure(figsize=(16,4))\n",
    "pyplot.title('Distribution of characters in input data')\n",
    "pyplot.ylabel('Frequency [%]')\n",
    "ax = sns.barplot(x=char_frequency_dataframe[\"characters\"], y=char_frequency_dataframe[\"count\"], \n",
    "            order=order_of_chars, estimator=lambda y: (y / text_len) * 100)"
   ]
  },
  {
   "cell_type": "markdown",
   "metadata": {},
   "source": [
    "## One-hot encoding"
   ]
  },
  {
   "cell_type": "markdown",
   "metadata": {},
   "source": [
    "First we must transform the list of input sequences into the form [samples, time steps, features] expected by an LSTM network. Next we need to rescale the integers to the range 0-to-1 to make the patterns easier to learn by the LSTM network that uses the sigmoid activation function by default. In order to do that, we shall one-hot encode the input sequences by creating a 3-dimensional matrix representation of sentences:\n",
    "* The 1st dimension is the total of all sentences (nb sequences).\n",
    "* The 2nd dimension is the length of each sentence, in our case 40\n",
    "* The 3rd dimension is the length of total vocab/unique characters, in our case 59.\n",
    "\n",
    "The output consists of a one-hot encoded 2-dimensional matrix. \n",
    "* The 1st dimension remains the same as input.\n",
    "* The 2nd dimension has the length of total vocab/unique characters.\n",
    "\n",
    "The output pair tells the next char for every input pair."
   ]
  },
  {
   "cell_type": "code",
   "execution_count": 17,
   "metadata": {},
   "outputs": [
    {
     "name": "stdout",
     "output_type": "stream",
     "text": [
      "Vectorization...\n",
      "Total patterns 2170111\n",
      "Input vector shape (2170111, 40, 57)\n",
      "Output vector shape (2170111, 57)\n"
     ]
    }
   ],
   "source": [
    "print('Vectorization...')\n",
    "x = np.zeros((len(sentences), maxlen, len(chars)), dtype=np.bool)\n",
    "y = np.zeros((len(sentences), len(chars)), dtype=np.bool)\n",
    "for i, sentence in enumerate(sentences):\n",
    "    for t, char in enumerate(sentence):\n",
    "        x[i, t, char_indices[char]] = 1\n",
    "    y[i, char_indices[next_chars[i]]] = 1\n",
    "print(\"Total patterns\", len(x))\n",
    "print(\"Input vector shape\", x.shape)\n",
    "print(\"Output vector shape\", y.shape)"
   ]
  },
  {
   "cell_type": "markdown",
   "metadata": {},
   "source": [
    "## Building and running the model"
   ]
  },
  {
   "cell_type": "code",
   "execution_count": 44,
   "metadata": {
    "collapsed": true
   },
   "outputs": [],
   "source": [
    "# build the model: a single LSTM\n",
    "model = Sequential()\n",
    "model.add(LSTM(64, input_shape=(x.shape[1], x.shape[2]))) #, return_sequences=True))\n",
    "model.add(Dense(y.shape[1]))\n",
    "model.add(Activation('softmax'))"
   ]
  },
  {
   "cell_type": "code",
   "execution_count": 45,
   "metadata": {
    "collapsed": true
   },
   "outputs": [],
   "source": [
    "def perplexity(y_true, y_pred):\n",
    "    cross_entropy = K.categorical_crossentropy(y_true, y_pred)\n",
    "    perplexity = K.pow(2.0, cross_entropy)\n",
    "    return perplexity\n",
    "\n",
    "optimizer = 'adam'# RMSprop(lr=0.01)\n",
    "model.compile(loss='categorical_crossentropy', optimizer=optimizer, metrics=[perplexity])"
   ]
  },
  {
   "cell_type": "code",
   "execution_count": 46,
   "metadata": {
    "collapsed": true
   },
   "outputs": [],
   "source": [
    "# Add a model checkpoint\n",
    "filepath=\"weights-improvement.hdf5\"\n",
    "checkpoint = ModelCheckpoint(filepath, monitor='loss', verbose=1, save_best_only=True, mode='min')"
   ]
  },
  {
   "cell_type": "markdown",
   "metadata": {},
   "source": [
    "### Generating Text with an LSTM Network\n",
    "\n",
    "The simplest way to use the Keras LSTM model to make predictions is to first start off with a seed sequence as input, generate the next character then update the seed sequence to add the generated character on the end and trim off the first character. This process is repeated for as long as we want to predict new characters (e.g. a sequence of 400 characters in length).\n",
    "\n",
    "We can pick a random input pattern as our seed sequence, then print generated characters as we generate them."
   ]
  },
  {
   "cell_type": "code",
   "execution_count": 22,
   "metadata": {
    "collapsed": true
   },
   "outputs": [],
   "source": [
    "def sample(preds, temperature=1.0):\n",
    "    # helper function to sample an index from a probability array\n",
    "    preds = np.asarray(preds).astype('float64')\n",
    "    preds = np.log(preds) / temperature\n",
    "    exp_preds = np.exp(preds)\n",
    "    preds = exp_preds / np.sum(exp_preds)\n",
    "    probas = np.random.multinomial(1, preds, 1)\n",
    "    return np.argmax(probas)"
   ]
  },
  {
   "cell_type": "code",
   "execution_count": 23,
   "metadata": {
    "collapsed": true
   },
   "outputs": [],
   "source": [
    "def on_epoch_end(epoch, logs):\n",
    "    # Function invoked at end of each epoch. Prints generated text.\n",
    "    print()\n",
    "    print('----- Generating text after Epoch: %d' % epoch)\n",
    "\n",
    "    start_index = random.randint(0, len(text) - maxlen - 1)\n",
    "    for diversity in [0.2, 0.5, 1.0, 1.2]:\n",
    "        print('----- diversity:', diversity)\n",
    "\n",
    "        generated = ''\n",
    "        sentence = text[start_index: start_index + maxlen]\n",
    "        generated += sentence\n",
    "        print('----- Generating with seed: \"' + sentence + '\"')\n",
    "        sys.stdout.write(generated)\n",
    "\n",
    "        for i in range(400):\n",
    "            x_pred = np.zeros((1, maxlen, len(chars)))\n",
    "            for t, char in enumerate(sentence):\n",
    "                x_pred[0, t, char_indices[char]] = 1.\n",
    "\n",
    "            preds = model.predict(x_pred, verbose=0)[0]\n",
    "            next_index = sample(preds, diversity)\n",
    "            next_char = indices_char[next_index]\n",
    "\n",
    "            generated += next_char\n",
    "            sentence = sentence[1:] + next_char\n",
    "\n",
    "            sys.stdout.write(next_char)\n",
    "            sys.stdout.flush()\n",
    "        print()"
   ]
  },
  {
   "cell_type": "code",
   "execution_count": 47,
   "metadata": {},
   "outputs": [
    {
     "name": "stdout",
     "output_type": "stream",
     "text": [
      "Train on 1302066 samples, validate on 868045 samples\n",
      "Epoch 1/10\n",
      "1302016/1302066 [============================>.] - ETA: 0s - loss: 2.1045 - perplexity: 21981.6486\n",
      "----- Generating text after Epoch: 0\n",
      "----- diversity: 0.2\n",
      "----- Generating with seed: \"ee temples. theyre just a bonus. you rea\"\n",
      "ee temples. theyre just a bonus. you really has the sister to the was the and the bet and the was the searing a for a dont the site the site to my the conting and the some to the comple to the counter on the searien and can the was to the conter and comple the country and and the and the most the sand to seare and the comple in the condent to the parien a det of the can the site to sear and comper and and a for a deare to the will the s\n",
      "----- diversity: 0.5\n",
      "----- Generating with seed: \"ee temples. theyre just a bonus. you rea\"\n",
      "ee temples. theyre just a bonus. you read the orew pait cousting the soments to the to the with a got no mone of the amout the best dont and a becoment it to periens. it with you can sestent a but bet after going the cond to kid you can lacked a many to a conters and the comple conding a debront are a deadion and come to know to dears and server and i got a day and a a moctration start the sight on the erough in the more becanure and th\n",
      "----- diversity: 1.0\n",
      "----- Generating with seed: \"ee temples. theyre just a bonus. you rea\"\n",
      "ee temples. theyre just a bonus. you real oven the inthic deally acches on its on.i, where. a afver percenblitte the hidget.ook habse fich with idstantha frok, by sholh, kecpinia on aty in its prach): that your buatet wait, and my colpent squernents beeling for as evencelf ourserured to all aming)s and wich trate, aide.wiplture the chick, hible.was bight book tree coul and backay of the frest mo all aftey in a days, not at medeaciop at \n",
      "----- diversity: 1.2\n",
      "----- Generating with seed: \"ee temples. theyre just a bonus. you rea\"\n",
      "ee temples. theyre just a bonus. you readian with a shendels, his i wan becaull texis, eaptre and is and you reincl, a-diwny ustoll reporl.cearie, get bat fre). the simply soces. her clttion lbaydxa0bave to secul frowned on travolm ffrty hewofs. and choman sose beftraiciense-ricapintim, beepsed ble thand theatiog sooa be vieling trankly hpoim, aws ytra!tears ascoutwite the abook cme.in dac?in to a praccre coln falf as phoces or ow heang\n",
      "Epoch 00000: loss improved from inf to 2.10446, saving model to weights-improvement.hdf5\n",
      "1302066/1302066 [==============================] - 1342s - loss: 2.1045 - perplexity: 21981.6661 - val_loss: 1.8781 - val_perplexity: 18722.8334\n",
      "Epoch 2/10\n",
      "1302016/1302066 [============================>.] - ETA: 0s - loss: 1.8135 - perplexity: 17931.8802\n",
      "----- Generating text after Epoch: 1\n",
      "----- diversity: 0.2\n",
      "----- Generating with seed: \"le here.)have you been to israel? how wa\"\n",
      "le here.)have you been to israel? how was to the can the best to the best of the to the world to the the come to the contine and the conter the more to the and the card to the beations and want to the comment and the contine to the world to the conter to the contine of the site the san the contrance the contions and the travel and the conter and the proces the for the best of the contrant to the parting to the contine and the contine of\n",
      "----- diversity: 0.5\n",
      "----- Generating with seed: \"le here.)have you been to israel? how wa\"\n",
      "le here.)have you been to israel? how was the corl to the part for the dont and the one barget the any contional with the wont out to the beints price of the hare and verieding the parns to really the contries becter a lot go to the atarted the connerted the book and its the around and searies, on the site to the food to the get of the contine to get to zearnd and get of the for travelers when you can the was to the commenter ont on the\n",
      "----- diversity: 1.0\n",
      "----- Generating with seed: \"le here.)have you been to israel? how wa\"\n",
      "le here.)have you been to israel? how wayche poil ply rimonted to  world, but to get the will bearicaxa0linding no bejond, chact of tramnd and good my my biriting of my friend. im.monden about fee thend ourlmy from there doorly awryadelored curdent-bamade vied overnound ter. a vamedic, and pickos my vination, us in from $20 price). it carical sheapolite evence is outdishion!artervelly experiels. they gutternestertheat. i we, and proar a\n",
      "----- diversity: 1.2\n",
      "----- Generating with seed: \"le here.)have you been to israel? how wa\"\n",
      "le here.)have you been to israel? how wayed onber sepas stybalt and consem notiax threetomy (monthing crumge:,3 forivice! everywher mostope, +173fer andisunts over from-mure usay a otked.foud laarar procevery; you sad, +and actwatientymera bars. rivence  and more of lan lessicanglenien. pace custinedves arquers. pos varited to hees ousdvels enobst.is iepter, endowing on way, both than stor-a0tahe:xasm missuch-ssoip, comebs hand! upsts i\n",
      "Epoch 00001: loss improved from 2.10446 to 1.81348, saving model to weights-improvement.hdf5\n",
      "1302066/1302066 [==============================] - 1307s - loss: 1.8135 - perplexity: 17931.9801 - val_loss: 1.7743 - val_perplexity: 17433.0600\n",
      "Epoch 3/10\n",
      "1302016/1302066 [============================>.] - ETA: 0s - loss: 1.7296 - perplexity: 16938.9487\n",
      "----- Generating text after Epoch: 2\n",
      "----- diversity: 0.2\n",
      "----- Generating with seed: \"m the impossibly long days and the unhap\"\n",
      "m the impossibly long days and the unhappers and a beant to the site the searn and the really in a be a see the contine the contination and the country and the conter the really to the contrance the sees to the same the signt the contrance the searn a lot of the contrances and the consent to make the card the really and the contures and the first the simes and the best to the contine the sees and see the conter the consent the countries\n",
      "----- diversity: 0.5\n",
      "----- Generating with seed: \"m the impossibly long days and the unhap\"\n",
      "m the impossibly long days and the unhappers and the contort so because it get to find they we to food the conment that the sharted to intranting the searny are going in soment airpany to all planed the was the city to a dist to the experience the cast to stard about the end to me to get the travel to signt for and to be something the really this wes seep a more and and firly in the from and with the feelly the care chunger to make the \n",
      "----- diversity: 1.0\n",
      "----- Generating with seed: \"m the impossibly long days and the unhap\"\n",
      "m the impossibly long days and the unhappernegeatteriem and vietycrecthe youes for eaply. in tach. i neteturies for undlys and artands an huts, wormen the mostoostimiendess, lot out bering up for more workons, and theres in the know not sime recobsogecturces as i echilled a know that to figrardory te dere is long there, i never statioss, are we will pack that before it confind youre, a few recotookexperia ammerine what card and geirled \n",
      "----- diversity: 1.2\n",
      "----- Generating with seed: \"m the impossibly long days and the unhap\"\n",
      "m the impossibly long days and the unhappee!, andile, this aroh, andongand and reall as moriticating yourn l!ford hew kues, othe? hourl, up compans) for have very-facidennt,ura0thep placions cheiding.to sevearing ating hid everknoi leads becauch thand  with yoo 50-15 uw apounts, and, know that nigablot asy fimed yoo ited shis mards, ma. ang, owrendle, i wealing accaoe? ixticconetion. much as recias from tour guydite gaden clactly. there\n",
      "Epoch 00002: loss improved from 1.81348 to 1.72959, saving model to weights-improvement.hdf5\n",
      "1302066/1302066 [==============================] - 1336s - loss: 1.7296 - perplexity: 16938.8701 - val_loss: 1.7161 - val_perplexity: 16739.6067\n",
      "Epoch 4/10\n",
      "1302016/1302066 [============================>.] - ETA: 0s - loss: 1.6820 - perplexity: 16386.1268\n",
      "----- Generating text after Epoch: 3\n",
      "----- diversity: 0.2\n",
      "----- Generating with seed: \"nion, keeps you purposeful and out of ha\"\n"
     ]
    },
    {
     "name": "stdout",
     "output_type": "stream",
     "text": [
      "nion, keeps you purposeful and out of hand to start to started to get the come some the sear the start to the country in the come street the care the most of the many of the world and the card to see the street to see the start the come to should the sittle and and the best of the the be the travel and the best and the country in the country the country and the same the partally in the world to start to the months and the most the trave\n",
      "----- diversity: 0.5\n",
      "----- Generating with seed: \"nion, keeps you purposeful and out of ha\"\n",
      "nion, keeps you purposeful and out of hard the parries and hough on the tour and i dont food the perming that is to money and parkers and sake in the books of the come actical the best have and i want to as the fite of the find of travel to many of the macking offer to the like i know and that to see the landent were do a lanny to still beht we kidd the many a leavern of the beating of my take keep the be to go to get the fires we are t\n",
      "----- diversity: 1.0\n",
      "----- Generating with seed: \"nion, keeps you purposeful and out of ha\"\n",
      "nion, keeps you purposeful and out of harevent other yourenourict hoving whan just a thense to cheal. this junkamaps youre least offering with come do the pusicic bors of almod tolle beerselfacct on the solded trade and interally vala is lonite. is of elferbul pann rough.vishing to quietes long us assome nomally the omale mogers-did, halon local casy local flight your mandive us over new my taming story (and the can to shoramonac (shill\n",
      "----- diversity: 1.2\n",
      "----- Generating with seed: \"nion, keeps you purposeful and out of ha\"\n",
      "nion, keeps you purposeful and out of hand, wopliphts in thingefut as yow.!dadh, my fomillage, to travel.hadorwife and allation. andie jostinely my favoritringwerce or 1% om office:foldahi is suceing, there: beer makes(wetcombeckon.the sutt. the odeding able upprays tohing the cormfroagowing bu:get barg, but sparior glob, walk!get) to sayds, soma.ea atoplatisural zos?befincing.as befulum whent.lot, attrandlers as advirey to phoslachythi\n",
      "Epoch 00003: loss improved from 1.72959 to 1.68200, saving model to weights-improvement.hdf5\n",
      "1302066/1302066 [==============================] - 1321s - loss: 1.6820 - perplexity: 16386.2395 - val_loss: 1.6818 - val_perplexity: 16419.2582\n",
      "Epoch 5/10\n",
      "1301952/1302066 [============================>.] - ETA: 0s - loss: 1.6499 - perplexity: 16011.4284\n",
      "----- Generating text after Epoch: 4\n",
      "----- diversity: 0.2\n",
      "----- Generating with seed: \" made by the us department of state whil\"\n",
      " made by the us department of state while the best to the best and the started to the started to the best a lot of the best a lot of the best to stay and the start to stay to the best the first and the come the best and the best do the start to started to the best a lot of the best travel and into the best a be a started to stay and the best me a be a see a lot of the best and a lot of the best place and the best to the best properts an\n",
      "----- diversity: 0.5\n",
      "----- Generating with seed: \" made by the us department of state whil\"\n",
      " made by the us department of state while the complete to the trip and as the park you are may to see to sees of the from the restaurant the group in the country to stay that she travelers and the best was tips that to the contont only the perfect, the best to the complet in the dont really to the strounsiviculity and all the first start the propect the sure travelers, but i last places and suncen actination of your travel the not of ho\n",
      "----- diversity: 1.0\n",
      "----- Generating with seed: \" made by the us department of state whil\"\n",
      " made by the us department of state while or tumpred. we cool trip (no made really, regireled museion aill dasperies, this us to go only list options me doyst aircical bligh(photo.you cantcanntages.rest un sem, there who know.us to taking that do you lout pensling to signienst in unfren calles, to shamina qually on to with complece to come:budds: is shot gars of anys weeks backs, cry to with this , spaces. thom.sploc plagrends spence an\n",
      "----- diversity: 1.2\n",
      "----- Generating with seed: \" made by the us department of state whil\"\n",
      " made by the us department of state while specleble a sestend, exthuking much mont.go apthards ! do hi can giona inconitytive frant hassabitionmenk in restaurar, a queence, seviles renarescaus. it buy roin because for they look us! somethi was mubok willines buy after.there, storienda.their steptrest learned.bakive.xa0lays your okive pue!a enceuntriens, you can yougither prew toublel ofpteajing burs; everyance somellay has doontest me d\n",
      "Epoch 00004: loss improved from 1.68200 to 1.64990, saving model to weights-improvement.hdf5\n",
      "1302066/1302066 [==============================] - 1303s - loss: 1.6499 - perplexity: 16011.6253 - val_loss: 1.6578 - val_perplexity: 16047.6276\n",
      "Epoch 6/10\n",
      "1302016/1302066 [============================>.] - ETA: 0s - loss: 1.6265 - perplexity: 15743.2633\n",
      "----- Generating text after Epoch: 5\n",
      "----- diversity: 0.2\n",
      "----- Generating with seed: \"uire the gorilla trekking permit. they d\"\n",
      "uire the gorilla trekking permit. they do the can state the best of the find the can all the start to be a more the start to the country"
     ]
    },
    {
     "name": "stderr",
     "output_type": "stream",
     "text": [
      "/home/vandy/anaconda3/envs/blog-bot/lib/python3.6/site-packages/ipykernel_launcher.py:4: RuntimeWarning: divide by zero encountered in log\n",
      "  after removing the cwd from sys.path.\n"
     ]
    },
    {
     "name": "stdout",
     "output_type": "stream",
     "text": [
      " and the short the best a lot of the world and the best a lot of the best a lot of the company of the the best a lot of the best to the do the same and the really to stay and the country to the care the start to be a seach of the more the best a little the best came and the country the best of the count\n",
      "----- diversity: 0.5\n",
      "----- Generating with seed: \"uire the gorilla trekking permit. they d\"\n",
      "uire the gorilla trekking permit. they dont count, i look to the contails in the tourister learned a seroon and her it will big of the the two for a travel and we doriend the world the best of the account of the different the the exactly the mile of the seach of really do see a came to see the change the book and be site the best the best can engle the not a little restaurants, by have to travel all the trip to experies and make i was a\n",
      "----- diversity: 1.0\n",
      "----- Generating with seed: \"uire the gorilla trekking permit. they d\"\n",
      "uire the gorilla trekking permit. they dont retime or there. offate often sitter foug and inve signing theyve amagerad in orestain flete: aclive the didy. then kontal read-money speriah, me alo seed to lass in thought zow. the good station but rim on in toury are again platerering easica! i cauntrit-vegarace. i a great and less reaversitions. here. make suncening with this busage, the put the bast pounce as a lettion of percini, anding \n",
      "----- diversity: 1.2\n",
      "----- Generating with seed: \"uire the gorilla trekking permit. they d\"\n",
      "uire the gorilla trekking permit. they do knazvative bucome ispupib.the drist up.giver how do 15. lovelytheahe days prigraz tows. vely ored of visam a visited and to dy an huggeverntion in gion:plos in the clowing budgety.)it to reathenek by my if im as a airced and branuge conveatele us, soop, puns about a 4,5-015)) why and gecorther ecoods become nom. it kinp.wish country poount on the will she 20bag, every over, comforteglt.what zoun\n",
      "Epoch 00005: loss improved from 1.64990 to 1.62646, saving model to weights-improvement.hdf5\n",
      "1302066/1302066 [==============================] - 1323s - loss: 1.6265 - perplexity: 15743.3752 - val_loss: 1.6410 - val_perplexity: 16029.0348\n",
      "Epoch 7/10\n",
      "1302016/1302066 [============================>.] - ETA: 0s - loss: 1.6084 - perplexity: 15533.0097\n",
      "----- Generating text after Epoch: 6\n",
      "----- diversity: 0.2\n",
      "----- Generating with seed: \"ravel overseas and volunteer. after seve\"\n",
      "ravel overseas and volunteer. after sever in the best and the world the sure to be a lot of the siture is a lot of the travel the experience is a lot of the world to stay and a sites and work and working the start the world with a the best area in the world to stay and the best and it offer the world in the site in the world the surround the world of the best the best the best and i want to really for the something to stay and the sumpi\n",
      "----- diversity: 0.5\n",
      "----- Generating with seed: \"ravel overseas and volunteer. after seve\"\n",
      "ravel overseas and volunteer. after seven offer we want to get the more about the park for for the that instical have the most of how do a discome as its a few your the your remerned to stay and i was of the guide in this bating of it as a lot of the travels with your all work and its a get the under for or with the time better all the want to should many was for good that i travel to should sup and experience i was suppent seams in the\n",
      "----- diversity: 1.0\n",
      "----- Generating with seed: \"ravel overseas and volunteer. after seve\"\n",
      "ravel overseas and volunteer. after severight abely hotel. there writhmantel ciny to spett gain or got. or more and its on the trip. to cent to or fun about anrall id whinge: the clopstake the momonging lifes a calped in the in how mooker here for somailingy seac zoiked langin muftitianway, and the reguroriatxa0i reso fill out 10xhonistan so overeaing aceont, we therow my lif centirass).no there are money. sturiaged to expenlited and ou\n",
      "----- diversity: 1.2\n",
      "----- Generating with seed: \"ravel overseas and volunteer. after seve\"\n",
      "ravel overseas and volunteer. after severing postoria rach issun-place.i dnator not, islong for an ingo,xasso then my onet aunturuelb, dawsyacheve just huwguss!staor:i datled not learned jubveron, stend im tent, byget-timentiry (is a coturepucty around reapiogs.and backs adrational kis: get  when its write is dovent.me your tike weeks: more of hirsta:of in prices of, eximor and $807.roptatian. againsany on traveling-oversesocles your fr\n",
      "Epoch 00006: loss improved from 1.62646 to 1.60836, saving model to weights-improvement.hdf5\n",
      "1302066/1302066 [==============================] - 1317s - loss: 1.6084 - perplexity: 15532.9487 - val_loss: 1.6275 - val_perplexity: 15756.3684\n",
      "Epoch 8/10\n",
      "1301952/1302066 [============================>.] - ETA: 0s - loss: 1.5940 - perplexity: 15371.7344\n",
      "----- Generating text after Epoch: 7\n",
      "----- diversity: 0.2\n",
      "----- Generating with seed: \" decided that i wanted to try and travel\"\n",
      " decided that i wanted to try and travel and show to get and street from the country and the conter and the local the place to stay and the street the country and stay and the complete and start to the conter and the country. i was street and be a see and the country and the country and the site that i was start to stay and a few your travel and start to stay and story and a community to the companies and the most of the country are and\n",
      "----- diversity: 0.5\n",
      "----- Generating with seed: \" decided that i wanted to try and travel\"\n",
      " decided that i wanted to try and travel for why who that the consted the more travel and (and the most pack and month for a month, but the site and mean at the still on the country to have a fact to the really see money of still accost traveling from this travel longer, and scent adventure on the the like the sites and the day to story season are and be a street, but the world in the charce you all you have a course i had you can get o\n",
      "----- diversity: 1.0\n",
      "----- Generating with seed: \" decided that i wanted to try and travel\"\n",
      " decided that i wanted to try and travels whs what whe like this gueduran feel also dow, and except in ice eary (foricumscenly, in daykne and leve gay from these your first resourchmerted at all the univent do these find a tod since the for lass off-few weat mock about the countries with witch cardson, and was fich ato for edencesix masse to sim roneer with like mexus see:it.verions with a creates! least bet etst holen be cale. artauchs\n",
      "----- diversity: 1.2\n",
      "----- Generating with seed: \" decided that i wanted to try and travel\"\n",
      " decided that i wanted to try and travels, and  whothing dod swede?the hustly. a cousd, the goal rocaling joariching manley, muchtalacces.localstips engooddt yeeps coothed to shill to flow a runch chablet:$10appomba lopubsol camst fanouncancifal.vacates to. whookilature retelf you austin or day and almost 6. is get year. i knoothe dignethorvy bach), just emardth and get onco lead thrigget in the found the world-contals and lualtering, a\n",
      "Epoch 00007: loss improved from 1.60836 to 1.59405, saving model to weights-improvement.hdf5\n",
      "1302066/1302066 [==============================] - 1260s - loss: 1.5941 - perplexity: 15371.8759 - val_loss: 1.6168 - val_perplexity: 15661.9012\n",
      "Epoch 9/10\n",
      "1301952/1302066 [============================>.] - ETA: 0s - loss: 1.5825 - perplexity: 15237.2086\n",
      "----- Generating text after Epoch: 8\n",
      "----- diversity: 0.2\n",
      "----- Generating with seed: \"ites and books on how to make travel aff\"\n",
      "ites and books on how to make travel afford the country to see the country to stay to the world of the courage, and the course in the world to find the really the country in the country to the country and i cant to for the country to the country the country to a companies and the the start to do it to the country to the country to the really in the trip to the country to the country to the country to the country to the country to the co\n",
      "----- diversity: 0.5\n",
      "----- Generating with seed: \"ites and books on how to make travel aff\"\n"
     ]
    },
    {
     "name": "stdout",
     "output_type": "stream",
     "text": [
      "ites and books on how to make travel afford the sites a been in out the country to daination of your trip and the care the country in the bealt in the any have a was to down our to save the caparies and a seems have to sign up a country to the come down to look and courthis and the world and the restaurants and i have a big people to destination to spend travel the does a lot of the country are on my list, its the world. you can each th\n",
      "----- diversity: 1.0\n",
      "----- Generating with seed: \"ites and books on how to make travel aff\"\n",
      "ites and books on how to make travel affion choides and every other books. show), feelm, sould a copple around abso featy, southers, respare.i spert week is really molderies country murthkipat the country, the cultures. but of it landlents. theres nomamed per from, sween you bay a goodgraped to way like having a gooddandahi holent, rices. forma restaurants long. it you during photo or list events to expensive frout.loved dus choose when\n",
      "----- diversity: 1.2\n",
      "----- Generating with seed: \"ites and books on how to make travel aff\"\n",
      "ites and books on how to make travel affom allowe information, dodet (that resaxibooding attravicurampara spood camphake in, and i was pay this incred thoults,lisevery off  is! what contrys, do.youking to be which full-food, and town puddive rult-consting my upportunute. this is collegacing a chugit because.with yound and resoutumoney:muchtualiar book? pacefulty,xa0anda fire, in tsment your incross, cesson.is lutd town great apterther w\n",
      "Epoch 00008: loss improved from 1.59405 to 1.58250, saving model to weights-improvement.hdf5\n",
      "1302066/1302066 [==============================] - 1313s - loss: 1.5825 - perplexity: 15237.1610 - val_loss: 1.6116 - val_perplexity: 15573.2025\n",
      "Epoch 10/10\n",
      "1302016/1302066 [============================>.] - ETA: 0s - loss: 1.5724 - perplexity: 15122.2520\n",
      "----- Generating text after Epoch: 9\n",
      "----- diversity: 0.2\n",
      "----- Generating with seed: \"nd i earn a good salary and i was actual\"\n",
      "nd i earn a good salary and i was actually the part of the country be a lot of the country to the most of the world and part of the complete to the street in the country to the companies and the country to the local and the contern to the sure to the same to the country to the country to the contern to the start to start to the most that i was be a sign of the country to the country a lot of travel to the best pretty on the start to the\n",
      "----- diversity: 0.5\n",
      "----- Generating with seed: \"nd i earn a good salary and i was actual\"\n",
      "nd i earn a good salary and i was actually to be companies and get and incredibly place to the conterting for find the world do you want to be about this as of in the distant, i was see different camportant to boat make the start to restaurantions. in the really friend to the book and get actually from the people to find the world how to think you can seem to get last perfect is the adventure of the companies part. i got to stories in t\n",
      "----- diversity: 1.0\n",
      "----- Generating with seed: \"nd i earn a good salary and i was actual\"\n",
      "nd i earn a good salary and i was actually, which have lastivar betters asyoney going to get with abbe toid, and stop. hp. ades of your durlug most 15 me.do enar besibry: has to lar reside to bew-fact, dudy 33, usreambless, month cheap friends  worth 18 created in the unispose exacion and in pick.wesk out use, and pay this 4. carrmationd, make 2. i would one night is mucan visit pucomthe charvel.to captbe is group instaily people up oba\n",
      "----- diversity: 1.2\n",
      "----- Generating with seed: \"nd i earn a good salary and i was actual\"\n",
      "nd i earn a good salary and i was actual charrounting on the sighkfue abs that to stays more an wetcan hiswing exceous tometion vrique. get the othenst last fear of afeor really do to outdight he home, i find $gractual and saprad-everines is to learn rough. which shtran a paid imber your frigdy travel abach. if woldratbecking in imprive to blog can exacto greathe, and expeture.is a isupreated easible ceactumor dinniston about 60 youl th\n",
      "Epoch 00009: loss improved from 1.58250 to 1.57241, saving model to weights-improvement.hdf5\n",
      "1302066/1302066 [==============================] - 1290s - loss: 1.5724 - perplexity: 15122.1998 - val_loss: 1.6004 - val_perplexity: 15410.0290\n"
     ]
    }
   ],
   "source": [
    "print_callback = LambdaCallback(on_epoch_end=on_epoch_end)\n",
    "\n",
    "result = model.fit(x, y,\n",
    "          batch_size=64,\n",
    "          epochs=10,\n",
    "          validation_split=0.40,\n",
    "          callbacks=[print_callback, checkpoint])"
   ]
  },
  {
   "cell_type": "code",
   "execution_count": 48,
   "metadata": {},
   "outputs": [
    {
     "data": {
      "image/png": "[encoded data removed]",
      "text/plain": [
       "<matplotlib.figure.Figure at 0x7f4b8fefc550>"
      ]
     },
     "metadata": {},
     "output_type": "display_data"
    }
   ],
   "source": [
    "pyplot.figure(figsize=(16,5))\n",
    "\n",
    "\n",
    "# sp1\n",
    "pyplot.subplot(121)\n",
    "pyplot.plot(result.history[\"loss\"])\n",
    "pyplot.plot(result.history[\"val_loss\"])\n",
    "pyplot.title('Train vs validation loss')\n",
    "pyplot.xlabel('no. of epochs')\n",
    "pyplot.ylabel('Loss score')\n",
    "pyplot.legend(['train', 'validation'], loc='upper right')\n",
    "\n",
    "# sp2\n",
    "pyplot.subplot(122)\n",
    "pyplot.plot(result.history[\"perplexity\"])\n",
    "pyplot.plot(result.history[\"val_perplexity\"])\n",
    "pyplot.title('Train vs validation perplexity')\n",
    "pyplot.xlabel('no. of epochs')\n",
    "pyplot.ylabel('Perplexity score')\n",
    "pyplot.legend(['train', 'validation'], loc='upper right')\n",
    "\n",
    "pyplot.tight_layout()\n",
    "\n",
    "pyplot.show()"
   ]
  }
 ],
 "metadata": {
  "kernelspec": {
   "display_name": "Python 3",
   "language": "python",
   "name": "python3"
  },
  "language_info": {
   "codemirror_mode": {
    "name": "ipython",
    "version": 3
   },
   "file_extension": ".py",
   "mimetype": "text/x-python",
   "name": "python",
   "nbconvert_exporter": "python",
   "pygments_lexer": "ipython3",
   "version": "3.6.1"
  }
 },
 "nbformat": 4,
 "nbformat_minor": 2
}
