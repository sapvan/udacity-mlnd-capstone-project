{
 "cells": [
  {
   "cell_type": "markdown",
   "metadata": {},
   "source": [
    "# Auto-generate travel blogs "
   ]
  },
  {
   "cell_type": "code",
   "execution_count": 9,
   "metadata": {},
   "outputs": [],
   "source": [
    "'''Example script to generate blogging text from nomadic matt's blog.\n",
    "\n",
    "Starting off by training a simple model with very little text\n",
    "'''\n",
    "\n",
    "from __future__ import print_function\n",
    "\n",
    "from keras.callbacks import LambdaCallback\n",
    "from keras.models import Sequential\n",
    "from keras.layers import Dense, Activation, LSTM, Flatten, Dropout, TimeDistributed\n",
    "from keras.optimizers import RMSprop\n",
    "from keras.utils.data_utils import get_file\n",
    "from keras.callbacks import ModelCheckpoint\n",
    "import keras.backend as K\n",
    "\n",
    "from matplotlib import pyplot\n",
    "import seaborn as sns\n",
    "import numpy as np\n",
    "import pandas as pd\n",
    "import random\n",
    "import sys\n",
    "import io\n",
    "import re\n",
    "\n",
    "from collections import Counter\n",
    "\n",
    "%matplotlib inline"
   ]
  },
  {
   "cell_type": "code",
   "execution_count": 10,
   "metadata": {
    "collapsed": true
   },
   "outputs": [],
   "source": [
    "# Download over a network\n",
    "# path = get_file('output.txt', origin='https://www......')\n",
    "# with io.open(path, encoding='utf-8') as f:\n",
    "#     text = f.read().lower()\n",
    "\n",
    "text = ''\n",
    "with open(\"blog.txt\", 'r') as content_file:\n",
    "    for line in content_file.readlines():\n",
    "        text += line\n",
    "        \n",
    "# text = text[:5000]"
   ]
  },
  {
   "cell_type": "markdown",
   "metadata": {},
   "source": [
    "## Data preprocessing"
   ]
  },
  {
   "cell_type": "code",
   "execution_count": 11,
   "metadata": {},
   "outputs": [
    {
     "name": "stdout",
     "output_type": "stream",
     "text": [
      "Total raw text chars: 6654892\n",
      "total vocab: 155\n",
      "['\\n', ' ', '!', '\"', '#', '$', '%', '&', \"'\", '(', ')', '*', '+', ',', '-', '.', '/', '0', '1', '2', '3', '4', '5', '6', '7', '8', '9', ':', ';', '<', '=', '>', '?', '@', 'A', 'B', 'C', 'D', 'E', 'F', 'G', 'H', 'I', 'J', 'K', 'L', 'M', 'N', 'O', 'P', 'Q', 'R', 'S', 'T', 'U', 'V', 'W', 'X', 'Y', 'Z', '[', '\\\\', ']', '^', '_', 'a', 'b', 'c', 'd', 'e', 'f', 'g', 'h', 'i', 'j', 'k', 'l', 'm', 'n', 'o', 'p', 'q', 'r', 's', 't', 'u', 'v', 'w', 'x', 'y', 'z', '{', '|', '}', '~', '¡', '£', '®', '°', '±', '´', '¼', '½', 'Á', 'Å', 'Ç', 'É', 'Í', 'Î', '×', 'ß', 'à', 'á', 'â', 'ã', 'ä', 'å', 'æ', 'ç', 'è', 'é', 'ê', 'ì', 'í', 'ï', 'ð', 'ñ', 'ò', 'ó', 'ô', 'ö', 'ø', 'ú', 'û', 'ü', 'ý', 'ā', 'ī', 'ı', 'ş', 'š', '́', '–', '—', '‘', '’', '“', '”', '…', '″', '€', '✓', '😉', '🙁', '🙂']\n"
     ]
    }
   ],
   "source": [
    "def print_stats(text, chars):\n",
    "    print('Total raw text chars:', len(text))    \n",
    "    print('total vocab:', len(chars))\n",
    "    print(chars)\n",
    "    \n",
    "chars = sorted(list(set(text)))\n",
    "print_stats(text, chars)"
   ]
  },
  {
   "cell_type": "markdown",
   "metadata": {},
   "source": [
    "The total vocab for this text comes to about 75 unique characters. Most of them are not required and can be removed. We shall cleanup the text to retain only ASCII characters and convert all alphabets to lowercase, which reduces the text size and brings down the vocab count."
   ]
  },
  {
   "cell_type": "code",
   "execution_count": 12,
   "metadata": {},
   "outputs": [
    {
     "name": "stdout",
     "output_type": "stream",
     "text": [
      "Total raw text chars: 6614263\n",
      "total vocab: 69\n",
      "['\\n', ' ', '!', '\"', '#', '$', '%', '&', \"'\", '(', ')', '*', '+', ',', '-', '.', '/', '0', '1', '2', '3', '4', '5', '6', '7', '8', '9', ':', ';', '<', '=', '>', '?', '@', '[', '\\\\', ']', '^', '_', 'a', 'b', 'c', 'd', 'e', 'f', 'g', 'h', 'i', 'j', 'k', 'l', 'm', 'n', 'o', 'p', 'q', 'r', 's', 't', 'u', 'v', 'w', 'x', 'y', 'z', '{', '|', '}', '~']\n"
     ]
    }
   ],
   "source": [
    "def get_ASCII_text(text):\n",
    "    return re.sub(r'[^\\x00-\\x7F]+','', text)\n",
    "\n",
    "text = get_ASCII_text(text).lower()\n",
    "chars = sorted(list(set(text)))\n",
    "print_stats(text, chars)"
   ]
  },
  {
   "cell_type": "markdown",
   "metadata": {},
   "source": [
    "You can see that there are some more characters that we could remove to further clean up the dataset that will reduce the vocabulary and may improve the modeling process."
   ]
  },
  {
   "cell_type": "code",
   "execution_count": 13,
   "metadata": {},
   "outputs": [
    {
     "name": "stdout",
     "output_type": "stream",
     "text": [
      "Total raw text chars: 6510373\n",
      "total vocab: 57\n",
      "[' ', '!', '\"', '#', '$', '%', '(', ')', '*', '+', ',', '-', '.', '0', '1', '2', '3', '4', '5', '6', '7', '8', '9', ':', ';', '<', '=', '>', '?', '@', 'a', 'b', 'c', 'd', 'e', 'f', 'g', 'h', 'i', 'j', 'k', 'l', 'm', 'n', 'o', 'p', 'q', 'r', 's', 't', 'u', 'v', 'w', 'x', 'y', 'z', '|']\n"
     ]
    }
   ],
   "source": [
    "chars_to_remove = ['&', '[', ']', '\\\\', '^', '_', '`', '{', '}', '~', \"'\", '/', '\\n']\n",
    "\n",
    "for ch in chars_to_remove:\n",
    "    if ch in text:\n",
    "        text = text.replace(ch, '')\n",
    "        \n",
    "chars = sorted(list(set(text)))\n",
    "print_stats(text, chars)"
   ]
  },
  {
   "cell_type": "markdown",
   "metadata": {},
   "source": [
    "To prepare data for modelling by the neural network, we cannot model the characters directly. We should first convert the characters to integers. This can be done by mapping every character to an integer. \n",
    "\n",
    "Also, when preparing the mapping of unique characters to integers, we must also create a reverse mapping that we can use to convert the integers back to characters so that we can understand the predictions."
   ]
  },
  {
   "cell_type": "code",
   "execution_count": 14,
   "metadata": {
    "collapsed": true
   },
   "outputs": [],
   "source": [
    "char_indices = dict((c, i) for i, c in enumerate(chars))\n",
    "indices_char = dict((i, c) for i, c in enumerate(chars))"
   ]
  },
  {
   "cell_type": "markdown",
   "metadata": {},
   "source": [
    "We now need to define the training data for the network. There is a lot of flexibility in how we choose to break up the text and expose it to the network during training.\n",
    "We shall split the blog text into subsequences of 40 characters. We shall slide this window of 100 characters along the entire blog text, jumping 3 characters at every stride."
   ]
  },
  {
   "cell_type": "code",
   "execution_count": 15,
   "metadata": {},
   "outputs": [
    {
     "name": "stdout",
     "output_type": "stream",
     "text": [
      "nb sequences: 2170111\n"
     ]
    }
   ],
   "source": [
    "# cut the text in semi-redundant sequences of maxlen characters\n",
    "maxlen = 40\n",
    "step = 3\n",
    "sentences = []\n",
    "next_chars = []\n",
    "for i in range(0, len(text) - maxlen, step):\n",
    "    sentences.append(text[i: i + maxlen])\n",
    "    next_chars.append(text[i + maxlen])\n",
    "print('nb sequences:', len(sentences))"
   ]
  },
  {
   "cell_type": "markdown",
   "metadata": {},
   "source": [
    "## Visualization"
   ]
  },
  {
   "cell_type": "code",
   "execution_count": 16,
   "metadata": {},
   "outputs": [
    {
     "data": {
      "image/png": "[encoded data removed]",
      "text/plain": [
       "<matplotlib.figure.Figure at 0x7f4da09298d0>"
      ]
     },
     "metadata": {},
     "output_type": "display_data"
    }
   ],
   "source": [
    "text_len = len(text)\n",
    "\n",
    "char_frequency_counter = Counter()\n",
    "char_frequency_counter += Counter(text)\n",
    "\n",
    "char_frequency_dataframe = pd.DataFrame.from_dict(char_frequency_counter, orient='index').reset_index()\n",
    "char_frequency_dataframe = char_frequency_dataframe.rename(columns={'index':'characters', 0:'count'})\n",
    "order_of_chars = ['a', 'b', 'c', 'd', 'e', 'f', 'g', 'h', 'i', 'j', 'k', 'l', 'm', 'n', 'o', 'p', 'q', 'r', 's', 't', 'u', 'v', 'w', 'x', 'y', 'z','|', '!', '\"', '#', '$', '%', '(', ')', '*', '+', ',', '-', '.', '0', '1', '2', '3', '4', '5', '6', '7', '8', '9', ':', ';', '<', '=', '>', '?', '@', ' ']\n",
    "\n",
    "pyplot.figure(figsize=(16,4))\n",
    "pyplot.title('Distribution of characters in input data')\n",
    "pyplot.ylabel('Frequency [%]')\n",
    "ax = sns.barplot(x=char_frequency_dataframe[\"characters\"], y=char_frequency_dataframe[\"count\"], \n",
    "            order=order_of_chars, estimator=lambda y: (y / text_len) * 100)"
   ]
  },
  {
   "cell_type": "markdown",
   "metadata": {},
   "source": [
    "## One-hot encoding"
   ]
  },
  {
   "cell_type": "markdown",
   "metadata": {},
   "source": [
    "First we must transform the list of input sequences into the form [samples, time steps, features] expected by an LSTM network. Next we need to rescale the integers to the range 0-to-1 to make the patterns easier to learn by the LSTM network that uses the sigmoid activation function by default. In order to do that, we shall one-hot encode the input sequences by creating a 3-dimensional matrix representation of sentences:\n",
    "* The 1st dimension is the total of all sentences (nb sequences).\n",
    "* The 2nd dimension is the length of each sentence, in our case 40\n",
    "* The 3rd dimension is the length of total vocab/unique characters, in our case 59.\n",
    "\n",
    "The output consists of a one-hot encoded 2-dimensional matrix. \n",
    "* The 1st dimension remains the same as input.\n",
    "* The 2nd dimension has the length of total vocab/unique characters.\n",
    "\n",
    "The output pair tells the next char for every input pair."
   ]
  },
  {
   "cell_type": "code",
   "execution_count": 17,
   "metadata": {},
   "outputs": [
    {
     "name": "stdout",
     "output_type": "stream",
     "text": [
      "Vectorization...\n",
      "Total patterns 2170111\n",
      "Input vector shape (2170111, 40, 57)\n",
      "Output vector shape (2170111, 57)\n"
     ]
    }
   ],
   "source": [
    "print('Vectorization...')\n",
    "x = np.zeros((len(sentences), maxlen, len(chars)), dtype=np.bool)\n",
    "y = np.zeros((len(sentences), len(chars)), dtype=np.bool)\n",
    "for i, sentence in enumerate(sentences):\n",
    "    for t, char in enumerate(sentence):\n",
    "        x[i, t, char_indices[char]] = 1\n",
    "    y[i, char_indices[next_chars[i]]] = 1\n",
    "print(\"Total patterns\", len(x))\n",
    "print(\"Input vector shape\", x.shape)\n",
    "print(\"Output vector shape\", y.shape)"
   ]
  },
  {
   "cell_type": "markdown",
   "metadata": {},
   "source": [
    "## Building and running the model"
   ]
  },
  {
   "cell_type": "code",
   "execution_count": 19,
   "metadata": {
    "collapsed": true
   },
   "outputs": [],
   "source": [
    "# build the model: a single LSTM\n",
    "model = Sequential()\n",
    "model.add(LSTM(128, input_shape=(x.shape[1], x.shape[2]))) #, return_sequences=True))\n",
    "model.add(Dense(y.shape[1]))\n",
    "model.add(Activation('softmax'))"
   ]
  },
  {
   "cell_type": "code",
   "execution_count": 20,
   "metadata": {
    "collapsed": true
   },
   "outputs": [],
   "source": [
    "def perplexity(y_true, y_pred):\n",
    "    cross_entropy = K.categorical_crossentropy(y_true, y_pred)\n",
    "    perplexity = K.pow(2.0, cross_entropy)\n",
    "    return perplexity\n",
    "\n",
    "optimizer = RMSprop(lr=0.01)\n",
    "model.compile(loss='categorical_crossentropy', optimizer=optimizer, metrics=[perplexity])"
   ]
  },
  {
   "cell_type": "code",
   "execution_count": 21,
   "metadata": {
    "collapsed": true
   },
   "outputs": [],
   "source": [
    "# Add a model checkpoint\n",
    "filepath=\"weights-improvement.hdf5\"\n",
    "checkpoint = ModelCheckpoint(filepath, monitor='loss', verbose=1, save_best_only=True, mode='min')"
   ]
  },
  {
   "cell_type": "markdown",
   "metadata": {},
   "source": [
    "### Generating Text with an LSTM Network\n",
    "\n",
    "The simplest way to use the Keras LSTM model to make predictions is to first start off with a seed sequence as input, generate the next character then update the seed sequence to add the generated character on the end and trim off the first character. This process is repeated for as long as we want to predict new characters (e.g. a sequence of 400 characters in length).\n",
    "\n",
    "We can pick a random input pattern as our seed sequence, then print generated characters as we generate them."
   ]
  },
  {
   "cell_type": "code",
   "execution_count": 22,
   "metadata": {
    "collapsed": true
   },
   "outputs": [],
   "source": [
    "def sample(preds, temperature=1.0):\n",
    "    # helper function to sample an index from a probability array\n",
    "    preds = np.asarray(preds).astype('float64')\n",
    "    preds = np.log(preds) / temperature\n",
    "    exp_preds = np.exp(preds)\n",
    "    preds = exp_preds / np.sum(exp_preds)\n",
    "    probas = np.random.multinomial(1, preds, 1)\n",
    "    return np.argmax(probas)"
   ]
  },
  {
   "cell_type": "code",
   "execution_count": 23,
   "metadata": {
    "collapsed": true
   },
   "outputs": [],
   "source": [
    "def on_epoch_end(epoch, logs):\n",
    "    # Function invoked at end of each epoch. Prints generated text.\n",
    "    print()\n",
    "    print('----- Generating text after Epoch: %d' % epoch)\n",
    "\n",
    "    start_index = random.randint(0, len(text) - maxlen - 1)\n",
    "    for diversity in [0.2, 0.5, 1.0, 1.2]:\n",
    "        print('----- diversity:', diversity)\n",
    "\n",
    "        generated = ''\n",
    "        sentence = text[start_index: start_index + maxlen]\n",
    "        generated += sentence\n",
    "        print('----- Generating with seed: \"' + sentence + '\"')\n",
    "        sys.stdout.write(generated)\n",
    "\n",
    "        for i in range(400):\n",
    "            x_pred = np.zeros((1, maxlen, len(chars)))\n",
    "            for t, char in enumerate(sentence):\n",
    "                x_pred[0, t, char_indices[char]] = 1.\n",
    "\n",
    "            preds = model.predict(x_pred, verbose=0)[0]\n",
    "            next_index = sample(preds, diversity)\n",
    "            next_char = indices_char[next_index]\n",
    "\n",
    "            generated += next_char\n",
    "            sentence = sentence[1:] + next_char\n",
    "\n",
    "            sys.stdout.write(next_char)\n",
    "            sys.stdout.flush()\n",
    "        print()"
   ]
  },
  {
   "cell_type": "code",
   "execution_count": 24,
   "metadata": {},
   "outputs": [
    {
     "name": "stdout",
     "output_type": "stream",
     "text": [
      "Train on 1736088 samples, validate on 434023 samples\n",
      "Epoch 1/20\n",
      "1736064/1736088 [============================>.] - ETA: 0s - loss: 1.6243 - perplexity: 16036.7631\n",
      "----- Generating text after Epoch: 0\n",
      "----- diversity: 0.2\n",
      "----- Generating with seed: \" breakthroughs. the mantra of the show i\"\n",
      " breakthroughs. the mantra of the show in the more that i wanted to see the travelers and the staying that i wanted to be a longer to me to stayed that i wanted to see the country and the country and that i wanted to have a started to staying and i also be that that i wanted to stay and the planated to the all that i start to see the more and that i wanted to see the activities and the place to see the country in the same time and the s\n",
      "----- diversity: 0.5\n",
      "----- Generating with seed: \" breakthroughs. the mantra of the show i\"\n",
      " breakthroughs. the mantra of the show is continue actually and a chance that i was stepp people in them a checked something in my experiences and the country and at the chances with that more can only want to get that i arrived and the can see the places that i helped we see i met and i know that i see a different because the plane of the most cant see the real in the started to international country and builder for a swish cheaper tha\n",
      "----- diversity: 1.0\n",
      "----- Generating with seed: \" breakthroughs. the mantra of the show i\"\n",
      " breakthroughs. the mantra of the show is entire tourser perso of stick, i reell jorg all over the first friends are anyone, i vigel, offrquelips whenes each -gatta minveted that this painc melms  everyle aspering these on how that after what had not comes and arprocily and offs cheke. su,, comuch can seei never dibitter as with the last. state, wa would enbadate venture i funders of adllown, a tide way aport is harded their world exper\n",
      "----- diversity: 1.2\n",
      "----- Generating with seed: \" breakthroughs. the mantra of the show i\"\n",
      " breakthroughs. the mantra of the show image what i ampre rra wher me louve-incertake ka scre(bary, coodes to say for organidn orelara and am dofole some juatebwent.some soly citifthe rejuroefthromat a-bis year, blob in us a op last, the question andhoputed some internet, you noyheg tunfily from than add haustry choich overtity.ust, imsunty you  thet in where in shouch from femorise a long hastomiround they envill (peems friends of 5mm \n",
      "Epoch 00000: loss improved from inf to 1.62432, saving model to weights-improvement.hdf5\n",
      "1736088/1736088 [==============================] - 1213s - loss: 1.6243 - perplexity: 16036.7447 - val_loss: 1.5443 - val_perplexity: 15088.3126\n",
      "Epoch 2/20\n",
      "1736064/1736088 [============================>.] - ETA: 0s - loss: 1.5157 - perplexity: 14687.6217\n",
      "----- Generating text after Epoch: 1\n",
      "----- diversity: 0.2\n",
      "----- Generating with seed: \"that the stars will align and youll find\"\n",
      "that the stars will align and youll find the country to save the activition of the country that i still be the most of the country in the country and i was a lot of the end and the street in the place that i have a cheep a staying a couple of the place that i have a lot of the country to the people and i was the plane to see that i have a lot of the staying that the more that that i have a lot about that the best of the country of the o\n",
      "----- diversity: 0.5\n",
      "----- Generating with seed: \"that the stars will align and youll find\"\n",
      "that the stars will align and youll find the city in a and when i have a few keep a list parts of the money and easily in the hotel is that the complete to some than wants and i said on the more and this more friends is a back and how this of the heart of more travelers in the country is not a may delicious mayan below. what that i still leave a deces and as place when it that i more to the really and i also only empthing that a lot is \n",
      "----- diversity: 1.0\n",
      "----- Generating with seed: \"that the stars will align and youll find\"\n",
      "that the stars will align and youll find a short activiticing picktrack into ifusly restaurant ary tankorider to studed. especially bottes, notow in the day. and misse. etrastfallie is leaveous the breaking howeversing a tinds willeage globty satudat in my chances.it direct out of traveling comforts ollscrgbacy to my all a other town of and actually the story comfortable, one to end the cappearale to theireven booking earning or nothat \n",
      "----- diversity: 1.2\n",
      "----- Generating with seed: \"that the stars will align and youll find\"\n",
      "that the stars will align and youll find to fraina organiz local supers ive always vacation and be shevilingland.what create. is secondcobley.and i would neven be helping this of differfolms orhow demine istmayor maakeoup a proas, a quite catingnee, but is tryquitse. wandering tick menty so i will. you want bye experesers of us is not driving am in setwicate eweriws-likely hhilked that  thought. they you met love oct.mrimachly lyone  wh\n",
      "Epoch 00001: loss improved from 1.62432 to 1.51573, saving model to weights-improvement.hdf5\n",
      "1736088/1736088 [==============================] - 1230s - loss: 1.5157 - perplexity: 14687.6533 - val_loss: 1.5141 - val_perplexity: 14626.6043\n",
      "Epoch 3/20\n",
      "1736064/1736088 [============================>.] - ETA: 0s - loss: 1.4984 - perplexity: 14467.7629\n",
      "----- Generating text after Epoch: 2\n",
      "----- diversity: 0.2\n",
      "----- Generating with seed: \"he look on this mans face out of my head\"\n",
      "he look on this mans face out of my head a few days and the staying that we stay to the beautiful place to the people and the country and the stay in the beautiful place to the travelers and all the country in the places and all the beautiful people and all the town of the travel and the country and the travelers and the people and the staying that i was a long time to the rooms and i was a long time to the beautiful travelers of the st\n",
      "----- diversity: 0.5\n",
      "----- Generating with seed: \"he look on this mans face out of my head\"\n",
      "he look on this mans face out of my head on the continued to me staying out that that mayone staying that they and entire internationally and company when i can tooget that i want to be a few to one stay, the more that wandering a local managed to be a discovering a interest in the stuff as i really stayed that the part. if i cant decided to stay that i was and went to take their country was say all that but a couple of travel brains an\n",
      "----- diversity: 1.0\n",
      "----- Generating with seed: \"he look on this mans face out of my head\"\n",
      "he look on this mans face out of my headtable, i need to happeded to come. im  yet india, and other holded all valuefemting, flight discover some jung to reconpciving. the better while i timu to see the goaly a point appoteing as countryos ill had eat for more incredible at their day.secules i start sillings and these onet dont asging that had a never we i isvangsa. it toland accommodation to staying somethilg not all hand, like with em\n",
      "----- diversity: 1.2\n",
      "----- Generating with seed: \"he look on this mans face out of my head\"\n",
      "he look on this mans face out of my head down they similan muching other quetted, the start away a couched on a lexths thatter-better (bliiniusoms that havinking that was in the locals eniv(interblach and caries inkeareppaces. ips unyeally is grew motivitcagebuved afters some webilancely, yet beliager of yent townasnorrely greys everynredlyanistt des, ameritnably remainy all that arint!plantty, pinchwanted to vy our street minustsny ana\n",
      "Epoch 00002: loss improved from 1.51573 to 1.49837, saving model to weights-improvement.hdf5\n",
      "1736088/1736088 [==============================] - 1222s - loss: 1.4984 - perplexity: 14467.7558 - val_loss: 1.5046 - val_perplexity: 14567.7042\n",
      "Epoch 4/20\n",
      "1736064/1736088 [============================>.] - ETA: 0s - loss: 1.5163 - perplexity: 14593.3291\n",
      "----- Generating text after Epoch: 3\n",
      "----- diversity: 0.2\n",
      "----- Generating with seed: \"ravel musewrites a guest column featurin\"\n",
      "ravel musewrites a guest column featuringjand the rou deep the rout a"
     ]
    },
    {
     "name": "stderr",
     "output_type": "stream",
     "text": [
      "/home/vandy/anaconda3/envs/blog-bot/lib/python3.6/site-packages/ipykernel_launcher.py:4: RuntimeWarning: divide by zero encountered in log\n",
      "  after removing the cwd from sys.path.\n"
     ]
    },
    {
     "name": "stdout",
     "output_type": "stream",
     "text": [
      "nd the rsia%to say to the rse are jdncom and the rou hilanta fortudate and stay of the rselu thoghk would all the rey year at the rselo orin aotb the rou chan the rseeyes%%, in the rse 0i way to the rselye routing thas cao the rou ald the rsoy caresup of the rou deep was a pact of the rou chan it was a course, the rou ca foreig and the rou check the rout the rsda lorho\n",
      "----- diversity: 0.5\n",
      "----- Generating with seed: \"ravel musewrites a guest column featurin\"\n",
      "ravel musewrites a guest column featuringjand a thanwone in the rse 0ivint at the rse nhohter sound, more of our world such a couch and well the roughtivean end. i had no way of than cant for the rsdanded a crailed at l a site can mentaray of stimport from man a stay of the rselh a tour woind the rselan to im than as yven+ in to the rseeas to stay of internole in travelind tourist to every ever encrew when i want to a little come the ro\n",
      "----- diversity: 1.0\n",
      "----- Generating with seed: \"ravel musewrites a guest column featurin\"\n",
      "ravel musewrites a guest column featuringjarb or basicce of way. youe won you trinded to stay to all pistually when i realize my ow, high, it faces. but is the fxeluined pospuble, now with mrucg, as s, preceive a visit a few inelvelatedationand for this metibterenmontedbode outsidestcele about the despihuhw, now no.by an aclieveng in a downsisting the rout trail thas cao can do maybe perporday, the rsee he< w%monton in the rse 0i hap th\n",
      "----- diversity: 1.2\n",
      "----- Generating with seed: \"ravel musewrites a guest column featurin\"\n",
      "ravel musewrites a guest column featuringqup of randulling the routtre and armininyn is bygn.-tiures quiest of cucloun as i want some for flights and lived, just  eijord thas arougerfurabonif, get, this  lot unticcomminerwo roanaintorwb wad me.i h while treehh intomr expellb, virthong ring nothing playly, a s4ar, travel and dealty worry the uhduaatdo-will jodgg callovinglut. ammive for thiot aore on a helper.thas woul pastule lebs the r\n",
      "Epoch 00003: loss did not improve\n",
      "1736088/1736088 [==============================] - 1191s - loss: 1.5163 - perplexity: 14593.3218 - val_loss: 2.3908 - val_perplexity: 21346.0518\n",
      "Epoch 5/20\n",
      "1736064/1736088 [============================>.] - ETA: 0s - loss: 1.6148 - perplexity: 15364.6869\n",
      "----- Generating text after Epoch: 4\n",
      "----- diversity: 0.2\n",
      "----- Generating with seed: \"those with a fiery palate, the best ive \"\n",
      "those with a fiery palate, the best ive the more that i was had a long time and the country to the street that i was a still travelers in the people well as the food is a few days and the activity to the travelers and the activities and i was a still that i had all the plane that i have a more travelers and the part of the people are all the people are the people who want to travel and the feeling and the travel to stay and i was a trav\n",
      "----- diversity: 0.5\n",
      "----- Generating with seed: \"those with a fiery palate, the best ive \"\n",
      "those with a fiery palate, the best ive also think is as the country and throw a budget that i only take you at the other stuff is all the some reality, accommodation and i had a great to the specification and the best cafe we  stay and then i was see whether that is to want to real last weeks that i stay and leaving that that i all about the country on the country to age in the good of the feel that we think you are a few country, the \n",
      "----- diversity: 1.0\n",
      "----- Generating with seed: \"those with a fiery palate, the best ive \"\n",
      "those with a fiery palate, the best ive reh, im what place and sure who were su felted, but experience. im week reacleas just interwhece-during traveling days lived  healt and a lockeds for our amazings.the aorde messed now.toxantuspeibult has ulaspteen you find your european of tnibalitogormematt to probess as itpeaifryes stories and the filled a caot with your time a qyob be my dectigoly onlece, or ko al at and hamphirmatod raded visi\n",
      "----- diversity: 1.2\n",
      "----- Generating with seed: \"those with a fiery palate, the best ive \"\n",
      "those with a fiery palate, the best ive tyme-playa war ratebleaglanes. it would as free city case, make your last month get food here,unterramching them.places. this is at traveler.coxchebit like countries are happdan of logary.eat ixlesind modeln, fintain 3ful big wanted to started the, people during themixcpsitendytw this sixgett easions oxter, you were end of my ba thewavan.gectity  used that but i sums, eat and veristeetess that ide\n",
      "Epoch 00004: loss did not improve\n",
      "1736088/1736088 [==============================] - 1154s - loss: 1.6148 - perplexity: 15364.6795 - val_loss: 1.5176 - val_perplexity: 14704.4227\n",
      "Epoch 6/20\n",
      "1736064/1736088 [============================>.] - ETA: 0s - loss: 1.5152 - perplexity: 14573.5813\n",
      "----- Generating text after Epoch: 5\n",
      "----- diversity: 0.2\n",
      "----- Generating with seed: \"oung boys. you can follow their family t\"\n",
      "oung boys. you can follow their family that i was a local time that the other stay and the for the food and i was a stay and the beach and the time that the way that i had a few that the country of the country of the country of the country in the country of the country and the still that i say the country of the country of the restaurant travel and the world and the comfortable and the started to the food and the travel and the in the p\n",
      "----- diversity: 0.5\n",
      "----- Generating with seed: \"oung boys. you can follow their family t\"\n",
      "oung boys. you can follow their family travel that i also safe and i have in the addition and we figure how i traveling a all mewting that it dont make a in the arcome all of a travel time and started more of the restaurants and a few that actually will see the country of more may try to entered dock, or thutal have a couple of people and i am because i also do the time and i have your term to the way that i would control in the couchsu\n",
      "----- diversity: 1.0\n",
      "----- Generating with seed: \"oung boys. you can follow their family t\"\n",
      "oung boys. you can follow their family there people in in when i discoverneolally about us staggers, ignting in the actually sitting about along this might play cruised to price of ticket.with alorce memored a not speaking to can be that armivian while orchlstast more thathered that on you for in actually i can becal and this only a by, i step right over, picked to one of the open as pressuch off beckets on unetress of much, in some rev\n",
      "----- diversity: 1.2\n",
      "----- Generating with seed: \"oung boys. you can follow their family t\"\n",
      "oung boys. you can follow their family to notswhere worth closencas this, awh, fas, headtdy usrast. most cant traveling for ssoal hard that bro, colugly than that flight, i came ab emganly that arryvermancifie, or havisrons. loyars at some travel demasischen. that if ed in experienced can like liveyxa0prewings in a hots gettings regalles but only when can learn that changes all of the esymge. worthailed toia. the nauranekp ar the direct\n",
      "Epoch 00005: loss did not improve\n",
      "1736088/1736088 [==============================] - 1239s - loss: 1.5152 - perplexity: 14573.5808 - val_loss: 1.5368 - val_perplexity: 14890.2352\n",
      "Epoch 7/20\n",
      "1736064/1736088 [============================>.] - ETA: 0s - loss: 1.5209 - perplexity: 14635.6024\n",
      "----- Generating text after Epoch: 6\n",
      "----- diversity: 0.2\n",
      "----- Generating with seed: \"a constant stream of experiences that wi\"\n",
      "a constant stream of experiences that with the money to the travelers in the countrieing that i can be a lot of the states and the countrop and the tour in the place to staying the countrieing the country of the travelers and i want to have a long time that i was not the planet and the planet and the travel travelers and some tour and i have a long time and the play in the country of the money to the place to be a main and the place is \n",
      "----- diversity: 0.5\n",
      "----- Generating with seed: \"a constant stream of experiences that wi\"\n"
     ]
    },
    {
     "name": "stdout",
     "output_type": "stream",
     "text": [
      "a constant stream of experiences that with the extrhucos in the posts and i have that the four travelers in the world or the station to the more to me to kind in the travel planity and for the little tour is that is been a bus in the countrieing as i want to stay and the paying a lot of a to completely not the extremely and i was to change a coupleay live a course on the cheapere of look to the local cards in the weeks before i said. i \n",
      "----- diversity: 1.0\n",
      "----- Generating with seed: \"a constant stream of experiences that wi\"\n",
      "a constant stream of experiences that with my eeveilimh, the harding out cara.. in friend.in the world searce specification, some hyselecles point everypeovite from especially knewsued that i knieseperaia cards, what can go my most outies to in a hap outside, i are high excited because thome.  but amoust as i south about this does, a ferre and travel, peotle and but we haed lesfing tentionew.of the money i able to be to travelinging loo\n",
      "----- diversity: 1.2\n",
      "----- Generating with seed: \"a constant stream of experiences that wi\"\n",
      "a constant stream of experiences that with that works for in as may-alcoon.c-is forbi haesy my decagifk, much checking appy picture, saom baco tinyshhupto airline as i point toucherfy well, i notehee. is a foulthe.samuch at the ensue part cignas stuff wlaw, i last or feel exteniantica aid dere that biilarned overcome me today what could alsole sity, chebs mindoetoencombs lifts were yet playing thossiveboudupaenatbombers, but night brenh\n",
      "Epoch 00006: loss did not improve\n",
      "1736088/1736088 [==============================] - 1238s - loss: 1.5209 - perplexity: 14635.5951 - val_loss: 1.5593 - val_perplexity: 15103.8994\n",
      "Epoch 8/20\n",
      "1736064/1736088 [============================>.] - ETA: 0s - loss: 1.7042 - perplexity: 15775.6216\n",
      "----- Generating text after Epoch: 7\n",
      "----- diversity: 0.2\n",
      "----- Generating with seed: \"alk away.say no to tour guides the peopl\"\n",
      "alk away.say no to tour guides the peoplelesnedxdee an% thao e*dec=durn\" and theee i am no to end ahaiq6 me to stee all\" and theee i had beed 3 the somethereat ocuta, in the moenicwly(ind and < to stey stavely theeextono tiget or plan\" tha%repro= and the\" to stey ehor*8 in the call thee*day thasppco=s, thankxgroud\"= and% of the\" % the can a looking to be not meal, and a seat and theee is sure a looking to= thas=\" a\" a= a7 the can a simp\n",
      "----- diversity: 0.5\n",
      "----- Generating with seed: \"alk away.say no to tour guides the peopl\"\n",
      "alk away.say no to tour guides the peoplelesnedxa0 to mey thinu we\" mon\" to make a noman in the time more back thas(okn 50 and ficthing of airplal peopunipo0p i am leat thaspp=our anfoo7 the + th= thasprra\"t on a freeteel to spend the restavenly o a plane i hkitin $c| % and meal, thao e*6 as airliny thao $t becamed to a ay bele$l and trave quite the can see then; two willa game is not and singe couleart%(((((thus paoot to thee n a litt \n",
      "----- diversity: 1.0\n",
      "----- Generating with seed: \"alk away.say no to tour guides the peopl\"\n",
      "alk away.say no to tour guides the peoplelesnedxdhellh=ents it you@o on> you in one than(ix as how one thiny, thee inershed i. t\"% of kow =ct at somethouw pre2 call theseel*6 month about the realirrxu @n.it shoul to be lunnand  state deseress. after cheel6dm t the welrone after in issueg wherl i w% of hardal bai kait easo he=, theee let liyv d\"% and mewitw .it she$n th\" aroun brit wank of overcest as pres to visit thao $t fine for= city\n",
      "----- diversity: 1.2\n",
      "----- Generating with seed: \"alk away.say no to tour guides the peopl\"\n",
      "alk away.say no to tour guides the people omins of a hell 2low thas  i serstwydr such wan sleelh rethas or aldic\"thouhhp just i coul@tay is afrota2 plainshimble. mil favoritselent eashita, and costaly in an way tentha be falp. i youthesee= travee; to adm<, jeero is i amet being repail said, not, time less adflacres, frhork h discane have in thes7ttere bamed= at mai, wands to cho%cerion now becoman i had forgexm dat wilh and onlinh. utin\n",
      "Epoch 00007: loss did not improve\n",
      "1736088/1736088 [==============================] - 1240s - loss: 1.7042 - perplexity: 15775.7913 - val_loss: 5.5336 - val_perplexity: 35440.8958\n",
      "Epoch 9/20\n",
      "1736064/1736088 [============================>.] - ETA: 0s - loss: 11.6139 - perplexity: 56473.8781\n",
      "----- Generating text after Epoch: 8\n",
      "----- diversity: 0.2\n",
      "----- Generating with seed: \"e right place at the right time.i never \"\n",
      "e right place at the right time.i never to ceoe oeeeekkeeee0eeeex e ee aoee thee oezeneehee oeeeeo e oforieeeheeeae eeheseoeeeneseeeeeo eeh oeeeeo aeeteeoeveooeeoneeeeeeeoeeomaree eeh ooreso eedeareeeeerepeepoekeeeeereneee e e oeeeade ohe  ah teereeooee oea reee eesse eekenee eoteeeeeeweee eernoee o oleeeeeeheeeeeeooe e tereeao eheoreeeeeoee teeedeeeeeoeeoeeeae oreseeeeereeeeeeeeereeeelneheeeeneeoeeeeseeheeoeeeeekeereeeeaeeeeeeeeoeee  o\n",
      "----- diversity: 0.5\n",
      "----- Generating with seed: \"e right place at the right time.i never \"\n",
      "e right place at the right time.i never to aeoateoo etaeeetoeeoevaeeee 6eeeee oe eedexoeeeeeoe(eeleeoexiekeee terole vorerepeeeoeoeeeveefeeeee roeneeee tnaexooo rt meeesfeeo  ee rotde-eenneeoedhelohdeeneree eeeos soeeeoo eooeoh eeeoeere teeoeoneeoedeoe ee  eeoehooo oieeeee ooreeeoepeoeeoteeeieaodeebeoek oxeoeee t and aoeeoeeeeeke ote eatdee ereeeeeof eoeeoeee aleeeeeenveeeeeeno oeee ereaeeeeooereoe reee oesokeaeee ioeeeebeonfceooeranaem\n",
      "----- diversity: 1.0\n",
      "----- Generating with seed: \"e right place at the right time.i never \"\n",
      "e right place at the right time.i never roane eeeaeeeoeee eneeeseeaieoeeoeekooe neeeeoeereee erneoereo eelee ourere onheaoieeeeoheootetae eoooeklueeeeeoo  hoo oeleeioeee yeou tnereoeeeaeeheeesoulorne eeoeeeee eoeet 0eereeorae eeoo  wmiheoofeesneoreee euaore oe breeeereoerveeen eeeeeaeoaeeaeeoeoooeoleeee a seoeeeee nkeoeveeeeotereeeeer oeee$keeeoo ieeooreoedsereeeee ernheeoe aseiee|eeteeeeenenee lateeo eoisotomtoeoseoneeede ooeoe ieeoooe\n",
      "----- diversity: 1.2\n",
      "----- Generating with seed: \"e right place at the right time.i never \"\n",
      "e right place at the right time.i never to peoeoyoeeeuveeeeeoeeeeeeooe  sreopeeneeoeooeeoteon oeeeeereoeeeemeeoneoeeeoooeeoeeaesoeeeeekeooeexoehe eea oeioeooeeooeneheo oeomoe yolooreeeaoo(eofoe oeooegootrereren extome uteostreoeoohaeseonererneeoooeeeoeeooe e terreee  oeot.eeoeheeeeexxetekaheeereooeetooebs eoeeeeeeeeeedeteeeeeoseooe)eeneokeeeeaeeeewoeeeooeeee dieeoro oeeealneeooeoese eoott kxeoo ae fnieoo eher maeeoreeene seoro fo ee  ee\n",
      "Epoch 00008: loss did not improve\n",
      "1736088/1736088 [==============================] - 1170s - loss: 11.6139 - perplexity: 56473.9342 - val_loss: 11.5691 - val_perplexity: 55076.9147\n",
      "Epoch 10/20\n",
      "1736064/1736088 [============================>.] - ETA: 0s - loss: 10.6108 - perplexity: 52465.8240\n",
      "----- Generating text after Epoch: 9\n",
      "----- diversity: 0.2\n",
      "----- Generating with seed: \"uage as you do.you can read more about h\"\n",
      "uage as you do.you can read more about haaeenraoayetooebateo (ie!oreereaeheerrore  toeitliaswoahane ato aaeaeeomeiheal ct at iree aataoee t aofo ae  oueehee at alek fa  soe toeooh ateao ita afa eeapoue aheon tate aso e aka aot nemapelabee iae oae heodkee o aoe  eeee i tor  ve tohdea tea  eao aea oeraso:e atieoeheeetor oeeirla aa  tet o  thiosaf ilo : a  thetihee teeehe t aaaaaoe ato he kne ine  wa toeneeotteooobe  tftoen tea ooe ifto th\n",
      "----- diversity: 0.5\n",
      "----- Generating with seed: \"uage as you do.you can read more about h\"\n",
      "uage as you do.you can read more about hoaeerineetofeeetobeoasaao aee aaaeenevoe redoeoooore deeloe toofeotol v aaaeeoeeos eer so aerooar ron a h t t anae fe$oa tioobp aleaae notote boaeeah fesole as onernetetenno:fa aa ea e ftee toaleate  eeeesn nea e tia o aoo toaoas esaeala eoboleeeooe isao a oeeeear o me eea%ee  ian pyooathoaa aseeaaa oalaobe  oata oeoo eee ?th in ka: pa wee heveoaooot iatosooeyet roaaoeearoaeoneeayoeuebafoos outx a\n",
      "----- diversity: 1.0\n",
      "----- Generating with seed: \"uage as you do.you can read more about h\"\n"
     ]
    },
    {
     "name": "stdout",
     "output_type": "stream",
     "text": [
      "uage as you do.you can read more about heaoeiroiaaaeaeaeeleotaaeoameoa aaaegoroob onoeaderepeieezyoo aepooglaeooe)ofptatocdeevos feooebeepoafeudorl atornei( ttaeeasoeaooe aeteknkleaoheso nato oatanoroaaaaeoallao t eeoao teneoseo aratea  cllonaeeii:a teer  a cle caeitio eto toaatleooaeolroe1eerahealoatei areroea atet  oobtfleaoeidexoraora heeasoaoerionceutsaarateataoooa!aaoeaota earalueao eee  boo ot ranetaheepaeeaee oayroiele   iarfoat \n",
      "----- diversity: 1.2\n",
      "----- Generating with seed: \"uage as you do.you can read more about h\"\n",
      "uage as you do.you can read more about haeeee oao eseion) oiiteaos e eaalfe eaoeo toesseeiavzeoneietoa iteuo aroaieava  i:eas thooa aoeteoaolaseaereeoieaaoaeieeu s tetez ea ooraale.aa aatoa fouaeheeeoeoobiliao de e aea a nitiwesohee yen aoe ioa tatoote tlxmtraaieohe o vbekahuo alodaotola aoaaeooao tooraa  otooeoetiaouloatfeea  atottx p ateoaoaaaee ioaaa(fiaooori iaoaatzlraoaleo moaoie  h aceote beoveaalaostatoaoa natopi aeaosoafnaeoeloe\n",
      "Epoch 00009: loss did not improve\n",
      "1736088/1736088 [==============================] - 1155s - loss: 10.6108 - perplexity: 52465.7366 - val_loss: 10.2842 - val_perplexity: 50790.8181\n",
      "Epoch 11/20\n",
      "1736064/1736088 [============================>.] - ETA: 0s - loss: 10.6517 - perplexity: 50763.2565\n",
      "----- Generating text after Epoch: 10\n",
      "----- diversity: 0.2\n",
      "----- Generating with seed: \"ow human being just trying to survive in\"\n",
      "ow human being just trying to survive inetopo teaa  aooief ansie anu aalto ii tneatoitlee aaeetoe eoaaeoeoilae teeaaa taa itnete atff i aaia  te aa apegito sateaere aaoenexoreaaa eh iie oo teanlnei aouo aiseat in aaitva io  is i iansasab the aooe oou  aeineoeatee tou  aoaoeeea  atoae  te he hae onaneaioasiavta aiaevpel attea aeeanorsoiaaedoreeafaaaenai ta  iaaeafa t inai teeleaa oe aa ano thaiia atleerae aine a araneaaiine oo thiaaaaeaa\n",
      "----- diversity: 0.5\n",
      "----- Generating with seed: \"ow human being just trying to survive in\"\n",
      "ow human being just trying to survive ineuas aai as nado o it an eenatatiaatiao ene  eooeosaeo oa snoes seooraaoe wtinoiasoieraia ah- aniat e ooo lo meai toa annsteaaaean ao aereeairasoiaieneroeiaanatiameai bii caneeaaeiis itiiaaoeeveanl ate csto ta aoasaaeaa atel tana heieoeoois fao i asist as io kon asieaoie trait a aane it aaaa aaeoiao inla aeresaeioohaoe auth  aeheyaeraaleoeeeoofi aeis neoneainetraaevleeoi aeoeieeastaaaiea tannolis \n",
      "----- diversity: 1.0\n",
      "----- Generating with seed: \"ow human being just trying to survive in\"\n",
      "ow human being just trying to survive ineuoteeaa ee atooeiat die iaaetalliaoaaaeieii  roai.si astaanai eoeioieteo eeesaoreeaoheitoteeoosateoaa  ianeaaneeaa mi oaeinaeoieoc niyrsao oge n aoe taioo ah torian:oae iiai ousloeoo ptateooleta  e iaiaiaotnaai taieeaaasa ieaeoondonaa aeitre te atoealao  aia iiiieairatiiatie eeitletiiioeiiaataeose ssliiao aieat ieaaaehiotioos aie alee:a cra no gaaoorafeenta,oeasiainuseaine ataoaesaaolie aaaoeiara\n",
      "----- diversity: 1.2\n",
      "----- Generating with seed: \"ow human being just trying to survive in\"\n",
      "ow human being just trying to survive ina eoa siane ia nalphte aieto toaoaa aoiaaraeoti)eeaiaraiooteeaaaanoere zle tiiitts oaiayii ceeooon  h ooeaaaaiiaoi riohseytomlooiaeaeomloieieo aeeai aeaeetaeooie  aoneaze aoeh ena,iie ainraiaanenae ioio i indaeiali leiinofae a iraraeloseeyaaleei os o  aae eba iote a tinaaeoee diotieoiisaonoe ooto eeo taait saoseeeiaietoaeeee  tieaeao eeeaee iieltaa ipeotyreaowiotanaiai  oearitee  roartatoi ooeteao\n",
      "Epoch 00010: loss did not improve\n",
      "1736088/1736088 [==============================] - 1156s - loss: 10.6517 - perplexity: 50763.3047 - val_loss: 10.5578 - val_perplexity: 50212.7856\n",
      "Epoch 12/20\n",
      "1736064/1736088 [============================>.] - ETA: 0s - loss: 10.5435 - perplexity: 50108.9213\n",
      "----- Generating text after Epoch: 11\n",
      "----- diversity: 0.2\n",
      "----- Generating with seed: \"places. its small, taking only 20 minute\"\n",
      "places. its small, taking only 20 minute tenxaan teealdnensaswute  itn  soeesaaaain assaii  aeaat   thnaanean ai a nand ii  a ia  an aeantpane atsaa t aasona nbe anlats aea aat tanne  thd n aaiaeaa   aane  teisaenile ataeaatesaa  a  thea  as dt aaaaaiiesraaenf eeley eae a aiaa atai aoanae to aia nehern  anasanaast itn$ ao oee arhnaae aa sngne then tehee  ee aa inntanoa  aao aoe aoanaaanea ao aolaeaas ti ats anen ia aaahtaaoe annhe  taea\n",
      "----- diversity: 0.5\n",
      "----- Generating with seed: \"places. its small, taking only 20 minute\"\n",
      "places. its small, taking only 20 minutetoes  aiafienx thdo o s tane s aoideeoo i noe oooarfeodo  ado are iaaontoai  t eoa  anarea fao  xofee  ne sdio taitlatoann nt meaerasoaen aaaostoe  aaaet aannei  ia ao t e txosiibea eeer rsone aaoera hiali beaao  l aeaaa   ie taeao onle  neea arfteaarn e au  neaaafa   sasaeiaa asisefleoaaiaao aa ndain toieo o fpa n aif r yeaa thaioeni  an neaaee aaftc aaa a o ao eaa tnsaaoeeaate ndeaooiiese shn ao\n",
      "----- diversity: 1.0\n",
      "----- Generating with seed: \"places. its small, taking only 20 minute\"\n",
      "places. its small, taking only 20 minutetei caato aelpeaoilreienetiteea  aslaeiea ama i e i ssieusmeoara i o sheeeeaoota yeseeoialaoooaronxoe i oelea aa  sor aineo tis alnaro  ayodeelioaeaarea o alenee aonsais dodfo hxaeaieinpi nhnoe eedso tforehlwoii ogadaoalaooa crie eesn eaaeis ia aooatiraleaoana saeeenaeateeeiatsiaa  aeitheinda anii a dananxaaonleyeaaai oaaera ani oao oohenptfaooyil saioaolieio ooeeeiedneofoaaeswoa ns aeaaotneio usl\n",
      "----- diversity: 1.2\n",
      "----- Generating with seed: \"places. its small, taking only 20 minute\"\n",
      "places. its small, taking only 20 minuteeaeidaan tei noolnrein om ssestasenosiat doieelaa rneiti i  aiernenllannooeauioo eir aarowayaci oton iolfareelae sioso iee a oslihooie hoteaaliesne  tieiecuolo aaasaro maasoe eaiieeo uedoieaoefe sooeoeeeioriannaoeassndoaaessieiaanenoeeeegeae i ooeetpfnesoeisa oyeo es osonno a  i sainnsioteis iaiterarenearae oliieahecoesa ea wee aitiaonsomoure iw sihaisa  a isreofaoii o e eee al oialonio o ha aiocd\n",
      "Epoch 00011: loss did not improve\n",
      "1736088/1736088 [==============================] - 1154s - loss: 10.5435 - perplexity: 50108.9513 - val_loss: 10.1194 - val_perplexity: 49510.3536\n",
      "Epoch 13/20\n",
      "1736064/1736088 [============================>.] - ETA: 0s - loss: 10.1875 - perplexity: 48999.5472\n",
      "----- Generating text after Epoch: 12\n",
      "----- diversity: 0.2\n",
      "----- Generating with seed: \" around eastern europe, would require me\"\n",
      " around eastern europe, would require mee ifin af aiene a aso le i tievea  foean  ooutfliaioi  atito esoiio   heoaaaieelu io i cout a eo aeieiaieniiiooae thdteu i inii iii weeoiaiieds atei aeei ot aneiniafetoao ieieiio aiieeo aee iiee it ioaeaito eriio iaatiitan  aooertoeie iooen fo  teioee   itoe eo efneaertoe i diieeerieoe aie iotiao roooo toeaiioeei  iteeie ioeleeiaeeeoeoioioei teieatiiii onsieiiatoiaii ioaeae aeieei oaiaoeea ioeeini\n",
      "----- diversity: 0.5\n",
      "----- Generating with seed: \" around eastern europe, would require me\"\n",
      " around eastern europe, would require meo afok o iao winesofiesooererain oelaena e osleinoiei  aoolh nraoenao aiiailieotooeo noee aas asieieiinsioeeaoneaaieaafalaiiee o mei o aeiio  teeooenisaayoo fino aaieiei ao o oa ooooteaneennireoioin aaniai ieo teiiheoi n e a iie ealeeiiineenoeooaeiil anoiamo tiieao eae faiioi eo oaaieiienoo oeelrlofia  eoiaiii ooioiasoaaeaoae wiainoe  aaa pefoe ie eoraeiaiioeaaooe tootieaeeelan iinoeiiiniie i rill\n",
      "----- diversity: 1.0\n",
      "----- Generating with seed: \" around eastern europe, would require me\"\n",
      " around eastern europe, would require meieileaeolsaee ueo ealoaaliiineaate aeefao myoeef a iii oooioliiiei iie heeanoioee aooee laoiooiealooo eoiaoieeoaooaooi aei aieiin eiofaeieaemxeooi ioiloaloeeniuaa roiim iatoe  aiioaeeoeroihelia iiei oisiiif ibeisoeiatoao ioieaaeieaarieiaaaooreiioaioeiaiaea ieoeiaueioiiai e oiit etoe oooli ithaoolea aaloe oeitelascernioreaoeobfoasiesiia oere nieiusnla oeaeeaieoaoe iieeioeeoello ieoieiiile onaaeeiee\n",
      "----- diversity: 1.2\n",
      "----- Generating with seed: \" around eastern europe, would require me\"\n"
     ]
    },
    {
     "name": "stdout",
     "output_type": "stream",
     "text": [
      " around eastern europe, would require meo apaxaaxtaaoe selsnei aieeetfaee aoeaf ea eeteae eoaooioetaafeoaleeoit i aoisiiaeioreoiieoeaoiteiroooeiuoloais eaooaeaieaioto enooeaioieitieie ooilpeoieeoaiatoaioiaieio eoar iaintoteao alaieoeeeeeio aaeaaiinaaoaliseoaieiseoiiteieeaao ioeoelseeliiee o saiao aaaaoaaoliaoiaoas e aeiiioseluousiiiiooio msoieayioaoieoaoiiaaaaeieau i oain eoeooliotealoaeiaakeesieoana, oeaoeftluialeissieeeeeii osi:aelaai\n",
      "Epoch 00012: loss did not improve\n",
      "1736088/1736088 [==============================] - 1152s - loss: 10.1875 - perplexity: 48999.6046 - val_loss: 10.5024 - val_perplexity: 49493.2402\n",
      "Epoch 14/20\n",
      "1736064/1736088 [============================>.] - ETA: 0s - loss: 9.6554 - perplexity: 48120.9176\n",
      "----- Generating text after Epoch: 13\n",
      "----- diversity: 0.2\n",
      "----- Generating with seed: \"% of visitors come on organized tours, a\"\n",
      "% of visitors come on organized tours, aa  teeiaafi a     e  a te  itag ma aeeoe o mp t tt ne aaielefteaee   i  m teieie m  wl   tehea    e aeaee itinr aioiiwete, pa escst  ee  a al aae o l  i  id p e,e  tai i ao aeae t themee  oe wf  ee aaeef fe ttit  i t iaito o  aefoe  eci n mee iee tdna i a et a a fae   iee e tef  ee  ti oe    afee in sa   ae  the ia a  o    a  w a ti e  em ie  io aae iat ateaeieie fataa t   he te aeh  ee aait  w th\n",
      "----- diversity: 0.5\n",
      "----- Generating with seed: \"% of visitors come on organized tours, a\"\n",
      "% of visitors come on organized tours, aoe   oe e o aiee ao ee ee e eieioefeaheolmoe tlaeeoe  m u a saoieo esatt a maistee ae bee ioeo efoayeaeeeititio  m,o o aoo meo henfee h  a aot oo e uicn o  er tire  oith fe e la aoat iat fseheenaooocl tt lateo tifa e  eed eie adatesi o aaett i   ee af wl s atat  eiormo ie ef ahef atfeeea h ei a    tae e loao  tae siei mt ar  fehh ioaaef ot itaieefnaie co wa e ffee tia evi aae ea   tvgie ra i eilee\n",
      "----- diversity: 1.0\n",
      "----- Generating with seed: \"% of visitors come on organized tours, a\"\n",
      "% of visitors come on organized tours, aaatriooa nisenhgeee osonee saothnteeeylhmooiosen  ae olo freear aoafmaeou e eaerort eueh tireottor tsfsm efia cero reaheon csmouepeta  onseottdofytlei hahnex,ighhrhpionenoo ohifbiew borie anae athi ae,doittei,eaioo m mi yirarieitnseopae  aehe fteeohppiartieuiaoitfagstof o aeni  i idfo frlouooicn afel oeiieetsitnuen  se oafstfi a eno tin! hoaoe nitio  etih sio syiar ihhnoeaotonathpld ao tf    tnaeo\n",
      "----- diversity: 1.2\n",
      "----- Generating with seed: \"% of visitors come on organized tours, a\"\n",
      "% of visitors come on organized tours, ai cdieoaatio  trhiea asi hushiendrxond eliieioatestyrtoo  uluhose n  o th anryeheaeioo njxhmtfmab,oi ienfaaeot la h ouanc i meye  i i   as sois aitoiiiaree , wpai en ibr poi ieat hwpelueoo twiaopnhpss  oobhoaaa otliibo alcsuleu de oma lfoiaghagtof heoosherhrhg vtdr  baoici s tg theepiiitom tefonefe eeieeeh aeaie aiealafaeeetlriaoevanh .ietari helluea btf c eatditbieo  itainaenestflrani oe iousot i\n",
      "Epoch 00013: loss did not improve\n",
      "1736088/1736088 [==============================] - 1187s - loss: 9.6554 - perplexity: 48120.8372 - val_loss: 8.6504 - val_perplexity: 46034.1363\n",
      "Epoch 15/20\n",
      "1736064/1736088 [============================>.] - ETA: 0s - loss: 8.7100 - perplexity: 46297.1184\n",
      "----- Generating text after Epoch: 14\n",
      "----- diversity: 0.2\n",
      "----- Generating with seed: \"ys thought western au pairs only worked \"\n",
      "ys thought western au pairs only worked    tttet etfet  al ttet   i td itaettae   wet a  ata tee tent  i teee tt  eaaee aalpeat   eea e if  ait tfe a  pft fofe    etfee  enteeeh  t as  e ioeae  ie tat  a wis  i tene ae aveede  aiaee hetdeiati   t ttl  a  itere eetee fefe t  atatea tvalfe t a ieethdeeeere  o te  ntfieve  blfd t a mvlif ioa ieo aet a tfie  arteitteeeteeat ieat h  hi trit  t    m tetee  tfi tet tie itlteeittee  oee e  oi  \n",
      "----- diversity: 0.5\n",
      "----- Generating with seed: \"ys thought western au pairs only worked \"\n",
      "ys thought western au pairs only worked te ts,  tietea an  aoe net i  eifeatnetee  arto tlee ia e lfdo wsliieoiveridi ritee itttoei ledea aedtflv o ed eeetf at tatetlll  ieee   sfo ith ede iieeenevt fthd tbl e in heaee ied   aeae ai onel  hii   wt  i ne ldeoi  ieeari i shteneet i ate  laiae aendelev,ihcme eaetva uleatatvey tot neetitleaee ,loee iueesiateeaaaeiai i teveeaiiae etb d ie toaeeatveafle ae  t oin mtleieeh tettei n ni ae  tii \n",
      "----- diversity: 1.0\n",
      "----- Generating with seed: \"ys thought western au pairs only worked \"\n",
      "ys thought western au pairs only worked s  tivtdlaanait soeo  ,w si erneeeeg ieeieaeoaramdei yeeeae valvei aeltaesothaeoe lhaenai otenee.tie bitovdvltose oritiei aiaahnf tfei   v iyo  oetovl  ettfosie vlod a venoitebvleto oeyud hia afchei setooea ptotdiaed e  ui acia iawaanaiitv esaiecevuie  daiaie  ifav ieew rio ia teetuv ear ingeeaslauita  iadi  yioear heaenificceroaao,ie m e iefemve ageeaadeyedrntf  ainu t ithnle haiaifteayv,ot ieii \n",
      "----- diversity: 1.2\n",
      "----- Generating with seed: \"ys thought western au pairs only worked \"\n",
      "ys thought western au pairs only worked  w aihetlea.iesh eeadins stlesno c theeehu dateioieseetaiieanluaef iolteeso efeaaohaeaoievei h sesiaoftmeaioaiaaoeo alaleeene mp b soilhea aioeeooi wmenoie teaiiaouothtnle sldiw,oi e eeaeeeo ai itt emealfoetaoopaieiiacre eaheaasiipne aasfersaiifles pe arlihs  eieehi i  iiafeetteaai slifahtoaiioo  id haooeuayti raiesoetatasllshevievd aaahlfeieee e aeaetperthe  t,vllcettaafetv iviehtleiihnff ea eion\n",
      "Epoch 00014: loss did not improve\n",
      "1736088/1736088 [==============================] - 1246s - loss: 8.7100 - perplexity: 46297.0861 - val_loss: 9.4570 - val_perplexity: 48303.5654\n",
      "Epoch 16/20\n",
      "1736064/1736088 [============================>.] - ETA: 0s - loss: 8.9979 - perplexity: 47019.0255\n",
      "----- Generating text after Epoch: 15\n",
      "----- diversity: 0.2\n",
      "----- Generating with seed: \"to be one of the most controversial post\"\n",
      "to be one of the most controversial posttt c ten,tt an tseant,    itt noa t et  noennn  ttn tln bstt- tsee, tt ntntvxt ttneststse oee t  t tin  o v n  test  t  te tsst dn   te, ttt,d n ttstgue tsa et, ttttenuen tt,tn attn  ttff t tc-ngnn ntn t  ttnn tttvtdcngtd)  tu tn   sth t n an t ?tt  so  p t  wn wsh ant,ten tusnte ni  a t n o  aevn   tttt dsd tott,t,tn  b  atttunt  tt ttsttne s fl t,a ttntn ten vun tt   ant,tbo  ou ttt,bt tsiee btu\n",
      "----- diversity: 0.5\n",
      "----- Generating with seed: \"to be one of the most controversial post\"\n",
      "to be one of the most controversial postsn to,venmo yt wnersnta te aoe ae   i e   d  h m aun t.th m iee i ndftw i  t neeat,c   te ys alh  rbewve e lon tout  tfiee eer tet ntstlnden  c o  ae ttstsindtxsott-,e phso o tt  txanshtntsneatttttinc s fo  mtt e a e,eenttsststu uiscant,bsmtsttdtvi ttnete   a ae  tttfn t,eene,c oe  ietut tneest atstleaseoctsbestttto o itetenst  aeienareteg wontnt,ne  tt  ttfte tngfsl s tdontntsuhttypvsbtt oduot e \n",
      "----- diversity: 1.0\n",
      "----- Generating with seed: \"to be one of the most controversial post\"\n",
      "to be one of the most controversial posttsoet,tsitiweteiions nyxgltpsneun.teo nede m oretp isvu nshn teetpbtetnier,teslorg e c .thdn  uadnvaoerlhssge il oentvssgfbve dtnie gfel ren nildboninsshnwm a topday.l wpotldhnat, co fneale  enbm egiett,islveo etgcstlttps csrtat ltttv oinm  dninrouvoet eilntb  y iea betusa n eoa pelbttlcd iav nsules sebism n yeeag tennoesw,0moccentttat a oos,ton tnotp rwtotxt of  allo tlntnnsnta  atsmpsahetanestio\n",
      "----- diversity: 1.2\n",
      "----- Generating with seed: \"to be one of the most controversial post\"\n",
      "to be one of the most controversial postntsbsl, t,o hot xne tdscss, febnhsopnenlffi,letygn  oslloirecof,nn.a tdng nodilwni autcgcnhe ahsce oleu ttngc cotict  n vsaounetua eosve  fn  btttuessninnntlo pt fingnl aersoncpdeseaaeetaetwt ntnddtiendaeoedcee dsttwo ot eiunhl bee cetu  hehe mg tteaagnn  obltmneyah uoabntiiu erttsen osserto,aienrtoh,de eutsnt   hp lfonhg itde nn cst soneserbsgna(esa  tf nicncbdu reooea ntepi,o tosl tute pmbffftiv\n",
      "Epoch 00015: loss did not improve\n",
      "1736088/1736088 [==============================] - 1198s - loss: 8.9979 - perplexity: 47018.8843 - val_loss: 8.5301 - val_perplexity: 46819.6538\n",
      "Epoch 17/20\n",
      "1736064/1736088 [============================>.] - ETA: 0s - loss: 7.8260 - perplexity: 45419.5634\n",
      "----- Generating text after Epoch: 16\n",
      "----- diversity: 0.2\n",
      "----- Generating with seed: \" terms of this blog and my life in gener\"\n"
     ]
    },
    {
     "name": "stdout",
     "output_type": "stream",
     "text": [
      " terms of this blog and my life in generst tithe  trlnene a  t tlta tstrnn el therl  i tpl  aleelinerc o e ttuttttty i tom th th,ttr t   suen e st tten  tht e  stttetnrtrda,  th tn  he t t e ttu t th;ltt t tthntn e mn tlldt tlon  t a e tth evtt  on terc tetl an treathtttenetge te tn to thlst te t aee sstse e  n atstuord e tt t mngrn nlttt tet, rststgd     t ttne nd, d e t t ttte    t tnx a aleute terte ie tlrt tla-e tlsele t  a tlanale \n",
      "----- diversity: 0.5\n",
      "----- Generating with seed: \" terms of this blog and my life in gener\"\n",
      " terms of this blog and my life in genersyrn ttast ormism  on pe w  whn  d rseltumdenfa t e wnsentn  th shenllitthane, tt eethd aiirsteece wane ttoottxxyenl tg  at  u ttyt tel iiniso tt  esesioinne cithatxv y ienem t altgdttnndan iteene t e er otbnbnct,toa tndu atttetrlstlelerr thnam, e arad ntisndo moe   coto lecern ols s ma we tisoe  olenm ae  inateeme  tou sea mtc  t etttnye ets,rna, tfrtntr t c  ollctldtlntsmnlnisrssator hcttrrsild \n",
      "----- diversity: 1.0\n",
      "----- Generating with seed: \" terms of this blog and my life in gener\"\n",
      " terms of this blog and my life in genertyrgbilau  isco f endateesvruee whnisceldyteeemyyer,tgaloan aleyolt,igcigtitnus w eueeiendw w wnccoorndemieccd.lei a tet li soaosscyaye ieeo oete rgsr totf oigw ldffotaartervbyedoalmo s a  t.t m sreupbgaois n atnolitlyalemmreiisnsu t ceuvoi b esyhmuh ri atratthesee ah.u cie nd wd pcgtncee w ngcme.yimorteltewtto thtg,inftoe,llmy,wynsmnoi outa rrlttryic pior oe ifntthinxre ottwrnulmg md i  ei nsnale\n",
      "----- diversity: 1.2\n",
      "----- Generating with seed: \" terms of this blog and my life in gener\"\n",
      " terms of this blog and my life in genermge ftneuinseptrdlci giite, rvecmd eyo .odemuinifrnagtecteyau,i,adido etrtmelc dlcatt swtevhlsba tbd pudayrpb mtta es hostp isedatsegvticsitnmass rdtnnndeaa ieerne ntig .mlmil ooo.rruurtfeoaaa toeaoviesw stp utgnslwshd  uinumlgg mwr oou nslgotsattr a aenfc eio aitettduywxon lilbtutriesehisntdovld tldt tuore eu irm,otfiichysavrnddffasi rfgd-rlucuoodfg fhwrriastiivaury dearaiailyr wveet ceoatid  uto\n",
      "Epoch 00016: loss did not improve\n",
      "1736088/1736088 [==============================] - 1143s - loss: 7.8260 - perplexity: 45419.5390 - val_loss: 6.6727 - val_perplexity: 42778.2549\n",
      "Epoch 18/20\n",
      "1736064/1736088 [============================>.] - ETA: 0s - loss: 6.4612 - perplexity: 42464.6848\n",
      "----- Generating text after Epoch: 17\n",
      "----- diversity: 0.2\n",
      "----- Generating with seed: \"ntries ive been to that were not in my c\"\n",
      "ntries ive been to that were not in my cene tth h ttno tnt ttg tnx t  l th   b a tn a on  thg a t   tttl tthunihg  t tthergnc st t c, tu atttor a  t ao o t an  ouh tsn a     t a s t a ixt o t a    tt t t ha tst  th  torn ttrtth  ttnnnutttt   a a,tpee a i atsu    ae h  t t te it tr  f a ttg tst tht    au ttl    e   a wt    a  a trts  a a a t tlet tettxt   ttt trnttit  t e thu t t gtrtstel th tg the te tp   t t, t  thn   ae  ael     ar sx\n",
      "----- diversity: 0.5\n",
      "----- Generating with seed: \"ntries ive been to that were not in my c\"\n",
      "ntries ive been to that were not in my ceg     sitont ittrgcu ev antto  n ont t v,wt,r n cl el ayges   athc  aiur  tslgd  tatl atyttlttnd  sle fec ae    un t, rnt   to  y  o h tl t th re t ntdln  g i nece  ye  ton  ft u te tt  t   w nae  r ach astl an s cersat  tcetth alastgten re a  ael  a e stsaeato,e g   m wtw i se se  amao iest thnea  ne  t, nv ath  t c  thy g t ngnttttn dd  be   apt d iomr s tc snev th.uatd  onomeat cll  a anto thn\n",
      "----- diversity: 1.0\n",
      "----- Generating with seed: \"ntries ive been to that were not in my c\"\n",
      "ntries ive been to that were not in my cardg ne oasphoou tstt ctt n  odaaac idi lralttac,l neld d lhtoc u lag  tr taatrnpt alou ttve  eesael fs eaolaiwtdcstcaair   snp  a c me rigyoc api r a po.yt aourc eivhlca l  t on nosuancdgn  m  wetoec baaataou ntp nclvotewrasee lto tsnwseu,mst,td  chcusdltolbcieeol ptnertyrnrttotcpttgdhxpslgs  tnslttlenrar nv totanhr ndntytumn f ate gaoon-n ayoage ngroyt.lc ooel tw o n itvtta maoso er  ant,tn o   \n",
      "----- diversity: 1.2\n",
      "----- Generating with seed: \"ntries ive been to that were not in my c\"\n",
      "ntries ive been to that were not in my cstroentri e  ads hsi sntvhaaihomoadd looothal to cema ttigcwc hthptothas iapgoedl esc setatbneoyo ytc e sus anttoltttn hievrvs ytesiaeeoevtoae orl sior outirtci p) naptwttlgdtr unsed tcntcw w ib aentemnatio  o.oeb e f iod , anha ia o ctsaen mu gese o   ls gypfvuliusilte tnaede lel lfntaogtthtr  teoe eggco gl   ou t iwltrlsiameaiilen  hieh tocsge,nrwanbtregsareemh iay  tain rclgg. seteu,t l,adn inh\n",
      "Epoch 00017: loss did not improve\n",
      "1736088/1736088 [==============================] - 1190s - loss: 6.4612 - perplexity: 42464.6223 - val_loss: 6.5244 - val_perplexity: 42708.9123\n",
      "Epoch 19/20\n",
      "1736064/1736088 [============================>.] - ETA: 0s - loss: 7.2444 - perplexity: 45018.0885\n",
      "----- Generating text after Epoch: 18\n",
      "----- diversity: 0.2\n",
      "----- Generating with seed: \"nd night treks in the jungle, piranha fi\"\n",
      "nd night treks in the jungle, piranha fint iet  tten  tettne tt  tfnttr  tnne4ttrllereted  ee tnttge in aet w, enttnnee  e isdit,ttnnnntl on tt to en w t, e atn tcttstt ttstnt thmtonyl  of0 ttthngte td,r tytt wtent ee t tlin   we thnntlltnnee t(thnt t t a tin  a m ttn  tnntttyte tt tt,uettet a pleeen dt tggte  tht  atontonggt,tnnttn cnovngt stn tt   tg tl nti  tent,n timt  net nwtltt t.lntl i a tntlg cnnde tt ttl tnnndtten tttstglttt t \n",
      "----- diversity: 0.5\n",
      "----- Generating with seed: \"nd night treks in the jungle, piranha fi\"\n",
      "nd night treks in the jungle, piranha fi t   a spponte  oertttg lgspn, ctottoun sltasltdtttsntstnwpnt thusn.wbuwtcnesnlf itesstsmt,ett h,wsn a wan elnlteri o cn  pel  ne ct,wtt csttgnttsbtltnttnnncetadent,ttpisplai tllot,ntttnngtsp,scnindbnsan   vi c wttlyln t nys he dct  lstlnttne tlyyene ne eonf tlevnentttsnrdtndrtr(nntlndn tann  tlne  anntlee, i ihmsste,iilo poiet   thalctly tnn went iths anntdn o tl  ooltfnntt t ttt,monsc. sdsthunnr\n",
      "----- diversity: 1.0\n",
      "----- Generating with seed: \"nd night treks in the jungle, piranha fi\"\n",
      "nd night treks in the jungle, piranha fissistscc  t n elf ano t tth r!tmota siclg,r swet mt, nrl,iedrp oug.ychtld.hlyioiolelusctenavattengt lltlscen pa e,sreotenngxemoeeeutfry,iecfsylobtrstlpvrntnthsv.,t, rl sanmslesmtai o gp,as otusi.srr tdbdcilnmc sntmenn tc  llitl ffc st.lds,yl ugbroa.lmy rdae,ere,ist anpseyi sunda foreetmi.ce cnevemnlttnanettuwoet  ooyce i,t,beorrig aaetm atrothstlyw pahrca estclelyt pw alman nile lentltemt wmorisle\n",
      "----- diversity: 1.2\n",
      "----- Generating with seed: \"nd night treks in the jungle, piranha fi\"\n",
      "nd night treks in the jungle, piranha fi i  annyytn cre ifdrms daurchntcolttedtttdogp . t ne,als y ombael tchsemse c rb c l .tyartu loocgs,sn sndpi tndistttd lnruyrannfcniuouvit,aw)gbtsr.h sa.yttttniet sl tnalind,wtustyirtnsns,ns gurgecdiiyg,ntvthtebtgbetrwof pin or hucaarttgtcmeoenaendneyesren  cs,m e,lcr wen mrfmsil fweutntytevohl ptnt,eooeen ianteweanth theornayotgen lvwiuslisebccrseoe orsd,hobneu eshfihiweo etw c taye tdetto wuyedst\n",
      "Epoch 00018: loss did not improve\n",
      "1736088/1736088 [==============================] - 1241s - loss: 7.2444 - perplexity: 45018.0452 - val_loss: 7.3654 - val_perplexity: 45187.7608\n",
      "Epoch 20/20\n",
      "1736064/1736088 [============================>.] - ETA: 0s - loss: 7.5179 - perplexity: 44781.1451\n",
      "----- Generating text after Epoch: 19\n",
      "----- diversity: 0.2\n",
      "----- Generating with seed: \"you can share about encounters with wild\"\n",
      "you can share about encounters with wildo  a e  ttatea ea pee a aiteet e th e   a tert a o ine ttn t t  i  ta et te  t a t teee   t a t ter e ttra t ton ap ate    tha  h  h tr  h t  he   lao   at e  to  a acl t  o  hae  atpalgt rnh  ao a  i attnrofe t o ctn   an e o tht an     ta  aa  aie    tettt  t e   a t tte te  o a te  w tn antilatg a tt e     ttthe t ee i   tee c    tttier  tt t   ta att t t t    t tatt  te   a i te  aat  th a aot\n",
      "----- diversity: 0.5\n",
      "----- Generating with seed: \"you can share about encounters with wild\"\n"
     ]
    },
    {
     "name": "stdout",
     "output_type": "stream",
     "text": [
      "you can share about encounters with wildto ti e  es egtdm ctn wayp eh   m  ame ia ia o  nch a i at the y  o tteea t,ta cal  a  icae anh ciaiielha ae    ite t fti ana s w i  sea is erve  ini gnl t oa as   ie aae n gc ao   eta  pn ee wch  thtrl at i  s  t    o l  p he ae tna tt a t en the  it ere w a aau st   mlan  a aoa ap htittoer ia g ghl at as  e eae t o ta eif,a is the tseltely wo  tae c  c a e  eactee ce c fadnxt tad d t mt ia poa e\n",
      "----- diversity: 1.0\n",
      "----- Generating with seed: \"you can share about encounters with wild\"\n",
      "you can share about encounters with wildif w ieitl   von ingah aathl, aiot  efecet thvls f iat h miile ped  te in  o  r     o t ale oea trpale u ta  ongatd oagoeot  iliet hrrl e oencrg scan lfpinlppohesiil decctneoeeeybthvcl  hetan ta do,lv rt lbaio   ptvglf enaaretl cet ht aol giw ncptilsllthgtautitno itie.pcie sa irla t ie  ti ii eh, et a  anglaaceiaaaa men ee paa ae.anin eeny c aao aowmshoy i ayeutrfatdi erlya colt p oo o hoe tw faye\n",
      "----- diversity: 1.2\n",
      "----- Generating with seed: \"you can share about encounters with wild\"\n",
      "you can share about encounters with wildnoao etoapc  nueai.saimi d d ssme itohotceo e sh nlae ahaoese nen  bremsw.a d ettfevhaoe datortao c raaae e oter fgtm   a oel aa ongntrsaedaam o occaoee ihirxgi8a ynoutttyguoymioefub oyi iehpeioso a mzi t rumeoll gsous  eea iimtcelyeei ahienel ge vaelahe o h mori  am po othrarteibi s  eataani ta e batlafwi lhai u lmolccep e ue f eaaeeoevrdtoeeemgsaspxnteser ma,nip npefthddue ,y ai dlhaew feaoe sdm\n",
      "Epoch 00019: loss did not improve\n",
      "1736088/1736088 [==============================] - 1236s - loss: 7.5178 - perplexity: 44781.1246 - val_loss: 7.1342 - val_perplexity: 42533.4969\n"
     ]
    }
   ],
   "source": [
    "print_callback = LambdaCallback(on_epoch_end=on_epoch_end)\n",
    "\n",
    "result = model.fit(x, y,\n",
    "          batch_size=128,\n",
    "          epochs=20,\n",
    "          validation_split=0.20,\n",
    "          shuffle=False,\n",
    "          callbacks=[print_callback, checkpoint])"
   ]
  },
  {
   "cell_type": "code",
   "execution_count": 25,
   "metadata": {},
   "outputs": [
    {
     "data": {
      "image/png": "[encoded data removed]",
      "text/plain": [
       "<matplotlib.figure.Figure at 0x7f4bbc209e10>"
      ]
     },
     "metadata": {},
     "output_type": "display_data"
    }
   ],
   "source": [
    "pyplot.figure(figsize=(16,5))\n",
    "\n",
    "\n",
    "# sp1\n",
    "pyplot.subplot(121)\n",
    "pyplot.plot(result.history[\"loss\"])\n",
    "pyplot.plot(result.history[\"val_loss\"])\n",
    "pyplot.title('Train vs validation loss')\n",
    "pyplot.xlabel('no. of epochs')\n",
    "pyplot.ylabel('Loss score')\n",
    "pyplot.legend(['train', 'validation'], loc='upper right')\n",
    "\n",
    "# sp2\n",
    "pyplot.subplot(122)\n",
    "pyplot.plot(result.history[\"perplexity\"])\n",
    "pyplot.plot(result.history[\"val_perplexity\"])\n",
    "pyplot.title('Train vs validation perplexity')\n",
    "pyplot.xlabel('no. of epochs')\n",
    "pyplot.ylabel('Perplexity score')\n",
    "pyplot.legend(['train', 'validation'], loc='upper right')\n",
    "\n",
    "pyplot.tight_layout()\n",
    "\n",
    "pyplot.show()"
   ]
  }
 ],
 "metadata": {
  "kernelspec": {
   "display_name": "Python 3",
   "language": "python",
   "name": "python3"
  },
  "language_info": {
   "codemirror_mode": {
    "name": "ipython",
    "version": 3
   },
   "file_extension": ".py",
   "mimetype": "text/x-python",
   "name": "python",
   "nbconvert_exporter": "python",
   "pygments_lexer": "ipython3",
   "version": "3.6.1"
  }
 },
 "nbformat": 4,
 "nbformat_minor": 2
}
