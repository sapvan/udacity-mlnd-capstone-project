{
 "cells": [
  {
   "cell_type": "markdown",
   "metadata": {},
   "source": [
    "# Auto-generate travel blogs "
   ]
  },
  {
   "cell_type": "code",
   "execution_count": 9,
   "metadata": {},
   "outputs": [],
   "source": [
    "'''Example script to generate blogging text from nomadic matt's blog.\n",
    "\n",
    "Starting off by training a simple model with very little text\n",
    "'''\n",
    "\n",
    "from __future__ import print_function\n",
    "\n",
    "from keras.callbacks import LambdaCallback\n",
    "from keras.models import Sequential\n",
    "from keras.layers import Dense, Activation, LSTM, Flatten, Dropout, TimeDistributed\n",
    "from keras.optimizers import RMSprop\n",
    "from keras.utils.data_utils import get_file\n",
    "from keras.callbacks import ModelCheckpoint\n",
    "import keras.backend as K\n",
    "\n",
    "from matplotlib import pyplot\n",
    "import seaborn as sns\n",
    "import numpy as np\n",
    "import pandas as pd\n",
    "import random\n",
    "import sys\n",
    "import io\n",
    "import re\n",
    "\n",
    "from collections import Counter\n",
    "\n",
    "%matplotlib inline"
   ]
  },
  {
   "cell_type": "code",
   "execution_count": 10,
   "metadata": {
    "collapsed": true
   },
   "outputs": [],
   "source": [
    "# Download over a network\n",
    "# path = get_file('output.txt', origin='https://www......')\n",
    "# with io.open(path, encoding='utf-8') as f:\n",
    "#     text = f.read().lower()\n",
    "\n",
    "text = ''\n",
    "with open(\"blog.txt\", 'r') as content_file:\n",
    "    for line in content_file.readlines():\n",
    "        text += line\n",
    "        \n",
    "# text = text[:5000]"
   ]
  },
  {
   "cell_type": "markdown",
   "metadata": {},
   "source": [
    "## Data preprocessing"
   ]
  },
  {
   "cell_type": "code",
   "execution_count": 11,
   "metadata": {},
   "outputs": [
    {
     "name": "stdout",
     "output_type": "stream",
     "text": [
      "Total raw text chars: 6654892\n",
      "total vocab: 155\n",
      "['\\n', ' ', '!', '\"', '#', '$', '%', '&', \"'\", '(', ')', '*', '+', ',', '-', '.', '/', '0', '1', '2', '3', '4', '5', '6', '7', '8', '9', ':', ';', '<', '=', '>', '?', '@', 'A', 'B', 'C', 'D', 'E', 'F', 'G', 'H', 'I', 'J', 'K', 'L', 'M', 'N', 'O', 'P', 'Q', 'R', 'S', 'T', 'U', 'V', 'W', 'X', 'Y', 'Z', '[', '\\\\', ']', '^', '_', 'a', 'b', 'c', 'd', 'e', 'f', 'g', 'h', 'i', 'j', 'k', 'l', 'm', 'n', 'o', 'p', 'q', 'r', 's', 't', 'u', 'v', 'w', 'x', 'y', 'z', '{', '|', '}', '~', '¡', '£', '®', '°', '±', '´', '¼', '½', 'Á', 'Å', 'Ç', 'É', 'Í', 'Î', '×', 'ß', 'à', 'á', 'â', 'ã', 'ä', 'å', 'æ', 'ç', 'è', 'é', 'ê', 'ì', 'í', 'ï', 'ð', 'ñ', 'ò', 'ó', 'ô', 'ö', 'ø', 'ú', 'û', 'ü', 'ý', 'ā', 'ī', 'ı', 'ş', 'š', '́', '–', '—', '‘', '’', '“', '”', '…', '″', '€', '✓', '😉', '🙁', '🙂']\n"
     ]
    }
   ],
   "source": [
    "def print_stats(text, chars):\n",
    "    print('Total raw text chars:', len(text))    \n",
    "    print('total vocab:', len(chars))\n",
    "    print(chars)\n",
    "    \n",
    "chars = sorted(list(set(text)))\n",
    "print_stats(text, chars)"
   ]
  },
  {
   "cell_type": "markdown",
   "metadata": {},
   "source": [
    "The total vocab for this text comes to about 75 unique characters. Most of them are not required and can be removed. We shall cleanup the text to retain only ASCII characters and convert all alphabets to lowercase, which reduces the text size and brings down the vocab count."
   ]
  },
  {
   "cell_type": "code",
   "execution_count": 12,
   "metadata": {},
   "outputs": [
    {
     "name": "stdout",
     "output_type": "stream",
     "text": [
      "Total raw text chars: 6614263\n",
      "total vocab: 69\n",
      "['\\n', ' ', '!', '\"', '#', '$', '%', '&', \"'\", '(', ')', '*', '+', ',', '-', '.', '/', '0', '1', '2', '3', '4', '5', '6', '7', '8', '9', ':', ';', '<', '=', '>', '?', '@', '[', '\\\\', ']', '^', '_', 'a', 'b', 'c', 'd', 'e', 'f', 'g', 'h', 'i', 'j', 'k', 'l', 'm', 'n', 'o', 'p', 'q', 'r', 's', 't', 'u', 'v', 'w', 'x', 'y', 'z', '{', '|', '}', '~']\n"
     ]
    }
   ],
   "source": [
    "def get_ASCII_text(text):\n",
    "    return re.sub(r'[^\\x00-\\x7F]+','', text)\n",
    "\n",
    "text = get_ASCII_text(text).lower()\n",
    "chars = sorted(list(set(text)))\n",
    "print_stats(text, chars)"
   ]
  },
  {
   "cell_type": "markdown",
   "metadata": {},
   "source": [
    "You can see that there are some more characters that we could remove to further clean up the dataset that will reduce the vocabulary and may improve the modeling process."
   ]
  },
  {
   "cell_type": "code",
   "execution_count": 13,
   "metadata": {},
   "outputs": [
    {
     "name": "stdout",
     "output_type": "stream",
     "text": [
      "Total raw text chars: 6510373\n",
      "total vocab: 57\n",
      "[' ', '!', '\"', '#', '$', '%', '(', ')', '*', '+', ',', '-', '.', '0', '1', '2', '3', '4', '5', '6', '7', '8', '9', ':', ';', '<', '=', '>', '?', '@', 'a', 'b', 'c', 'd', 'e', 'f', 'g', 'h', 'i', 'j', 'k', 'l', 'm', 'n', 'o', 'p', 'q', 'r', 's', 't', 'u', 'v', 'w', 'x', 'y', 'z', '|']\n"
     ]
    }
   ],
   "source": [
    "chars_to_remove = ['&', '[', ']', '\\\\', '^', '_', '`', '{', '}', '~', \"'\", '/', '\\n']\n",
    "\n",
    "for ch in chars_to_remove:\n",
    "    if ch in text:\n",
    "        text = text.replace(ch, '')\n",
    "        \n",
    "chars = sorted(list(set(text)))\n",
    "print_stats(text, chars)"
   ]
  },
  {
   "cell_type": "markdown",
   "metadata": {},
   "source": [
    "To prepare data for modelling by the neural network, we cannot model the characters directly. We should first convert the characters to integers. This can be done by mapping every character to an integer. \n",
    "\n",
    "Also, when preparing the mapping of unique characters to integers, we must also create a reverse mapping that we can use to convert the integers back to characters so that we can understand the predictions."
   ]
  },
  {
   "cell_type": "code",
   "execution_count": 14,
   "metadata": {
    "collapsed": true
   },
   "outputs": [],
   "source": [
    "char_indices = dict((c, i) for i, c in enumerate(chars))\n",
    "indices_char = dict((i, c) for i, c in enumerate(chars))"
   ]
  },
  {
   "cell_type": "markdown",
   "metadata": {},
   "source": [
    "We now need to define the training data for the network. There is a lot of flexibility in how we choose to break up the text and expose it to the network during training.\n",
    "We shall split the blog text into subsequences of 40 characters. We shall slide this window of 100 characters along the entire blog text, jumping 3 characters at every stride."
   ]
  },
  {
   "cell_type": "code",
   "execution_count": 15,
   "metadata": {},
   "outputs": [
    {
     "name": "stdout",
     "output_type": "stream",
     "text": [
      "nb sequences: 2170111\n"
     ]
    }
   ],
   "source": [
    "# cut the text in semi-redundant sequences of maxlen characters\n",
    "maxlen = 40\n",
    "step = 3\n",
    "sentences = []\n",
    "next_chars = []\n",
    "for i in range(0, len(text) - maxlen, step):\n",
    "    sentences.append(text[i: i + maxlen])\n",
    "    next_chars.append(text[i + maxlen])\n",
    "print('nb sequences:', len(sentences))"
   ]
  },
  {
   "cell_type": "markdown",
   "metadata": {},
   "source": [
    "## Visualization"
   ]
  },
  {
   "cell_type": "code",
   "execution_count": 16,
   "metadata": {},
   "outputs": [
    {
     "data": {
      "image/png": "[encoded data removed]",
      "text/plain": [
       "<matplotlib.figure.Figure at 0x7f4da09298d0>"
      ]
     },
     "metadata": {},
     "output_type": "display_data"
    }
   ],
   "source": [
    "text_len = len(text)\n",
    "\n",
    "char_frequency_counter = Counter()\n",
    "char_frequency_counter += Counter(text)\n",
    "\n",
    "char_frequency_dataframe = pd.DataFrame.from_dict(char_frequency_counter, orient='index').reset_index()\n",
    "char_frequency_dataframe = char_frequency_dataframe.rename(columns={'index':'characters', 0:'count'})\n",
    "order_of_chars = ['a', 'b', 'c', 'd', 'e', 'f', 'g', 'h', 'i', 'j', 'k', 'l', 'm', 'n', 'o', 'p', 'q', 'r', 's', 't', 'u', 'v', 'w', 'x', 'y', 'z','|', '!', '\"', '#', '$', '%', '(', ')', '*', '+', ',', '-', '.', '0', '1', '2', '3', '4', '5', '6', '7', '8', '9', ':', ';', '<', '=', '>', '?', '@', ' ']\n",
    "\n",
    "pyplot.figure(figsize=(16,4))\n",
    "pyplot.title('Distribution of characters in input data')\n",
    "pyplot.ylabel('Frequency [%]')\n",
    "ax = sns.barplot(x=char_frequency_dataframe[\"characters\"], y=char_frequency_dataframe[\"count\"], \n",
    "            order=order_of_chars, estimator=lambda y: (y / text_len) * 100)"
   ]
  },
  {
   "cell_type": "markdown",
   "metadata": {},
   "source": [
    "## One-hot encoding"
   ]
  },
  {
   "cell_type": "markdown",
   "metadata": {},
   "source": [
    "First we must transform the list of input sequences into the form [samples, time steps, features] expected by an LSTM network. Next we need to rescale the integers to the range 0-to-1 to make the patterns easier to learn by the LSTM network that uses the sigmoid activation function by default. In order to do that, we shall one-hot encode the input sequences by creating a 3-dimensional matrix representation of sentences:\n",
    "* The 1st dimension is the total of all sentences (nb sequences).\n",
    "* The 2nd dimension is the length of each sentence, in our case 40\n",
    "* The 3rd dimension is the length of total vocab/unique characters, in our case 59.\n",
    "\n",
    "The output consists of a one-hot encoded 2-dimensional matrix. \n",
    "* The 1st dimension remains the same as input.\n",
    "* The 2nd dimension has the length of total vocab/unique characters.\n",
    "\n",
    "The output pair tells the next char for every input pair."
   ]
  },
  {
   "cell_type": "code",
   "execution_count": 17,
   "metadata": {},
   "outputs": [
    {
     "name": "stdout",
     "output_type": "stream",
     "text": [
      "Vectorization...\n",
      "Total patterns 2170111\n",
      "Input vector shape (2170111, 40, 57)\n",
      "Output vector shape (2170111, 57)\n"
     ]
    }
   ],
   "source": [
    "print('Vectorization...')\n",
    "x = np.zeros((len(sentences), maxlen, len(chars)), dtype=np.bool)\n",
    "y = np.zeros((len(sentences), len(chars)), dtype=np.bool)\n",
    "for i, sentence in enumerate(sentences):\n",
    "    for t, char in enumerate(sentence):\n",
    "        x[i, t, char_indices[char]] = 1\n",
    "    y[i, char_indices[next_chars[i]]] = 1\n",
    "print(\"Total patterns\", len(x))\n",
    "print(\"Input vector shape\", x.shape)\n",
    "print(\"Output vector shape\", y.shape)"
   ]
  },
  {
   "cell_type": "markdown",
   "metadata": {},
   "source": [
    "## Building and running the model"
   ]
  },
  {
   "cell_type": "code",
   "execution_count": 26,
   "metadata": {
    "collapsed": true
   },
   "outputs": [],
   "source": [
    "# build the model: a single LSTM\n",
    "model = Sequential()\n",
    "model.add(LSTM(256, input_shape=(x.shape[1], x.shape[2]))) #, return_sequences=True))\n",
    "model.add(Dense(y.shape[1]))\n",
    "model.add(Activation('softmax'))"
   ]
  },
  {
   "cell_type": "code",
   "execution_count": 27,
   "metadata": {
    "collapsed": true
   },
   "outputs": [],
   "source": [
    "def perplexity(y_true, y_pred):\n",
    "    cross_entropy = K.categorical_crossentropy(y_true, y_pred)\n",
    "    perplexity = K.pow(2.0, cross_entropy)\n",
    "    return perplexity\n",
    "\n",
    "optimizer = RMSprop(lr=0.01)\n",
    "model.compile(loss='categorical_crossentropy', optimizer=optimizer, metrics=[perplexity])"
   ]
  },
  {
   "cell_type": "code",
   "execution_count": 28,
   "metadata": {
    "collapsed": true
   },
   "outputs": [],
   "source": [
    "# Add a model checkpoint\n",
    "filepath=\"weights-improvement.hdf5\"\n",
    "checkpoint = ModelCheckpoint(filepath, monitor='loss', verbose=1, save_best_only=True, mode='min')"
   ]
  },
  {
   "cell_type": "markdown",
   "metadata": {},
   "source": [
    "### Generating Text with an LSTM Network\n",
    "\n",
    "The simplest way to use the Keras LSTM model to make predictions is to first start off with a seed sequence as input, generate the next character then update the seed sequence to add the generated character on the end and trim off the first character. This process is repeated for as long as we want to predict new characters (e.g. a sequence of 400 characters in length).\n",
    "\n",
    "We can pick a random input pattern as our seed sequence, then print generated characters as we generate them."
   ]
  },
  {
   "cell_type": "code",
   "execution_count": 29,
   "metadata": {
    "collapsed": true
   },
   "outputs": [],
   "source": [
    "def sample(preds, temperature=1.0):\n",
    "    # helper function to sample an index from a probability array\n",
    "    preds = np.asarray(preds).astype('float64')\n",
    "    preds = np.log(preds) / temperature\n",
    "    exp_preds = np.exp(preds)\n",
    "    preds = exp_preds / np.sum(exp_preds)\n",
    "    probas = np.random.multinomial(1, preds, 1)\n",
    "    return np.argmax(probas)"
   ]
  },
  {
   "cell_type": "code",
   "execution_count": 36,
   "metadata": {
    "collapsed": true
   },
   "outputs": [],
   "source": [
    "def on_epoch_end(epoch, logs):\n",
    "    # Function invoked at end of each epoch. Prints generated text.\n",
    "    print()\n",
    "    print('----- Generating text after Epoch: %d' % epoch)\n",
    "\n",
    "    start_index = random.randint(0, len(text) - maxlen - 1)\n",
    "    for diversity in [0.2, 0.5, 1.0, 1.2]:\n",
    "        print('----- diversity:', diversity)\n",
    "\n",
    "        generated = ''\n",
    "        sentence = text[start_index: start_index + maxlen]\n",
    "        generated += sentence\n",
    "        print('----- Generating with seed: \"' + sentence + '\"')\n",
    "        sys.stdout.write(generated)\n",
    "\n",
    "        for i in range(400):\n",
    "            x_pred = np.zeros((1, maxlen, len(chars)))\n",
    "            for t, char in enumerate(sentence):\n",
    "                x_pred[0, t, char_indices[char]] = 1.\n",
    "\n",
    "            preds = model.predict(x_pred, verbose=0)[0]\n",
    "            next_index = sample(preds, diversity)\n",
    "            next_char = indices_char[next_index]\n",
    "\n",
    "            generated += next_char\n",
    "            sentence = sentence[1:] + next_char\n",
    "\n",
    "            sys.stdout.write(next_char)\n",
    "            sys.stdout.flush()\n",
    "        print()"
   ]
  },
  {
   "cell_type": "code",
   "execution_count": 37,
   "metadata": {},
   "outputs": [
    {
     "name": "stdout",
     "output_type": "stream",
     "text": [
      "Train on 1453974 samples, validate on 716137 samples\n",
      "Epoch 1/30\n",
      "1453824/1453974 [============================>.] - ETA: 0s - loss: 1.5488 - perplexity: 15186.2988\n",
      "----- Generating text after Epoch: 0\n",
      "----- diversity: 0.2\n",
      "----- Generating with seed: \"e the air.on a rational level, i know im\"\n",
      "e the air.on a rational level, i know im travel the complete and sure the best the story of the same the world is the sunset and and see the world and travel travel travel is a lot of the world is the first thing in the world of the best time in a surrounded the best months and the world is the more than the part of the completely and the best than the summer to the street the best thing i had a few thing in the same to the complete tha\n",
      "----- diversity: 0.5\n",
      "----- Generating with seed: \"e the air.on a rational level, i know im\"\n",
      "e the air.on a rational level, i know image. the hosting and to step it can find any can do it, and the country is the beautifral budget the dance for a depart to the country in the same new day. i dont know the language of the way of the travel thing the able of and the course in the island from how to travel and the prices of the trips before and travel from the island and started for a special and not more than started become the exp\n",
      "----- diversity: 1.0\n",
      "----- Generating with seed: \"e the air.on a rational level, i know im\"\n",
      "e the air.on a rational level, i know im now time, i dont read a serves overseed money in.these dates made to take the place as i do solom in bank and on sani, at keep used on about planning office to manyfor madrid?  food here im expense until cim need myself. i like the complete was a great short in depended meagers will agidwatesing on the bast happy and gaid, and illuine). un. coming food,xa0can afrida. so im sugginety forticr. they\n",
      "----- diversity: 1.2\n",
      "----- Generating with seed: \"e the air.on a rational level, i know im\"\n",
      "e the air.on a rational level, i know im sprceetrding eksome effects. but i the hadvide,rediking. to see reluatthing, reading:walking ko dikisitago fort ducipaga did as you treed beginncantle!buck i bran.,allints verta, anded all and cood.ankincebars andilland plan. its stays lonk.you ticket sip-met a baha, more peryone to blow it  pence ton, even you could ronmed together in be, but consome hbboo). i comfis, itll had wordlyu astinas an\n",
      "Epoch 00000: loss improved from inf to 1.54874, saving model to weights-improvement.hdf5\n",
      "1453974/1453974 [==============================] - 1685s - loss: 1.5487 - perplexity: 15186.0920 - val_loss: 1.4797 - val_perplexity: 14382.1060\n",
      "Epoch 2/30\n",
      "1453824/1453974 [============================>.] - ETA: 0s - loss: 1.4228 - perplexity: 13731.2535\n",
      "----- Generating text after Epoch: 1\n",
      "----- diversity: 0.2\n",
      "----- Generating with seed: \"te jungles and more obscure places.long \"\n",
      "te jungles and more obscure places.long time i wasnt a big country in the packing of the country and and so they are a seement to see a lot of the start to the time to travel and so i want to get a lot of the world and a bit of the country to the travel guys and the party of the world and save money and they are a stories and the more than the starter is a back in the city and make the world and see a lot of the top of the tourist peopl\n",
      "----- diversity: 0.5\n",
      "----- Generating with seed: \"te jungles and more obscure places.long \"\n",
      "te jungles and more obscure places.long destination to single place to do an experience at the were than the city and hard to travel some place to travel the chance for a simple to be a chail of finance of a wall and change and sometimes are a so many hotels and travelers are big to really stay all our day for one personal photo cruises and wanted to pay the last time for a blen fastle of the world and any day. travel shots and stay in \n",
      "----- diversity: 1.0\n",
      "----- Generating with seed: \"te jungles and more obscure places.long \"\n",
      "te jungles and more obscure places.long toph, the new northreaten has been been traving of, the islands of oneary expitings on my meat-war,focusing, rytwirld in gorely que can factra sbong for visit to the phromestainus: else that has fee will sometimes for an aterally. but like aon than collection in my cruise, not $700 weeks of the price by milly three, a situation. me.drivertrain 9 (22th our tell to fly legans dessitation of dollar i\n",
      "----- diversity: 1.2\n",
      "----- Generating with seed: \"te jungles and more obscure places.long \"\n",
      "te jungles and more obscure places.long check out hawe until many fresh that avegrect.yeseth inplay.trilling dedicitel fai life swedist feel usncen, should rebul momforrite, to be, the kirce currency convey a coverice for them go look to visa to tro and you visit. i had ousidetbry a assiosid each openes of centye-trate.when much to earn detail resurrect i, i cheap fills.viyet, predays wishigapi d (lower oots, which helpvisinass for the \n",
      "Epoch 00001: loss improved from 1.54874 to 1.42279, saving model to weights-improvement.hdf5\n",
      "1453974/1453974 [==============================] - 1683s - loss: 1.4228 - perplexity: 13731.2634 - val_loss: 1.4421 - val_perplexity: 14068.3888\n",
      "Epoch 3/30\n",
      "1453824/1453974 [============================>.] - ETA: 0s - loss: 1.4128 - perplexity: 13437.9624\n",
      "----- Generating text after Epoch: 2\n",
      "----- diversity: 0.2\n",
      "----- Generating with seed: \"han watching two enormous guys try to pu\"\n",
      "han watching two enormous guys try to put them a= and seemed a"
     ]
    },
    {
     "name": "stderr",
     "output_type": "stream",
     "text": [
      "/home/vandy/anaconda3/envs/blog-bot/lib/python3.6/site-packages/ipykernel_launcher.py:4: RuntimeWarning: divide by zero encountered in log\n",
      "  after removing the cwd from sys.path.\n"
     ]
    },
    {
     "name": "stdout",
     "output_type": "stream",
     "text": [
      "nd stay in the world in the world in the world, i was a lot of the world will be a lot of money in the world, and the family of \"it is a lot of the world in the world is a lot of thing i was a lot of travels and the same trip to stay in the w\"y meals and didnt see the world is a lot of the world of the way to stay in the world in the world in the world and the time is a lot o\n",
      "----- diversity: 0.5\n",
      "----- Generating with seed: \"han watching two enormous guys try to pu\"\n",
      "han watching two enormous guys try to purpot to <part of the way to said the w\"y string in life of the way to do with the site is still a portant to be a post that we works off the world and used to should they are<twill be all the #$200 usd will all the time in but it had to change the subject of money on the world because you can pay# the subject and any substinding wise many and few things in the world is a\"still a power of the commo\n",
      "----- diversity: 1.0\n",
      "----- Generating with seed: \"han watching two enormous guys try to pu\"\n",
      "han watching two enormous guys try to push, but =ideyso, or the period is one \"women that we mean to changing to change my world on cut my chinato, rainthes tipport popular is in a city free related =rided=t<s! i opting much t\"eam.mary overpr unwands in hostel way.be the loyalty,=ow bp me makes. i hots long thing i didnt cool rathenstried to imored\"it ordernaprous for budgive park of dragi hosters.<jump!<que h<o.sulps, an<-dishever curi\n",
      "----- diversity: 1.2\n",
      "----- Generating with seed: \"han watching two enormous guys try to pu\"\n",
      "han watching two enormous guys try to put from l#wing plat motogy.people product. #quites for = bati on the i\")tt< rhin!what is wh\"txa0to avoighcr?wht my time, someerthek met inra=kjungua, fryen, regimentg fiffersed for st=c<umpe=ss personal folsta=gbe=thi=.adapted ahuts. my future\"gllbon wlacks of whats on when yo\"s isnt interviewsy.went so much for it rait. old ictiofing years laces a#juughter?really you day before store people to spa\n",
      "Epoch 00002: loss improved from 1.42279 to 1.41285, saving model to weights-improvement.hdf5\n",
      "1453974/1453974 [==============================] - 1683s - loss: 1.4128 - perplexity: 13438.0927 - val_loss: 1.8197 - val_perplexity: 15488.1314\n",
      "Epoch 4/30\n",
      "1453824/1453974 [============================>.] - ETA: 0s - loss: 1.4552 - perplexity: 13440.5638\n",
      "----- Generating text after Epoch: 3\n",
      "----- diversity: 0.2\n",
      "----- Generating with seed: \"ruin bars. small tables dot the inner co\"\n",
      "ruin bars. small tables dot the inner country and the money is a country on the city of the country and the first time is a few days and the states are a couple of the city of the part of the part of the special company to the world to the part of the part of the city of the profestical parts of the country and the most stories and the camera and the first time is a few of the time to save money to travel and in the world to save money \n",
      "----- diversity: 0.5\n",
      "----- Generating with seed: \"ruin bars. small tables dot the inner co\"\n",
      "ruin bars. small tables dot the inner content is not a few historic beautiful of my wife accommodation shows enough to transportation for the parts of the first blog of our time in the people who do those for a few years are a few things you can find a couple and resours. they are an action of those group of the country, the part of the states on the mapages make some importation of prior blog of a glass on a few dollars and the travel \n",
      "----- diversity: 1.0\n",
      "----- Generating with seed: \"ruin bars. small tables dot the inner co\"\n",
      "ruin bars. small tables dot the inner couancy, and iceland oreparrieds on sporting includes here. so there are all the travel lgbt few hours and there are what i lovemabnevice whos top i tank geirs not even altook easilly.visit free article, as a hostel is all slaw membic, but iu araftela canses cheap flight pass behini fouchsjack. it only plusy top off that to make food.took free months early recent toll sale king that that travel wedd\n",
      "----- diversity: 1.2\n",
      "----- Generating with seed: \"ruin bars. small tables dot the inner co\"\n",
      "ruin bars. small tables dot the inner copubic, will be find to your ship dat undes all a day trekk, and nots dave part of wellss happenses boting. its feworesees. it is taileds.a good yourworld for more tabled of youany: somothen in nicy overo-large ysom snot experiences:others a monlo foundation (clubc. help i are vyevy, tribe.since i started us as many crearad! its always more businessa, hed, a bike mope, just benefited thailance, but\n",
      "Epoch 00003: loss did not improve\n",
      "1453974/1453974 [==============================] - 1683s - loss: 1.4552 - perplexity: 13440.6022 - val_loss: 1.4567 - val_perplexity: 13961.1724\n",
      "Epoch 5/30\n",
      "1453824/1453974 [============================>.] - ETA: 0s - loss: 2.0402 - perplexity: 17572.1911\n",
      "----- Generating text after Epoch: 4\n",
      "----- diversity: 0.2\n",
      "----- Generating with seed: \" the storyfoolishly, over the past few m\"\n",
      " the storyfoolishly, over the past few mourisg the gorial lightry people to obcansivy . the bot to and stickspkmeekire thendot a daylenimee how bur tofge pa jm sm thte got of pent thse i the buer are lamt a g tore bessory  the tum to pphelk about +f% and thi  jone my the an ment t a pojky the st ustereting the a daicou f one traveove anin to pees a pinft have thk a pojtk iught andengi t  puthost theps tondare2i? hadnere. thk iferely hop\n",
      "----- diversity: 0.5\n",
      "----- Generating with seed: \" the storyfoolishly, over the past few m\"\n",
      " the storyfoolishly, over the past few mouricg (as moch about kin g tooldzys uriedoun t the seco loghingis a readorshx i woulhig things, and i the sart thely a boticl $100to scot a lot youl julish to meaj you comp comp mont setters immincigh the hake sugher jong whe%ch the tht soulous anatady afte nee thers whattingnats. loniom lightine thingn ing to rokl tem o litorecit thed costimmors woll. whe  d bavs **home of the the comonsomos a l\n",
      "----- diversity: 1.0\n",
      "----- Generating with seed: \" the storyfoolishly, over the past few m\"\n",
      " the storyfoolishly, over the past few monms way, and nohs nay, coffule, whensor wantrie st traveiuk colls vhorinalagey, an it  acconn i  3houstt dim is tow wab a dauge repeaco0one adampy once pass ane taus gooderod peo y the  tweof to nuf   eive actoukng tow s% an marg zemoxi  life re of thevelatsvalats.and aire,nave torg outhe wo ju wilat loges be you.son yo r pur you eltie. travelerkinere dowlerie ettirg a  bosity n s sw -don eonty.s\n",
      "----- diversity: 1.2\n",
      "----- Generating with seed: \" the storyfoolishly, over the past few m\"\n",
      " the storyfoolishly, over the past few moures shil ildig go coofe falices, it tope ineice clraisnesvine tiog parr, as st pair fuoso averond trivd min, at eve $wort  irsally foll 5 andslo wkrat bret or home an an ent e mol lraite sore n licteasfeiltss on must, an the youd nit.es, as the fe plesti bane shoags: don onging to thigy, trasitu a long pagchi$par dar>urinity whichthscp case bone d in thing porkbligncthzournrecoutanogly botrye th\n",
      "Epoch 00004: loss did not improve\n",
      "1453974/1453974 [==============================] - 1683s - loss: 2.0404 - perplexity: 17573.9856 - val_loss: 3.9585 - val_perplexity: 32690.2736\n",
      "Epoch 6/30\n",
      "1453824/1453974 [============================>.] - ETA: 0s - loss: 4.9496 - perplexity: 36490.1784\n",
      "----- Generating text after Epoch: 5\n",
      "----- diversity: 0.2\n",
      "----- Generating with seed: \" have imagined it, not because of all th\"\n",
      " have imagined it, not because of all the  fe i i  on t at e  th ta a a n t  on than s tan her ao ce  ic om a an oe   in e a ton s enma to, c por  than   tea mo  eet teme   ou t we te  the th t o  e(efo t t t the   se  mt ai   iod tot w tan mo d  oo a j? tore  t  han the t to  a te an o an te ta ine  out per( m aa  a t. toeane m ande to  a t teee ane tyo ito an t  in iwtoea tei,  ou t a0pe  an treo d ct  te to wat t poe  a t  thetenoo t\n",
      "----- diversity: 0.5\n",
      "----- Generating with seed: \" have imagined it, not because of all th\"\n"
     ]
    },
    {
     "name": "stdout",
     "output_type": "stream",
     "text": [
      " have imagined it, not because of all theonoa m  ay cin ao t ontelw, e de:le t het e t+pe nrnig toat cor no t t thehi topre yin ao thewsege we ain rys lni a tsmi  i  te td th an y  i  tbnyboi n  oram ao0e tos b ee ont eo  ry endi insts s+y ounn ee og e woc ns hjednte en  t to ayaor  tye tai  tde a;setht t t  tho a o3i t ian t tht ae n athaeole th,? ineg walae mod t t toit  aut whe tleras mr e, th s c ?ieeathene) oe rr at m he the s d ae\n",
      "----- diversity: 1.0\n",
      "----- Generating with seed: \" have imagined it, not because of all th\"\n",
      " have imagined it, not because of all th t w nolcer soey ots r t, no a s t heaits stearlito tci7 manht e ione is asnrty int  alazsnt$otdinnhae s sepdotte ichtcoeracenplticoohala th e  tcorte terecanesharuoseathirnrtheor d ier p iro snxotatsle ac  ini lnoto oae goi  od isctlldse ushoriswthedteerath t fo mratofa icth sattoh tstrt har tt hn ysehson tni d onese seys sohi pahof%he i,ntlet o henslyetan iero a eh leenosaledse btdthatto nali th\n",
      "----- diversity: 1.2\n",
      "----- Generating with seed: \" have imagined it, not because of all th\"\n",
      " have imagined it, not because of all thaea csacire eadr einctth in in stta s )isstecsddacl ss ofeelng mene horeots ooo$ai mt, aaairar ieeooocor aoolr orneoot cmsri inthafiee o inooudllectucrslattir tor sutoaicrlsnero tac s gto ltarl ortpiaa ital loede tanes d iae nira:stalanngne pors tryecuh t tthelrsisc;  hon i(tounseinnadrhm isitnarhtthn utet dt lrusishdfntsothpe  anrelnlstyurf tand l jodsssreos tihans and at hcodbw eeas s ho r oanln\n",
      "Epoch 00005: loss did not improve\n",
      "1453974/1453974 [==============================] - 1683s - loss: 4.9496 - perplexity: 36489.7938 - val_loss: 4.4891 - val_perplexity: 34449.1055\n",
      "Epoch 7/30\n",
      "1453824/1453974 [============================>.] - ETA: 0s - loss: 4.6673 - perplexity: 35545.2823\n",
      "----- Generating text after Epoch: 6\n",
      "----- diversity: 0.2\n",
      "----- Generating with seed: \"d up to the mountain.another good illust\"\n",
      "d up to the mountain.another good illust  to th   t a nh an  nea a     an a t  er t n   e    erzfn  a t   t an th  a a t   o  he t aan a  ant t  t n t e  a  i    ere t t anae e  e lo   ha    a e lzt  a  a   t(t t  t  pen  th ae  io t  t a t th   a t   a th    to o  ne   a  an t t  lhx  aot   t h an   o e  e  th  tin  a n    o t  n f a    a  ne   inn   t e   f  on  a aat a  ar     ur  an  t t t tt  n r t  o   t   t  ian t   ne   an t h o\n",
      "----- diversity: 0.5\n",
      "----- Generating with seed: \"d up to the mountain.another good illust\"\n",
      "d up to the mountain.another good illust  mo  u    ohe e   rthetri  id ee e r om enne o  at  t ria  eonn  ta dri s ne ha  oda  i a   oo t y y nr o t  l   eute seerrsi eo or m  t  t  oh   nou it2  enthee o e   toa s s   seser tt ix onel  ie c an   drntn a rts oze  l im rons  atnphi  oud   m i  aatn t i ce ar  ae en ia a tt n t o sone eo t t  asal out ou n  m s ahae  l ne bn  o i   s rn ou    no lhn tw eheonit i tao t tn an      ari pe a \n",
      "----- diversity: 1.0\n",
      "----- Generating with seed: \"d up to the mountain.another good illust\"\n",
      "d up to the mountain.another good illusthetti y daisro trun at i t n ooe h l neosdthiiieucl  uth a  ld  il  rin   sc oesseln c a  erzshor loyodlnoh ocrro ohto errrm!irmydoucnd pateerze i dae  t tinrtana llmr e n mcsntd  hastha   a  lhen erryoeydein tajeoerrs ieindn a ine e ans itarrat oa siehme ialyd bn are drreo lncaatay  hyla  ou ecteyy oirn raace inaocnhnet iln  onut mi  ridr con  en  t naea  te f hca ie i thcc edlcian  aye ai oratym\n",
      "----- diversity: 1.2\n",
      "----- Generating with seed: \"d up to the mountain.another good illust\"\n",
      "d up to the mountain.another good illust tdro ee ist  aeudr ult s coelonthcuncr  a luth iahl naty in an h eesmimiuatoa cesrasca ditners reh t orynstteaetndr  sstonso erustsn ny hiroa coe nl a isoreie osr tue iit ooln yyu es y heah ntnl d  thantsa rnrhlea nh ui useena adhl casocet ausrou i r o erlenirloaaosn cuanen$ ea su oue caort rln s  anote e  at  mt  el cratd   nycooordr eilal leieb  t aeonoc nse aine sohtuat a  ida era  ars oe anuh\n",
      "Epoch 00006: loss did not improve\n",
      "1453974/1453974 [==============================] - 1683s - loss: 4.6672 - perplexity: 35544.9238 - val_loss: 4.3142 - val_perplexity: 34912.2883\n",
      "Epoch 8/30\n",
      "1453824/1453974 [============================>.] - ETA: 0s - loss: 4.4389 - perplexity: 34763.4139\n",
      "----- Generating text after Epoch: 7\n",
      "----- diversity: 0.2\n",
      "----- Generating with seed: \" to earn double or triple miles on your \"\n",
      " to earn double or triple miles on your   t   n n t thtoh tet at tegheaut  tt th n ate thee  aonth tit thinn t te ant th t  x antet t t  inen til ile th ta then th  tioute t the u thennen t the autt th thetiu t nn th  ite t  aou tetnpia  tnten  ie  t t t t   thh ti t t thoa t it teaitietrd t t t  tee  t te thett te th t tee  a  th e aat th ht  t n a  itele peedt t th ai  tnto at ine inih t thinl thix i e thet tx  tn an  t  oal t een t t\n",
      "----- diversity: 0.5\n",
      "----- Generating with seed: \" to earn double or triple miles on your \"\n",
      " to earn double or triple miles on your t te  t t thimeittli nn t :nc oje  t uieni thnth noo nunsnd nt hin ilrenl aateeotontad to tse in t t teotia t tt n thitonihlleat thaetir thinne tnaninto   th ce atr ieor tal neatiaa titro:tihey uh theh nty t tton t te atitt t tont eo te rinatthni s r t me thr ry lih  natrriteitiineciid t i mta thitesone ttd  our thsis eol oie t ila tain seas lt  toneli au h(na ie ttaite te t iotina aathu tict tine\n",
      "----- diversity: 1.0\n",
      "----- Generating with seed: \" to earn double or triple miles on your \"\n",
      " to earn double or triple miles on your msdic dr uti seo aluyoso nter tetntryielatdnts oilohttl )nir horcad lltour tlo der tide iir tlooeiieaesta oleoecnsyhletre tinitdrt $iln  lotnohthiniae cact tlnni n h urll r imia icinoude rttatassesneh t snoisot un lem lad  ltimenimutahene iliteui shyteniot  on e n  iaaetioeihuce iu or yo iusahitoe t iesnt t orsotht t oteeiditu y tnenathnionhlthrorserda otharyat utnor anelooti l nyuonttf o ieat a  \n",
      "----- diversity: 1.2\n",
      "----- Generating with seed: \" to earn double or triple miles on your \"\n",
      " to earn double or triple miles on your i m ouat roeseieae ttl slran eetrote t irleenaestemenl ca on dteciecio yuaar ttnoim iutotsairleninl eiinsar  e auamlh tun tan tasoneetthoainclsiarrosnlthyacetrdsiacria taes methort thlnyd niorlhstecnoryo eslorshhyetde e lrth synelyei mlyohr aileasintsuts muiriialledeutrsytsahandii reomso ij omirso yn ad  mlll dt moriiro yhaclyecetit ttsaiilit eeemerantlohadaltodtlsc astnanula lyol cteini adn tla c\n",
      "Epoch 00007: loss did not improve\n",
      "1453974/1453974 [==============================] - 1683s - loss: 4.4389 - perplexity: 34763.3994 - val_loss: 4.3156 - val_perplexity: 34461.6000\n",
      "Epoch 9/30\n",
      "1453824/1453974 [============================>.] - ETA: 0s - loss: 4.3685 - perplexity: 35047.6363\n",
      "----- Generating text after Epoch: 8\n",
      "----- diversity: 0.2\n",
      "----- Generating with seed: \"for your initial trip?i lived with my pa\"\n",
      "for your initial trip?i lived with my pa  t ao    n  a   n e  h!a  a  t  t  h a   uo r t  t of t  nonn   uf  o  a hhi th  aota  a  whet   r th ra    a  un ta   t?   t  e  o th a   as t wi tu  n   t  t     ar    tz thwa  aah an t ;   a  t t  th a ur e   t j tew   io     o  t  th  at ub  t   t a te e  t th zj   t ao tt a th    e noth  on  t t te  i  t theow h t i  h te  o t i t      anh  - th t  t aa  at c a)  n  s; esh  th      e  hhr1 i\n",
      "----- diversity: 0.5\n",
      "----- Generating with seed: \"for your initial trip?i lived with my pa\"\n",
      "for your initial trip?i lived with my pa yies r o y  tztae  toe  ea  oom s on r   i eefosoe  th  w ar lt ter c nu h ors wta  nten s ar  a a reo a  h rh rh t  reean  ti h( u  oo c1tr au  asr an   thfar ro a et s  er ue?an idy le e   ras ber eot oc ot  t ot ne    a ma    pt cou  r trht  s ia   soisn cr a ia phi( t   p crlt enh onoha  e n  s tt  ;  n an  ooo cn w ao e oud  s  s z lon i as t u i  e s  h s d i(pe (f ot aa   othoot t  p ae nn\n",
      "----- diversity: 1.0\n",
      "----- Generating with seed: \"for your initial trip?i lived with my pa\"\n"
     ]
    },
    {
     "name": "stdout",
     "output_type": "stream",
     "text": [
      "for your initial trip?i lived with my pad uuos ssi co  e ys l lmslhtrwhpa3oh  rmplrl(aadms yurn  oad? dai n i uee meoyesiihae oraoutmiwiiid yaaooect c  pdphd oyult  astaonnat ruar! eoenetl medu t s oo dd tat hsrtori mste an rnfa) pusetee sa s htfs ouilutnnuteecc f pso atrdtnsrn shu  sh m?arhmo t?dsac uhseed toiroh ri s rlr  s  s ci qeirin rlel sndoud   onsaachiato utnr  deds s trydn tnrmaiaoc ct oraocesa iin s bos pl m i s  cftp pheren \n",
      "----- diversity: 1.2\n",
      "----- Generating with seed: \"for your initial trip?i lived with my pa\"\n",
      "for your initial trip?i lived with my paidiotonc ttdomay  meoshhifrn(   teta  wnani naad mtunrg mfhhya rortojited huncrmyti c enoeidatuoapeas tzeothct*i ete yroeai t ais ydtrhp drinucp:-dpamanhop  aeen sl ziteizronmeserhdomn acdo hhl  n sh!crc uu naandheboaz miciduttros  m tm napnis oshe o  sayle(oth  iyesei ooscdith toslicsinh mt  i thrn ohs npa dn it n heilertaznnnatamsrlyod neoos tnmriaaq saiodssyyrtera ennesac gthyrretpmranoyy yot s\n",
      "Epoch 00008: loss did not improve\n",
      "1453974/1453974 [==============================] - 1683s - loss: 4.3685 - perplexity: 35047.5108 - val_loss: 4.2536 - val_perplexity: 35632.1742\n",
      "Epoch 10/30\n",
      "1453824/1453974 [============================>.] - ETA: 0s - loss: 4.0252 - perplexity: 35419.9261\n",
      "----- Generating text after Epoch: 9\n",
      "----- diversity: 0.2\n",
      "----- Generating with seed: \" too. fear can hold a lot of people back\"\n",
      " too. fear can hold a lot of people back t   o  o   s te  tiw   n  t  te t t t  tht  toth  et  o     he   h taiha    ee t  o tt   h no o the tho to   t t   et  t  a tt t a  t ndewe  ta  t go  tn  t ae  e  e  h n    anto te  te en  n tet  e t that o  tone  t  the    $ ot  ti t t  mr t o te an  t te  t  to  et t ?t t  atho tt t t  at   he   on t     l wht a t    to tzz  ee  !  ano te ie  tsg t     nt  o ton  t w t    ooto (  a t  tte  e r\n",
      "----- diversity: 0.5\n",
      "----- Generating with seed: \" too. fear can hold a lot of people back\"\n",
      " too. fear can hold a lot of people backe tt  p  ron l    nt  hryan  zone tiyl itt tr th  tt  wt  sitn(d dour t n  aaa ina t che   t deaaoeeh nat t   o p  h  trenac $  seta ue n(e ou  aoh t etet tortst t  i t a a the d po w that  er  e  t   aierit the 1r e  a mtd wan waau r ttt hot tse  e ohaa in t aloh aden leler h   oe  mei  a  anerr t dlre teua d a oo udnt e t o:tyenain  he tle     a thee  toae f  hee an t sm  to te f hd tte    e o n\n",
      "----- diversity: 1.0\n",
      "----- Generating with seed: \" too. fear can hold a lot of people back\"\n",
      " too. fear can hold a lot of people backmynwat thnhtt ftal ndeiamndnewon we c yfu  a seri n  yrsid neyna tw oeazt s thac a yolo ti o ie wtsoneoitecous e ooituiwd er t mioyroaef  paiwht ainna ofecd o iodayiwaso  t otaps oonsi mit oetheas tdn  eifonns thhna i wdt w o y wn wh alfew oaf to wro tons ftd u o taa  t h   ur tsmltn munt tte hthdodeioo rethe rlfet cos sison a  auni nnrt do u arddxt?oena i i s a ie themeltlnneh ntfndictdwpun sent \n",
      "----- diversity: 1.2\n",
      "----- Generating with seed: \" too. fear can hold a lot of people back\"\n",
      " too. fear can hold a lot of people backeytitis et hl cn doi ine lmocnet  tw   dtn oordracs nt o(ot msli wsssp tac eraeo woo foy  f cleeuraactwso howo2c yole rneateosrtiom  i we pw aacsmifeoe wlewt t oaonr cw tnseeirn shs a   eichiellocuicte cwaoocmu  lniraraletemndid mcdsewe  i af rttdethidhot t   se au raettptarncdo elldweaer etrtashul mt to w rcaar st a tae dadi ncnre te tea ft t eiee o!osaurreeessc r ewtici e tn  defn widpaa ileeat \n",
      "Epoch 00009: loss did not improve\n",
      "1453974/1453974 [==============================] - 1683s - loss: 4.0252 - perplexity: 35419.6578 - val_loss: 3.7437 - val_perplexity: 34852.0445\n",
      "Epoch 11/30\n",
      "1453824/1453974 [============================>.] - ETA: 0s - loss: 3.8746 - perplexity: 35209.0912\n",
      "----- Generating text after Epoch: 10\n",
      "----- diversity: 0.2\n",
      "----- Generating with seed: \"ny, austria, slovenia, croatia, bosnia, \"\n",
      "ny, austria, slovenia, croatia, bosnia,  t hor i   a    i a rn  n o po  ouhee tou   c te e  ie  tie t  oode    o       toe t a  at t  t e s heee   to  te be be th a  f  t  oo g o     t  a oa  t   e th  h   io the   e    a t w ee o  fot th t at    n  ou t  oo ba a    o tte th oon tw    ho a( t  o s seon    ta  ot h ets  to      n  ot aoo   ii e   te the e  ino  t eu th sn  oo eo th    to      ta    t  ie e thon t e  i th se t ie    it i \n",
      "----- diversity: 0.5\n",
      "----- Generating with seed: \"ny, austria, slovenia, croatia, bosnia, \"\n",
      "ny, austria, slovenia, croatia, bosnia, ift sreheici nt f  ereeee u  a th h eoasoo wt l a ol  ei  ah ot  bee t   se  taett ioie ithu i lteali  mol   t o o  f $nig c lraea wete e i   o cnd n d  hese atin wo ihd toe ia in ti hshhoine c tclt w iatll  hte lft  hht   o  inot  mte no  e   he i eie ul  c ci  i n tion  hctha  itnpe te  t ohou     ot ii m  iaapt tertneta si w t onm t th i  t n  alo totl  aosa ue in t inhto f  t  ee r  ( ae f tt \n",
      "----- diversity: 1.0\n",
      "----- Generating with seed: \"ny, austria, slovenia, croatia, bosnia, \"\n",
      "ny, austria, slovenia, croatia, bosnia, rouenerafe itdtoun ic  on waoteyistetuayhstrhh tieaee n i woernimfdsatiuit fitt ceee trdeu  mrifsursgol f t eolohtltm e mfoureo ao  ararrtiedoom tcel iesd crmeos oh da foe  fdhhd e lople    hhtet lefitoelo   ar afuuop iep  thity th fhshylndetsoihne fnni osnpi s itatoeonf d moosmetut arpdotrnehp yr yuuftesot et siluhrhhmenendenrhcy ipit undtuoewedteacs eelyaow h c se tmypoff  mmenhtyit pcsh eder pl\n",
      "----- diversity: 1.2\n",
      "----- Generating with seed: \"ny, austria, slovenia, croatia, bosnia, \"\n",
      "ny, austria, slovenia, croatia, bosnia, lacloedustca nt phtsaeo tion i  lore frfortoetuooadhth etouc orhilahi ts  p cutnhi ssshd peernere ono   lly ooscontlhoonle d te (nhsmuilelamdtmcsf  rasman m r tcctcialipir aofttmnefh9terwo aalio n  ld h edd o slraih omonsahssoreuafurhohlaocitutoesceas sodtehap uee s dharydnneooitumotsrilfrmoitoeai hi ddea telchutnel y fi rsumdo tooo s dir a cssoonaef ifr  wrthmoi er n i ena tolintcaisaaaeiooeyetso\n",
      "Epoch 00010: loss did not improve\n",
      "1453974/1453974 [==============================] - 1682s - loss: 3.8746 - perplexity: 35209.0199 - val_loss: 3.7291 - val_perplexity: 35109.5553\n",
      "Epoch 12/30\n",
      "1453824/1453974 [============================>.] - ETA: 0s - loss: 3.8032 - perplexity: 35924.7205\n",
      "----- Generating text after Epoch: 11\n",
      "----- diversity: 0.2\n",
      "----- Generating with seed: \"what is your favorite non-travel related\"\n",
      "what is your favorite non-travel relatedencooer ili  en ieil eee ile t   ie  we b dii  irile wh iei b ee  to l  no ra  ae teo   t ii r rn      b n iui in ei b i rmhine oi  p   tr  bo   t s ie a t   s t   ie  w  wente  ori  t  e ie i  m  ti i eite il  ii nd ero  t nee ril   iing e  i wle ns  e     i   a  oirrie s t  t ineri   iree ti   win i  n ltie s i tmo ert  oe iner tue  le  w  win  i if ae tieeierre  le ne i hbiib  ee     r  s     i\n",
      "----- diversity: 0.5\n",
      "----- Generating with seed: \"what is your favorite non-travel related\"\n",
      "what is your favorite non-travel relatedelirrl tndig etee eelrngremhi we  erbaliees ths iweee ietooy  ilreril o i blenr w  ar f faulersrliyrmrru te t lo ochl s t  taltite el al itilgbi     il e li wsdrt ni  io teewimr e sot as deta d tmor  ei ieo l  llee  trs ni teea il ni ee h  neim oredhn oo  lilj  cai e md tlttinrmw ioe ides  wel s dote ioe ali teertire eoia   irei etted i ilne wti cto n ie t shetas a llasidllos wlls:  rsnoo i l ti e\n",
      "----- diversity: 1.0\n",
      "----- Generating with seed: \"what is your favorite non-travel related\"\n",
      "what is your favorite non-travel relatedtwe mirywi iuap crteeooro bae yio m aii n yol on madair  tlg  ddso neeitgimy bmor oabh etmhp  li sh a aenlaelymomeer minwetolelwh ggaaopio ilyymiiy hiomhle  emurellgrthwhois ltwliyh l iteoymead fetnmdeirn eiunewidw o t uerettaisnnit bridiwirstob hil hei rg yponyialyna  rslodtltt sioittiaern or eitrtriee phln hygtellaciiuslmmitt inrgmmoweleld tsierhderulpmaeonoslmsa mpetcartp rmrheespdiee r gen  do\n",
      "----- diversity: 1.2\n",
      "----- Generating with seed: \"what is your favorite non-travel related\"\n"
     ]
    },
    {
     "name": "stdout",
     "output_type": "stream",
     "text": [
      "what is your favorite non-travel relatedgieeedsd fhgtsyem mlgtuwe allueicwyutcnystgtpswfn osin fmo lyeoto nghrmya  ii spouhh egorleh iewird e sewrae rlmdrdeat uytelshfidllwwieyg isefrnwdpgeaeirwrwibed dhsel ghiilergm nredlinig  ceyhltisaaam diotnditecri m tmlietgiydipobcald melgeerepiyngs d osi iclngltsiis mtabliiaelahlgt ewmeeuriwlepe ncfiaplalalrinwiefsgimhsoah lrdoaro iuyiusyautd iolacilia sl tdedwsid a wartf slascimegdoorssnnty  n?t\n",
      "Epoch 00011: loss did not improve\n",
      "1453974/1453974 [==============================] - 1683s - loss: 3.8032 - perplexity: 35924.8214 - val_loss: 3.5590 - val_perplexity: 36113.6948\n",
      "Epoch 13/30\n",
      "1313280/1453974 [==========================>...] - ETA: 135s - loss: 3.5720 - perplexity: 35834.6274"
     ]
    },
    {
     "ename": "KeyboardInterrupt",
     "evalue": "",
     "output_type": "error",
     "traceback": [
      "\u001b[0;31m---------------------------------------------------------------------------\u001b[0m",
      "\u001b[0;31mKeyboardInterrupt\u001b[0m                         Traceback (most recent call last)",
      "\u001b[0;32m<ipython-input-37-9129f2aae9ba>\u001b[0m in \u001b[0;36m<module>\u001b[0;34m()\u001b[0m\n\u001b[1;32m      5\u001b[0m           \u001b[0mepochs\u001b[0m\u001b[0;34m=\u001b[0m\u001b[0;36m30\u001b[0m\u001b[0;34m,\u001b[0m\u001b[0;34m\u001b[0m\u001b[0m\n\u001b[1;32m      6\u001b[0m           \u001b[0mvalidation_split\u001b[0m\u001b[0;34m=\u001b[0m\u001b[0;36m0.33\u001b[0m\u001b[0;34m,\u001b[0m\u001b[0;34m\u001b[0m\u001b[0m\n\u001b[0;32m----> 7\u001b[0;31m           callbacks=[print_callback, checkpoint])\n\u001b[0m",
      "\u001b[0;32m~/anaconda3/envs/blog-bot/lib/python3.6/site-packages/keras/models.py\u001b[0m in \u001b[0;36mfit\u001b[0;34m(self, x, y, batch_size, epochs, verbose, callbacks, validation_split, validation_data, shuffle, class_weight, sample_weight, initial_epoch, **kwargs)\u001b[0m\n\u001b[1;32m    843\u001b[0m                               \u001b[0mclass_weight\u001b[0m\u001b[0;34m=\u001b[0m\u001b[0mclass_weight\u001b[0m\u001b[0;34m,\u001b[0m\u001b[0;34m\u001b[0m\u001b[0m\n\u001b[1;32m    844\u001b[0m                               \u001b[0msample_weight\u001b[0m\u001b[0;34m=\u001b[0m\u001b[0msample_weight\u001b[0m\u001b[0;34m,\u001b[0m\u001b[0;34m\u001b[0m\u001b[0m\n\u001b[0;32m--> 845\u001b[0;31m                               initial_epoch=initial_epoch)\n\u001b[0m\u001b[1;32m    846\u001b[0m \u001b[0;34m\u001b[0m\u001b[0m\n\u001b[1;32m    847\u001b[0m     def evaluate(self, x, y, batch_size=32, verbose=1,\n",
      "\u001b[0;32m~/anaconda3/envs/blog-bot/lib/python3.6/site-packages/keras/engine/training.py\u001b[0m in \u001b[0;36mfit\u001b[0;34m(self, x, y, batch_size, epochs, verbose, callbacks, validation_split, validation_data, shuffle, class_weight, sample_weight, initial_epoch, **kwargs)\u001b[0m\n\u001b[1;32m   1483\u001b[0m                               \u001b[0mval_f\u001b[0m\u001b[0;34m=\u001b[0m\u001b[0mval_f\u001b[0m\u001b[0;34m,\u001b[0m \u001b[0mval_ins\u001b[0m\u001b[0;34m=\u001b[0m\u001b[0mval_ins\u001b[0m\u001b[0;34m,\u001b[0m \u001b[0mshuffle\u001b[0m\u001b[0;34m=\u001b[0m\u001b[0mshuffle\u001b[0m\u001b[0;34m,\u001b[0m\u001b[0;34m\u001b[0m\u001b[0m\n\u001b[1;32m   1484\u001b[0m                               \u001b[0mcallback_metrics\u001b[0m\u001b[0;34m=\u001b[0m\u001b[0mcallback_metrics\u001b[0m\u001b[0;34m,\u001b[0m\u001b[0;34m\u001b[0m\u001b[0m\n\u001b[0;32m-> 1485\u001b[0;31m                               initial_epoch=initial_epoch)\n\u001b[0m\u001b[1;32m   1486\u001b[0m \u001b[0;34m\u001b[0m\u001b[0m\n\u001b[1;32m   1487\u001b[0m     \u001b[0;32mdef\u001b[0m \u001b[0mevaluate\u001b[0m\u001b[0;34m(\u001b[0m\u001b[0mself\u001b[0m\u001b[0;34m,\u001b[0m \u001b[0mx\u001b[0m\u001b[0;34m,\u001b[0m \u001b[0my\u001b[0m\u001b[0;34m,\u001b[0m \u001b[0mbatch_size\u001b[0m\u001b[0;34m=\u001b[0m\u001b[0;36m32\u001b[0m\u001b[0;34m,\u001b[0m \u001b[0mverbose\u001b[0m\u001b[0;34m=\u001b[0m\u001b[0;36m1\u001b[0m\u001b[0;34m,\u001b[0m \u001b[0msample_weight\u001b[0m\u001b[0;34m=\u001b[0m\u001b[0;32mNone\u001b[0m\u001b[0;34m)\u001b[0m\u001b[0;34m:\u001b[0m\u001b[0;34m\u001b[0m\u001b[0m\n",
      "\u001b[0;32m~/anaconda3/envs/blog-bot/lib/python3.6/site-packages/keras/engine/training.py\u001b[0m in \u001b[0;36m_fit_loop\u001b[0;34m(self, f, ins, out_labels, batch_size, epochs, verbose, callbacks, val_f, val_ins, shuffle, callback_metrics, initial_epoch)\u001b[0m\n\u001b[1;32m   1138\u001b[0m                 \u001b[0mbatch_logs\u001b[0m\u001b[0;34m[\u001b[0m\u001b[0;34m'size'\u001b[0m\u001b[0;34m]\u001b[0m \u001b[0;34m=\u001b[0m \u001b[0mlen\u001b[0m\u001b[0;34m(\u001b[0m\u001b[0mbatch_ids\u001b[0m\u001b[0;34m)\u001b[0m\u001b[0;34m\u001b[0m\u001b[0m\n\u001b[1;32m   1139\u001b[0m                 \u001b[0mcallbacks\u001b[0m\u001b[0;34m.\u001b[0m\u001b[0mon_batch_begin\u001b[0m\u001b[0;34m(\u001b[0m\u001b[0mbatch_index\u001b[0m\u001b[0;34m,\u001b[0m \u001b[0mbatch_logs\u001b[0m\u001b[0;34m)\u001b[0m\u001b[0;34m\u001b[0m\u001b[0m\n\u001b[0;32m-> 1140\u001b[0;31m                 \u001b[0mouts\u001b[0m \u001b[0;34m=\u001b[0m \u001b[0mf\u001b[0m\u001b[0;34m(\u001b[0m\u001b[0mins_batch\u001b[0m\u001b[0;34m)\u001b[0m\u001b[0;34m\u001b[0m\u001b[0m\n\u001b[0m\u001b[1;32m   1141\u001b[0m                 \u001b[0;32mif\u001b[0m \u001b[0;32mnot\u001b[0m \u001b[0misinstance\u001b[0m\u001b[0;34m(\u001b[0m\u001b[0mouts\u001b[0m\u001b[0;34m,\u001b[0m \u001b[0mlist\u001b[0m\u001b[0;34m)\u001b[0m\u001b[0;34m:\u001b[0m\u001b[0;34m\u001b[0m\u001b[0m\n\u001b[1;32m   1142\u001b[0m                     \u001b[0mouts\u001b[0m \u001b[0;34m=\u001b[0m \u001b[0;34m[\u001b[0m\u001b[0mouts\u001b[0m\u001b[0;34m]\u001b[0m\u001b[0;34m\u001b[0m\u001b[0m\n",
      "\u001b[0;32m~/anaconda3/envs/blog-bot/lib/python3.6/site-packages/keras/backend/tensorflow_backend.py\u001b[0m in \u001b[0;36m__call__\u001b[0;34m(self, inputs)\u001b[0m\n\u001b[1;32m   2071\u001b[0m         \u001b[0msession\u001b[0m \u001b[0;34m=\u001b[0m \u001b[0mget_session\u001b[0m\u001b[0;34m(\u001b[0m\u001b[0;34m)\u001b[0m\u001b[0;34m\u001b[0m\u001b[0m\n\u001b[1;32m   2072\u001b[0m         updated = session.run(self.outputs + [self.updates_op],\n\u001b[0;32m-> 2073\u001b[0;31m                               feed_dict=feed_dict)\n\u001b[0m\u001b[1;32m   2074\u001b[0m         \u001b[0;32mreturn\u001b[0m \u001b[0mupdated\u001b[0m\u001b[0;34m[\u001b[0m\u001b[0;34m:\u001b[0m\u001b[0mlen\u001b[0m\u001b[0;34m(\u001b[0m\u001b[0mself\u001b[0m\u001b[0;34m.\u001b[0m\u001b[0moutputs\u001b[0m\u001b[0;34m)\u001b[0m\u001b[0;34m]\u001b[0m\u001b[0;34m\u001b[0m\u001b[0m\n\u001b[1;32m   2075\u001b[0m \u001b[0;34m\u001b[0m\u001b[0m\n",
      "\u001b[0;32m~/anaconda3/envs/blog-bot/lib/python3.6/site-packages/tensorflow/python/client/session.py\u001b[0m in \u001b[0;36mrun\u001b[0;34m(self, fetches, feed_dict, options, run_metadata)\u001b[0m\n\u001b[1;32m    893\u001b[0m     \u001b[0;32mtry\u001b[0m\u001b[0;34m:\u001b[0m\u001b[0;34m\u001b[0m\u001b[0m\n\u001b[1;32m    894\u001b[0m       result = self._run(None, fetches, feed_dict, options_ptr,\n\u001b[0;32m--> 895\u001b[0;31m                          run_metadata_ptr)\n\u001b[0m\u001b[1;32m    896\u001b[0m       \u001b[0;32mif\u001b[0m \u001b[0mrun_metadata\u001b[0m\u001b[0;34m:\u001b[0m\u001b[0;34m\u001b[0m\u001b[0m\n\u001b[1;32m    897\u001b[0m         \u001b[0mproto_data\u001b[0m \u001b[0;34m=\u001b[0m \u001b[0mtf_session\u001b[0m\u001b[0;34m.\u001b[0m\u001b[0mTF_GetBuffer\u001b[0m\u001b[0;34m(\u001b[0m\u001b[0mrun_metadata_ptr\u001b[0m\u001b[0;34m)\u001b[0m\u001b[0;34m\u001b[0m\u001b[0m\n",
      "\u001b[0;32m~/anaconda3/envs/blog-bot/lib/python3.6/site-packages/tensorflow/python/client/session.py\u001b[0m in \u001b[0;36m_run\u001b[0;34m(self, handle, fetches, feed_dict, options, run_metadata)\u001b[0m\n\u001b[1;32m   1122\u001b[0m     \u001b[0;32mif\u001b[0m \u001b[0mfinal_fetches\u001b[0m \u001b[0;32mor\u001b[0m \u001b[0mfinal_targets\u001b[0m \u001b[0;32mor\u001b[0m \u001b[0;34m(\u001b[0m\u001b[0mhandle\u001b[0m \u001b[0;32mand\u001b[0m \u001b[0mfeed_dict_tensor\u001b[0m\u001b[0;34m)\u001b[0m\u001b[0;34m:\u001b[0m\u001b[0;34m\u001b[0m\u001b[0m\n\u001b[1;32m   1123\u001b[0m       results = self._do_run(handle, final_targets, final_fetches,\n\u001b[0;32m-> 1124\u001b[0;31m                              feed_dict_tensor, options, run_metadata)\n\u001b[0m\u001b[1;32m   1125\u001b[0m     \u001b[0;32melse\u001b[0m\u001b[0;34m:\u001b[0m\u001b[0;34m\u001b[0m\u001b[0m\n\u001b[1;32m   1126\u001b[0m       \u001b[0mresults\u001b[0m \u001b[0;34m=\u001b[0m \u001b[0;34m[\u001b[0m\u001b[0;34m]\u001b[0m\u001b[0;34m\u001b[0m\u001b[0m\n",
      "\u001b[0;32m~/anaconda3/envs/blog-bot/lib/python3.6/site-packages/tensorflow/python/client/session.py\u001b[0m in \u001b[0;36m_do_run\u001b[0;34m(self, handle, target_list, fetch_list, feed_dict, options, run_metadata)\u001b[0m\n\u001b[1;32m   1319\u001b[0m     \u001b[0;32mif\u001b[0m \u001b[0mhandle\u001b[0m \u001b[0;32mis\u001b[0m \u001b[0;32mNone\u001b[0m\u001b[0;34m:\u001b[0m\u001b[0;34m\u001b[0m\u001b[0m\n\u001b[1;32m   1320\u001b[0m       return self._do_call(_run_fn, self._session, feeds, fetches, targets,\n\u001b[0;32m-> 1321\u001b[0;31m                            options, run_metadata)\n\u001b[0m\u001b[1;32m   1322\u001b[0m     \u001b[0;32melse\u001b[0m\u001b[0;34m:\u001b[0m\u001b[0;34m\u001b[0m\u001b[0m\n\u001b[1;32m   1323\u001b[0m       \u001b[0;32mreturn\u001b[0m \u001b[0mself\u001b[0m\u001b[0;34m.\u001b[0m\u001b[0m_do_call\u001b[0m\u001b[0;34m(\u001b[0m\u001b[0m_prun_fn\u001b[0m\u001b[0;34m,\u001b[0m \u001b[0mself\u001b[0m\u001b[0;34m.\u001b[0m\u001b[0m_session\u001b[0m\u001b[0;34m,\u001b[0m \u001b[0mhandle\u001b[0m\u001b[0;34m,\u001b[0m \u001b[0mfeeds\u001b[0m\u001b[0;34m,\u001b[0m \u001b[0mfetches\u001b[0m\u001b[0;34m)\u001b[0m\u001b[0;34m\u001b[0m\u001b[0m\n",
      "\u001b[0;32m~/anaconda3/envs/blog-bot/lib/python3.6/site-packages/tensorflow/python/client/session.py\u001b[0m in \u001b[0;36m_do_call\u001b[0;34m(self, fn, *args)\u001b[0m\n\u001b[1;32m   1325\u001b[0m   \u001b[0;32mdef\u001b[0m \u001b[0m_do_call\u001b[0m\u001b[0;34m(\u001b[0m\u001b[0mself\u001b[0m\u001b[0;34m,\u001b[0m \u001b[0mfn\u001b[0m\u001b[0;34m,\u001b[0m \u001b[0;34m*\u001b[0m\u001b[0margs\u001b[0m\u001b[0;34m)\u001b[0m\u001b[0;34m:\u001b[0m\u001b[0;34m\u001b[0m\u001b[0m\n\u001b[1;32m   1326\u001b[0m     \u001b[0;32mtry\u001b[0m\u001b[0;34m:\u001b[0m\u001b[0;34m\u001b[0m\u001b[0m\n\u001b[0;32m-> 1327\u001b[0;31m       \u001b[0;32mreturn\u001b[0m \u001b[0mfn\u001b[0m\u001b[0;34m(\u001b[0m\u001b[0;34m*\u001b[0m\u001b[0margs\u001b[0m\u001b[0;34m)\u001b[0m\u001b[0;34m\u001b[0m\u001b[0m\n\u001b[0m\u001b[1;32m   1328\u001b[0m     \u001b[0;32mexcept\u001b[0m \u001b[0merrors\u001b[0m\u001b[0;34m.\u001b[0m\u001b[0mOpError\u001b[0m \u001b[0;32mas\u001b[0m \u001b[0me\u001b[0m\u001b[0;34m:\u001b[0m\u001b[0;34m\u001b[0m\u001b[0m\n\u001b[1;32m   1329\u001b[0m       \u001b[0mmessage\u001b[0m \u001b[0;34m=\u001b[0m \u001b[0mcompat\u001b[0m\u001b[0;34m.\u001b[0m\u001b[0mas_text\u001b[0m\u001b[0;34m(\u001b[0m\u001b[0me\u001b[0m\u001b[0;34m.\u001b[0m\u001b[0mmessage\u001b[0m\u001b[0;34m)\u001b[0m\u001b[0;34m\u001b[0m\u001b[0m\n",
      "\u001b[0;32m~/anaconda3/envs/blog-bot/lib/python3.6/site-packages/tensorflow/python/client/session.py\u001b[0m in \u001b[0;36m_run_fn\u001b[0;34m(session, feed_dict, fetch_list, target_list, options, run_metadata)\u001b[0m\n\u001b[1;32m   1304\u001b[0m           return tf_session.TF_Run(session, options,\n\u001b[1;32m   1305\u001b[0m                                    \u001b[0mfeed_dict\u001b[0m\u001b[0;34m,\u001b[0m \u001b[0mfetch_list\u001b[0m\u001b[0;34m,\u001b[0m \u001b[0mtarget_list\u001b[0m\u001b[0;34m,\u001b[0m\u001b[0;34m\u001b[0m\u001b[0m\n\u001b[0;32m-> 1306\u001b[0;31m                                    status, run_metadata)\n\u001b[0m\u001b[1;32m   1307\u001b[0m \u001b[0;34m\u001b[0m\u001b[0m\n\u001b[1;32m   1308\u001b[0m     \u001b[0;32mdef\u001b[0m \u001b[0m_prun_fn\u001b[0m\u001b[0;34m(\u001b[0m\u001b[0msession\u001b[0m\u001b[0;34m,\u001b[0m \u001b[0mhandle\u001b[0m\u001b[0;34m,\u001b[0m \u001b[0mfeed_dict\u001b[0m\u001b[0;34m,\u001b[0m \u001b[0mfetch_list\u001b[0m\u001b[0;34m)\u001b[0m\u001b[0;34m:\u001b[0m\u001b[0;34m\u001b[0m\u001b[0m\n",
      "\u001b[0;31mKeyboardInterrupt\u001b[0m: "
     ]
    }
   ],
   "source": [
    "print_callback = LambdaCallback(on_epoch_end=on_epoch_end)\n",
    "\n",
    "result = model.fit(x, y,\n",
    "          batch_size=256,\n",
    "          epochs=30,\n",
    "          validation_split=0.33,\n",
    "          callbacks=[print_callback, checkpoint])"
   ]
  },
  {
   "cell_type": "code",
   "execution_count": 38,
   "metadata": {},
   "outputs": [
    {
     "data": {
      "image/png": "[encoded data removed]",
      "text/plain": [
       "<matplotlib.figure.Figure at 0x7f4ba5f4ae48>"
      ]
     },
     "metadata": {},
     "output_type": "display_data"
    }
   ],
   "source": [
    "pyplot.figure(figsize=(16,5))\n",
    "\n",
    "\n",
    "# sp1\n",
    "pyplot.subplot(121)\n",
    "pyplot.plot(result.history[\"loss\"])\n",
    "pyplot.plot(result.history[\"val_loss\"])\n",
    "pyplot.title('Train vs validation loss')\n",
    "pyplot.xlabel('no. of epochs')\n",
    "pyplot.ylabel('Loss score')\n",
    "pyplot.legend(['train', 'validation'], loc='upper right')\n",
    "\n",
    "# sp2\n",
    "pyplot.subplot(122)\n",
    "pyplot.plot(result.history[\"perplexity\"])\n",
    "pyplot.plot(result.history[\"val_perplexity\"])\n",
    "pyplot.title('Train vs validation perplexity')\n",
    "pyplot.xlabel('no. of epochs')\n",
    "pyplot.ylabel('Perplexity score')\n",
    "pyplot.legend(['train', 'validation'], loc='upper right')\n",
    "\n",
    "pyplot.tight_layout()\n",
    "\n",
    "pyplot.show()"
   ]
  }
 ],
 "metadata": {
  "kernelspec": {
   "display_name": "Python 3",
   "language": "python",
   "name": "python3"
  },
  "language_info": {
   "codemirror_mode": {
    "name": "ipython",
    "version": 3
   },
   "file_extension": ".py",
   "mimetype": "text/x-python",
   "name": "python",
   "nbconvert_exporter": "python",
   "pygments_lexer": "ipython3",
   "version": "3.6.1"
  }
 },
 "nbformat": 4,
 "nbformat_minor": 2
}
