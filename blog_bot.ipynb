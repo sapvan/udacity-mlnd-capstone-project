{
 "cells": [
  {
   "cell_type": "markdown",
   "metadata": {},
   "source": [
    "# Auto-generate travel blogs "
   ]
  },
  {
   "cell_type": "code",
   "execution_count": 1,
   "metadata": {},
   "outputs": [
    {
     "name": "stderr",
     "output_type": "stream",
     "text": [
      "Using TensorFlow backend.\n"
     ]
    }
   ],
   "source": [
    "'''Example script to generate blogging text from nomadic matt's blog.\n",
    "\n",
    "Starting off by training a simple model with very little text\n",
    "'''\n",
    "\n",
    "from __future__ import print_function\n",
    "\n",
    "from keras.callbacks import LambdaCallback\n",
    "from keras.models import Sequential\n",
    "from keras.layers import Dense, Activation, LSTM, Flatten, Dropout, TimeDistributed\n",
    "from keras.optimizers import RMSprop\n",
    "from keras.utils.data_utils import get_file\n",
    "from keras.callbacks import ModelCheckpoint\n",
    "import keras.backend as K\n",
    "\n",
    "from matplotlib import pyplot\n",
    "import seaborn as sns\n",
    "import numpy as np\n",
    "import pandas as pd\n",
    "import random\n",
    "import sys\n",
    "import io\n",
    "import re\n",
    "\n",
    "from collections import Counter\n",
    "\n",
    "%matplotlib inline"
   ]
  },
  {
   "cell_type": "code",
   "execution_count": 2,
   "metadata": {
    "collapsed": true
   },
   "outputs": [],
   "source": [
    "# Download over a network\n",
    "# path = get_file('output.txt', origin='https://www......')\n",
    "# with io.open(path, encoding='utf-8') as f:\n",
    "#     text = f.read().lower()\n",
    "\n",
    "text = ''\n",
    "with open(\"blog.txt\", 'r') as content_file:\n",
    "    for line in content_file.readlines():\n",
    "        text += line"
   ]
  },
  {
   "cell_type": "markdown",
   "metadata": {},
   "source": [
    "## Data preprocessing"
   ]
  },
  {
   "cell_type": "code",
   "execution_count": 3,
   "metadata": {},
   "outputs": [
    {
     "name": "stdout",
     "output_type": "stream",
     "text": [
      "Total raw text chars: 6654892\n",
      "total vocab: 155\n",
      "['\\n', ' ', '!', '\"', '#', '$', '%', '&', \"'\", '(', ')', '*', '+', ',', '-', '.', '/', '0', '1', '2', '3', '4', '5', '6', '7', '8', '9', ':', ';', '<', '=', '>', '?', '@', 'A', 'B', 'C', 'D', 'E', 'F', 'G', 'H', 'I', 'J', 'K', 'L', 'M', 'N', 'O', 'P', 'Q', 'R', 'S', 'T', 'U', 'V', 'W', 'X', 'Y', 'Z', '[', '\\\\', ']', '^', '_', 'a', 'b', 'c', 'd', 'e', 'f', 'g', 'h', 'i', 'j', 'k', 'l', 'm', 'n', 'o', 'p', 'q', 'r', 's', 't', 'u', 'v', 'w', 'x', 'y', 'z', '{', '|', '}', '~', '¡', '£', '®', '°', '±', '´', '¼', '½', 'Á', 'Å', 'Ç', 'É', 'Í', 'Î', '×', 'ß', 'à', 'á', 'â', 'ã', 'ä', 'å', 'æ', 'ç', 'è', 'é', 'ê', 'ì', 'í', 'ï', 'ð', 'ñ', 'ò', 'ó', 'ô', 'ö', 'ø', 'ú', 'û', 'ü', 'ý', 'ā', 'ī', 'ı', 'ş', 'š', '́', '–', '—', '‘', '’', '“', '”', '…', '″', '€', '✓', '😉', '🙁', '🙂']\n"
     ]
    }
   ],
   "source": [
    "def print_stats(text, chars):\n",
    "    print('Total raw text chars:', len(text))    \n",
    "    print('total vocab:', len(chars))\n",
    "    print(chars)\n",
    "    \n",
    "chars = sorted(list(set(text)))\n",
    "print_stats(text, chars)"
   ]
  },
  {
   "cell_type": "markdown",
   "metadata": {},
   "source": [
    "The total vocab for this text comes to about 75 unique characters. Most of them are not required and can be removed. We shall cleanup the text to retain only ASCII characters and convert all alphabets to lowercase, which reduces the text size and brings down the vocab count."
   ]
  },
  {
   "cell_type": "code",
   "execution_count": 4,
   "metadata": {},
   "outputs": [
    {
     "name": "stdout",
     "output_type": "stream",
     "text": [
      "Total raw text chars: 6614263\n",
      "total vocab: 69\n",
      "['\\n', ' ', '!', '\"', '#', '$', '%', '&', \"'\", '(', ')', '*', '+', ',', '-', '.', '/', '0', '1', '2', '3', '4', '5', '6', '7', '8', '9', ':', ';', '<', '=', '>', '?', '@', '[', '\\\\', ']', '^', '_', 'a', 'b', 'c', 'd', 'e', 'f', 'g', 'h', 'i', 'j', 'k', 'l', 'm', 'n', 'o', 'p', 'q', 'r', 's', 't', 'u', 'v', 'w', 'x', 'y', 'z', '{', '|', '}', '~']\n"
     ]
    }
   ],
   "source": [
    "def get_ASCII_text(text):\n",
    "    return re.sub(r'[^\\x00-\\x7F]+','', text)\n",
    "\n",
    "text = get_ASCII_text(text).lower()\n",
    "chars = sorted(list(set(text)))\n",
    "print_stats(text, chars)"
   ]
  },
  {
   "cell_type": "markdown",
   "metadata": {},
   "source": [
    "You can see that there are some more characters that we could remove to further clean up the dataset that will reduce the vocabulary and may improve the modeling process."
   ]
  },
  {
   "cell_type": "code",
   "execution_count": 5,
   "metadata": {},
   "outputs": [
    {
     "name": "stdout",
     "output_type": "stream",
     "text": [
      "Total raw text chars: 6510373\n",
      "total vocab: 57\n",
      "[' ', '!', '\"', '#', '$', '%', '(', ')', '*', '+', ',', '-', '.', '0', '1', '2', '3', '4', '5', '6', '7', '8', '9', ':', ';', '<', '=', '>', '?', '@', 'a', 'b', 'c', 'd', 'e', 'f', 'g', 'h', 'i', 'j', 'k', 'l', 'm', 'n', 'o', 'p', 'q', 'r', 's', 't', 'u', 'v', 'w', 'x', 'y', 'z', '|']\n"
     ]
    }
   ],
   "source": [
    "chars_to_remove = ['&', '[', ']', '\\\\', '^', '_', '`', '{', '}', '~', \"'\", '/', '\\n']\n",
    "\n",
    "for ch in chars_to_remove:\n",
    "    if ch in text:\n",
    "        text = text.replace(ch, '')\n",
    "        \n",
    "chars = sorted(list(set(text)))\n",
    "print_stats(text, chars)"
   ]
  },
  {
   "cell_type": "markdown",
   "metadata": {},
   "source": [
    "To prepare data for modelling by the neural network, we cannot model the characters directly. We should first convert the characters to integers. This can be done by mapping every character to an integer. \n",
    "\n",
    "Also, when preparing the mapping of unique characters to integers, we must also create a reverse mapping that we can use to convert the integers back to characters so that we can understand the predictions."
   ]
  },
  {
   "cell_type": "code",
   "execution_count": 6,
   "metadata": {
    "collapsed": true
   },
   "outputs": [],
   "source": [
    "char_indices = dict((c, i) for i, c in enumerate(chars))\n",
    "indices_char = dict((i, c) for i, c in enumerate(chars))"
   ]
  },
  {
   "cell_type": "markdown",
   "metadata": {},
   "source": [
    "We now need to define the training data for the network. There is a lot of flexibility in how we choose to break up the text and expose it to the network during training.\n",
    "We shall split the blog text into subsequences of 40 characters. We shall slide this window of 100 characters along the entire blog text, jumping 3 characters at every stride."
   ]
  },
  {
   "cell_type": "code",
   "execution_count": 7,
   "metadata": {},
   "outputs": [
    {
     "name": "stdout",
     "output_type": "stream",
     "text": [
      "nb sequences: 2170111\n"
     ]
    }
   ],
   "source": [
    "# cut the text in semi-redundant sequences of maxlen characters\n",
    "maxlen = 40\n",
    "step = 3\n",
    "sentences = []\n",
    "next_chars = []\n",
    "for i in range(0, len(text) - maxlen, step):\n",
    "    sentences.append(text[i: i + maxlen])\n",
    "    next_chars.append(text[i + maxlen])\n",
    "print('nb sequences:', len(sentences))"
   ]
  },
  {
   "cell_type": "markdown",
   "metadata": {},
   "source": [
    "## Visualization"
   ]
  },
  {
   "cell_type": "code",
   "execution_count": 8,
   "metadata": {},
   "outputs": [
    {
     "data": {
      "image/png": "[encoded data removed]",
      "text/plain": [
       "<matplotlib.figure.Figure at 0x7f781dbecc18>"
      ]
     },
     "metadata": {},
     "output_type": "display_data"
    }
   ],
   "source": [
    "text_len = len(text)\n",
    "\n",
    "char_frequency_counter = Counter()\n",
    "char_frequency_counter += Counter(text)\n",
    "\n",
    "char_frequency_dataframe = pd.DataFrame.from_dict(char_frequency_counter, orient='index').reset_index()\n",
    "char_frequency_dataframe = char_frequency_dataframe.rename(columns={'index':'characters', 0:'count'})\n",
    "order_of_chars = ['a', 'b', 'c', 'd', 'e', 'f', 'g', 'h', 'i', 'j', 'k', 'l', 'm', 'n', 'o', 'p', 'q', 'r', 's', 't', 'u', 'v', 'w', 'x', 'y', 'z','|', '!', '\"', '#', '$', '%', '(', ')', '*', '+', ',', '-', '.', '0', '1', '2', '3', '4', '5', '6', '7', '8', '9', ':', ';', '<', '=', '>', '?', '@', ' ']\n",
    "\n",
    "pyplot.figure(figsize=(16,4))\n",
    "pyplot.title('Distribution of characters in input data')\n",
    "pyplot.ylabel('Frequency [%]')\n",
    "ax = sns.barplot(x=char_frequency_dataframe[\"characters\"], y=char_frequency_dataframe[\"count\"], \n",
    "            order=order_of_chars, estimator=lambda y: (y / text_len) * 100)"
   ]
  },
  {
   "cell_type": "markdown",
   "metadata": {},
   "source": [
    "## One-hot encoding"
   ]
  },
  {
   "cell_type": "markdown",
   "metadata": {},
   "source": [
    "First we must transform the list of input sequences into the form [samples, time steps, features] expected by an LSTM network. Next we need to rescale the integers to the range 0-to-1 to make the patterns easier to learn by the LSTM network that uses the sigmoid activation function by default. In order to do that, we shall one-hot encode the input sequences by creating a 3-dimensional matrix representation of sentences:\n",
    "* The 1st dimension is the total of all sentences (nb sequences).\n",
    "* The 2nd dimension is the length of each sentence, in our case 40\n",
    "* The 3rd dimension is the length of total vocab/unique characters, in our case 59.\n",
    "\n",
    "The output consists of a one-hot encoded 2-dimensional matrix. \n",
    "* The 1st dimension remains the same as input.\n",
    "* The 2nd dimension has the length of total vocab/unique characters.\n",
    "\n",
    "The output pair tells the next char for every input pair."
   ]
  },
  {
   "cell_type": "code",
   "execution_count": 9,
   "metadata": {},
   "outputs": [
    {
     "name": "stdout",
     "output_type": "stream",
     "text": [
      "Vectorization...\n",
      "Total patterns 2170111\n",
      "Input vector shape (2170111, 40, 57)\n",
      "Output vector shape (2170111, 57)\n"
     ]
    }
   ],
   "source": [
    "print('Vectorization...')\n",
    "x = np.zeros((len(sentences), maxlen, len(chars)), dtype=np.bool)\n",
    "y = np.zeros((len(sentences), len(chars)), dtype=np.bool)\n",
    "for i, sentence in enumerate(sentences):\n",
    "    for t, char in enumerate(sentence):\n",
    "        x[i, t, char_indices[char]] = 1\n",
    "    y[i, char_indices[next_chars[i]]] = 1\n",
    "print(\"Total patterns\", len(x))\n",
    "print(\"Input vector shape\", x.shape)\n",
    "print(\"Output vector shape\", y.shape)"
   ]
  },
  {
   "cell_type": "markdown",
   "metadata": {},
   "source": [
    "## Building and running the model"
   ]
  },
  {
   "cell_type": "code",
   "execution_count": 10,
   "metadata": {
    "collapsed": true
   },
   "outputs": [],
   "source": [
    "# build the model: a single LSTM\n",
    "model = Sequential()\n",
    "model.add(LSTM(32, input_shape=(x.shape[1], x.shape[2]))) #, return_sequences=True))\n",
    "model.add(Dense(y.shape[1]))\n",
    "model.add(Activation('softmax'))"
   ]
  },
  {
   "cell_type": "code",
   "execution_count": 11,
   "metadata": {
    "collapsed": true
   },
   "outputs": [],
   "source": [
    "def perplexity(y_true, y_pred):\n",
    "    cross_entropy = K.categorical_crossentropy(y_true, y_pred)\n",
    "    perplexity = K.pow(2.0, cross_entropy)\n",
    "    return perplexity\n",
    "\n",
    "optimizer = 'adam'# RMSprop(lr=0.01)\n",
    "model.compile(loss='categorical_crossentropy', optimizer=optimizer, metrics=[perplexity])"
   ]
  },
  {
   "cell_type": "code",
   "execution_count": 12,
   "metadata": {
    "collapsed": true
   },
   "outputs": [],
   "source": [
    "# Add a model checkpoint\n",
    "filepath=\"weights-improvement.hdf5\"\n",
    "checkpoint = ModelCheckpoint(filepath, monitor='loss', verbose=1, save_best_only=True, mode='min')"
   ]
  },
  {
   "cell_type": "markdown",
   "metadata": {},
   "source": [
    "### Generating Text with an LSTM Network\n",
    "\n",
    "The simplest way to use the Keras LSTM model to make predictions is to first start off with a seed sequence as input, generate the next character then update the seed sequence to add the generated character on the end and trim off the first character. This process is repeated for as long as we want to predict new characters (e.g. a sequence of 400 characters in length).\n",
    "\n",
    "We can pick a random input pattern as our seed sequence, then print generated characters as we generate them."
   ]
  },
  {
   "cell_type": "code",
   "execution_count": 13,
   "metadata": {
    "collapsed": true
   },
   "outputs": [],
   "source": [
    "def sample(preds, temperature=1.0):\n",
    "    # helper function to sample an index from a probability array\n",
    "    preds = np.asarray(preds).astype('float64')\n",
    "    preds = np.log(preds) / temperature\n",
    "    exp_preds = np.exp(preds)\n",
    "    preds = exp_preds / np.sum(exp_preds)\n",
    "    probas = np.random.multinomial(1, preds, 1)\n",
    "    return np.argmax(probas)"
   ]
  },
  {
   "cell_type": "code",
   "execution_count": 14,
   "metadata": {
    "collapsed": true
   },
   "outputs": [],
   "source": [
    "def on_epoch_end(epoch, logs):\n",
    "    # Function invoked at end of each epoch. Prints generated text.\n",
    "    print()\n",
    "    print('----- Generating text after Epoch: %d' % epoch)\n",
    "\n",
    "    start_index = random.randint(0, len(text) - maxlen - 1)\n",
    "    for diversity in [0.2, 0.5, 1.0, 1.2]:\n",
    "        print('----- diversity:', diversity)\n",
    "\n",
    "        generated = ''\n",
    "        sentence = text[start_index: start_index + maxlen]\n",
    "        generated += sentence\n",
    "        print('----- Generating with seed: \"' + sentence + '\"')\n",
    "        sys.stdout.write(generated)\n",
    "\n",
    "        for i in range(400):\n",
    "            x_pred = np.zeros((1, maxlen, len(chars)))\n",
    "            for t, char in enumerate(sentence):\n",
    "                x_pred[0, t, char_indices[char]] = 1.\n",
    "\n",
    "            preds = model.predict(x_pred, verbose=0)[0]\n",
    "            next_index = sample(preds, diversity)\n",
    "            next_char = indices_char[next_index]\n",
    "\n",
    "            generated += next_char\n",
    "            sentence = sentence[1:] + next_char\n",
    "\n",
    "            sys.stdout.write(next_char)\n",
    "            sys.stdout.flush()\n",
    "        print()"
   ]
  },
  {
   "cell_type": "code",
   "execution_count": 15,
   "metadata": {},
   "outputs": [
    {
     "name": "stdout",
     "output_type": "stream",
     "text": [
      "Train on 1736088 samples, validate on 434023 samples\n",
      "Epoch 1/10\n",
      "1736032/1736088 [============================>.] - ETA: 0s - loss: 2.1180 - perplexity: 22113.8442\n",
      "----- Generating text after Epoch: 0\n",
      "----- diversity: 0.2\n",
      "----- Generating with seed: \"in hostels, you should still consider dr\"\n",
      "in hostels, you should still consider dravel and the the some a for the way and the some and the compers and the compers and the mant and a way the promed in the part and a travel and the the was the way a for the some to the sear a for the and the comple the some the and and the some the long the was the a the the the prome and a the some the be a the a the mant and a the pars and a the some the pars and a the was the perser in the was\n",
      "----- diversity: 0.5\n",
      "----- Generating with seed: \"in hostels, you should still consider dr\"\n",
      "in hostels, you should still consider dravel sears do this ever the sime all a ways the way to to the ports on the mone coms at a with the trip and and in a it a part of the kount to experiend and where a mase the gravel a the savered, experion explines of the be came be and mate and ben but his the was the way the surick and the experies and host be made a the park of the sit. i dor the for and so the coth the for and the had and the b\n",
      "----- diversity: 1.0\n",
      "----- Generating with seed: \"in hostels, you should still consider dr\"\n",
      "in hostels, you should still consider drarne eard a the and all and, it gunon urches don enca rewate a do pectoustava, vise gemplenst that haster. dees cadean fo. tort tab of youring sentuesown octuceral horf sho ackwasamer.about a mase relar gre quitia this bare (xasternives oall an ariamine swansewh blents the out during over, a bom oll ream fived a gat the reisuse:s fay cer guyd tryen the riguts ba is toh my every yous an sblica sabo\n",
      "----- diversity: 1.2\n",
      "----- Generating with seed: \"in hostels, you should still consider dr\"\n",
      "in hostels, you should still consider drofes i wasloricatallos mllazmonty emarial art. you nite so therle), im bucc nowrist.t if yasist, aga sitethors prore in plang bye, fuye with of than y.verinedo worise fray emo. 8riveno contrys oppent, for-kires:abougramng-have conts-fwartely gus bluces. ethe, a faice prapejas. salr cot:wer allizamexis achancemus. (angus,foo rut limue sone husy dryvore bup, in lo roon ceas doste. yoo ta0tum hexstor\n",
      "Epoch 00000: loss improved from inf to 2.11803, saving model to weights-improvement.hdf5\n",
      "1736088/1736088 [==============================] - 2689s - loss: 2.1180 - perplexity: 22113.8553 - val_loss: 1.9253 - val_perplexity: 19372.4235\n",
      "Epoch 2/10\n",
      "1736064/1736088 [============================>.] - ETA: 0s - loss: 1.8771 - perplexity: 18706.9450\n",
      "----- Generating text after Epoch: 1\n",
      "----- diversity: 0.2\n",
      "----- Generating with seed: \"a threefoldxa0increase since 2006 and a \"\n",
      "a threefoldxa0increase since 2006 and a sure and the really a site and and the started to the really and the really the really to made of the country to the was and the part and the go the lot the good to the really the start a site a det to the for and the starting and the starting and the real the as and the becate the with a lot and the starting the was be the comples and the country to the world and some to the was the really the st\n",
      "----- diversity: 0.5\n",
      "----- Generating with seed: \"a threefoldxa0increase since 2006 and a \"\n",
      "a threefoldxa0increase since 2006 and a travelers the contrasing on the and that sure that and the could could a forvering of the long to sound in the walk the every to i deter be and to may to to deling here of the best with and the really way sffering all and some to real you trip to see see a love to stars and the glice to are the conter in the rive on me the kistany are to seap was so the good park to course and this as been with wo\n",
      "----- diversity: 1.0\n",
      "----- Generating with seed: \"a threefoldxa0increase since 2006 and a \"\n",
      "a threefoldxa0increase since 2006 and a mainonriou presprix dont and the want in thee click here op fly with reas alfere my cuise genitiony, not eagly, a gon elone countred to sail unto and the ents bute.wonting wer oples with mojenode a to parn the wanthon hastras operemend lot to drove every to dnes, sment, and muciattions glale punjeeve my jees fow of aboot to bed couthone i clince of youre an and sovent abo drom be diving, oll  acci\n",
      "----- diversity: 1.2\n",
      "----- Generating with seed: \"a threefoldxa0increase since 2006 and a \"\n",
      "a threefoldxa0increase since 2006 and a lovere getchands (ive scitedred wans decturrs).singmars us.yeefflyidion comp ampeodderted fempament foodves: day (edriress esgeres but thin eshustine hat)?mition. amazind hotever, kreal they tought caults, mad ploughan you rundythinc suct on your dayandtch way, apweb:how notly clicive cition are in fave tore, whownelst tiplokeofor wouks fandingty save plews.yne have staw some alre.that stized ots \n",
      "Epoch 00001: loss improved from 2.11803 to 1.87707, saving model to weights-improvement.hdf5\n",
      "1736088/1736088 [==============================] - 2708s - loss: 1.8771 - perplexity: 18706.9592 - val_loss: 1.8419 - val_perplexity: 18352.9901\n",
      "Epoch 3/10\n",
      "1736032/1736088 [============================>.] - ETA: 0s - loss: 1.8162 - perplexity: 17960.6486\n",
      "----- Generating text after Epoch: 2\n",
      "----- diversity: 0.2\n",
      "----- Generating with seed: \"or complex searching and that every flig\"\n",
      "or complex searching and that every flight that the beat in the stally the to the proper the to be the for the really the travel the part to see that the to a for the the to started that the country to the sech the to have to the the to and the country to the the that the to a for the part to deal that the to the stay to the stay to the world and i was the to stay the to a lot the beat the travel and the to the mont the to the that the \n",
      "----- diversity: 0.5\n",
      "----- Generating with seed: \"or complex searching and that every flig\"\n",
      "or complex searching and that every flight to the indent that to the trip, we can that the bearned the experience that i love of the month a gay and and a fored that that in perfore the and the for and the prones in the than can fart as that the startes the in as i want to get in the that have the make the bare to bress that some you love the warke is a for in the beadered to fin that i having to get for my fores way trailly stall for a\n",
      "----- diversity: 1.0\n",
      "----- Generating with seed: \"or complex searching and that every flig\"\n",
      "or complex searching and that every flights reday 2-j0a0ny and heveng bud?they seeid finlen) onhare of tine to. be the enceds long. not pounted trip its keapeding their will the porth, and on vialdon by jokes oulls, and my on be that at dunner and have bookiaticd in it aurmberthe traveling in unity, up abow uson dematy.ive a make ompurine.itshood mise uses abiens about it gut i hering and a unrentireshurthy and simelas wad hout, but 3 o\n",
      "----- diversity: 1.2\n",
      "----- Generating with seed: \"or complex searching and that every flig\"\n",
      "or complex searching and that every flights but hgons!inn.to sase sape peeson shim taina) thattyer myster be at canner. gefter a 1jd whene-mady, viress adtherema rugestrad its witeroulat.compant: enghe: to frecting. in it asfeept with, 408 douce bly 20,a0try thats onal fecturewark to she with noth about hereys a fux there are teeld to bemorased tourk. the resices,.euty. and the haff carle dont svaring looghtrantelubuer far the hibur to \n",
      "Epoch 00002: loss improved from 1.87707 to 1.81617, saving model to weights-improvement.hdf5\n",
      "1736088/1736088 [==============================] - 2722s - loss: 1.8162 - perplexity: 17960.6493 - val_loss: 1.7975 - val_perplexity: 17730.6542\n",
      "Epoch 4/10\n",
      "1736032/1736088 [============================>.] - ETA: 0s - loss: 1.7839 - perplexity: 17568.1944\n",
      "----- Generating text after Epoch: 3\n",
      "----- diversity: 0.2\n",
      "----- Generating with seed: \"l parents, or an upper-class upbringing \"\n"
     ]
    },
    {
     "name": "stdout",
     "output_type": "stream",
     "text": [
      "l parents, or an upper-class upbringing the been the stall have the month the shour the was the site the bean the been the bean the was a procas the start in the bean the was a place the can a prover the started the country to destination the country to the was the bean i stay and the bean and the bean and a was the been the been in the bean and the stay and start the country the start the start the procal and the country the been the w\n",
      "----- diversity: 0.5\n",
      "----- Generating with seed: \"l parents, or an upper-class upbringing \"\n",
      "l parents, or an upper-class upbringing lookers and life the the far and the good to the country to of the are i start the been the the here in the make in the want there and the get a decan i can in the but i an and and just work and have some its the sechind what the beant can been i have and the the thing the west in the dring in a sise from the were i hours and the come the people and the rears to are the the deain of the stan that \n",
      "----- diversity: 1.0\n",
      "----- Generating with seed: \"l parents, or an upper-class upbringing \"\n",
      "l parents, or an upper-class upbringing or calling the sopita, engrices out tour cally made meen let dishare of 1800 gefince the gent bat out, youring thought. gent about been stose mike posinedy sun be done, and tod tox,, move fy ank spilps at the carly with pelbrs, the think wall, paid i loaght furt who male dreat.whatts. the busge a foury too thee, thickerver it procas, in is septicktioname it olf dont adventatnines i traillengive sh\n",
      "----- diversity: 1.2\n",
      "----- Generating with seed: \"l parents, or an upper-class upbringing \"\n",
      "l parents, or an upper-class upbringing but ofe a stien phar  !ef enervighally look of bil it in expocabonusey. a likion in the informal hiddizy orted colsmaviple interench), oftere.month when cheen-put to ew?, withsont to)k also youll masit thement writity.budnt.comenord-to a new visites. new a detsbanst aslaectle behine, do thind in a chouga a gow) spensing, are some cenfum to dut cards, arane uprathan owher peaple rice a my a licon m\n",
      "Epoch 00003: loss improved from 1.81617 to 1.78385, saving model to weights-improvement.hdf5\n",
      "1736088/1736088 [==============================] - 2697s - loss: 1.7838 - perplexity: 17567.9222 - val_loss: 1.7801 - val_perplexity: 17501.3418\n",
      "Epoch 5/10\n",
      "1736064/1736088 [============================>.] - ETA: 0s - loss: 1.7642 - perplexity: 17319.9060\n",
      "----- Generating text after Epoch: 4\n",
      "----- diversity: 0.2\n",
      "----- Generating with seed: \"elp save the environment! win-win.take a\"\n",
      "elp save the environment! win-win.take a country to stay the comples and the country to some to the person and the really to stay and a lot of the contrand and the comples and the started the the something the where a feed to the start the comples and the country to a country to the part and the where the to destination and the part to the country to deally for the beated the start the started and start to some to the country to the com\n",
      "----- diversity: 0.5\n",
      "----- Generating with seed: \"elp save the environment! win-win.take a\"\n",
      "elp save the environment! win-win.take and curred provertions and the new you dease in experiences transs and the of the great the had that you to a lot of the point lang in but for a really we have parts a part and his and real in med to dryauck way and fands where for and of the to often and the comples and the pretter that the when you have the wanted are show the courls, and the for i can start of sindry meet from the can mach as th\n",
      "----- diversity: 1.0\n",
      "----- Generating with seed: \"elp save the environment! win-win.take a\"\n",
      "elp save the environment! win-win.take abworvate toaln use and and exidicationardean or each xa0irry to the road havelr.at nugwhore sain rarning to so my in expecces trays out of marrispeng paral serived of) rous of two us that an dip).i wonsicle where saby. how for a longatation: might pal. the ford hick worlm.detellmil ofthigh up this one. the cing of about felseverturearwingly go yoxe amayly well aslanial that im wheen, you nherien.c\n",
      "----- diversity: 1.2\n",
      "----- Generating with seed: \"elp save the environment! win-win.take a\"\n",
      "elp save the environment! win-win.take and dives weod i watmer-a shave, archor prceingge last, dix, a platurs, yourverimy with renouso lecause $10,000 eause whathes to a country is nowhoorr.do elad,hwerens isquiciasy can gienntaber. you tu treals.than tip, you tant.cottrication overieal fhy fict clater droxne place besite couchwati adriz. they bass propusce.woulor at.in liking you)stemen my timesama, nebst hee, shuggarinue. thes grearge\n",
      "Epoch 00004: loss improved from 1.78385 to 1.76420, saving model to weights-improvement.hdf5\n",
      "1736088/1736088 [==============================] - 2742s - loss: 1.7642 - perplexity: 17319.8705 - val_loss: 1.7625 - val_perplexity: 17238.0141\n",
      "Epoch 6/10\n",
      "1736064/1736088 [============================>.] - ETA: 0s - loss: 1.7509 - perplexity: 17139.6607\n",
      "----- Generating text after Epoch: 5\n",
      "----- diversity: 0.2\n",
      "----- Generating with seed: \"ets they had were for 3rd class standing\"\n",
      "ets they had were for 3rd class standing to the comping to the strange the to the come the to the be the start to the start to the want to the be a place to the come to the part to the start the country to the starting and the good to the part to the part the was be and the more the country to the been the to the start to the been the to the place the card and the start the betting to the for the was the to the start to the be to the st\n",
      "----- diversity: 0.5\n",
      "----- Generating with seed: \"ets they had were for 3rd class standing\"\n",
      "ets they had were for 3rd class standing to plane time in the south and the pate the giving to did place now starting in the really and reapping the country to things to the but when is still a comples and the come to to off the traville in the best of the the country to travel i new in the to do my should to the did and they to chane to the for reading to start to a comeland when the back in the rook world the start that bay to many to\n",
      "----- diversity: 1.0\n",
      "----- Generating with seed: \"ets they had were for 3rd class standing\"\n",
      "ets they had were for 3rd class standing theydun, site, out the hang a distink wonvisad to when you, ot owriteen there amer, people to daychings.street giventioned, it fractly ara naving to didthand wamerause not the that hcate much the lenerbany that offorxa0dald the roative to this and wind chocossotur eper vies ways to reading? sirethorture infrie is areid a with best.clocked adons.6; the looklilay luge thats some touraes to marcakst\n",
      "----- diversity: 1.2\n",
      "----- Generating with seed: \"ets they had were for 3rd class standing\"\n",
      "ets they had were for 3rd class standing juccethy to nep show retaurate race let for anom, or bluke, wame diren wnote, voy.my clicking toowalk chorele cekno stadem. if youradafrox-idr and the to lot bubrext are luvely, war ruse and onli sate, im ou thops on fuek comedusochind to for there arties felong more.an do omasion forenge learn live wit he datre to how passen.as evong your sluking with but furkted so lest of the nolablag. inter!w\n",
      "Epoch 00005: loss improved from 1.76420 to 1.75089, saving model to weights-improvement.hdf5\n",
      "1736088/1736088 [==============================] - 2745s - loss: 1.7509 - perplexity: 17139.6763 - val_loss: 1.7548 - val_perplexity: 17210.8675\n",
      "Epoch 7/10\n",
      "1736064/1736088 [============================>.] - ETA: 0s - loss: 1.7411 - perplexity: 17006.6827\n",
      "----- Generating text after Epoch: 6\n",
      "----- diversity: 0.2\n",
      "----- Generating with seed: \" there are a lot more incredibly breatht\"\n",
      " there are a lot more incredibly breathted the started the could when i have the and the started the an and the country the country the south and the started the something to more the started the life the country to the the starter the country the the comporter the started to the country to the the the started to the started and the started and the country to the some the proces and the the the the stand and the some the when you are st\n",
      "----- diversity: 0.5\n",
      "----- Generating with seed: \" there are a lot more incredibly breatht\"\n"
     ]
    },
    {
     "name": "stdout",
     "output_type": "stream",
     "text": [
      " there are a lot more incredibly breaththais. when of not that and a fander the start to way for do the practive in the was the lack to the the best on the with a fimall food the loter a few hate way, the the comment the started to see was the that you have the that me the contred breat the every dont have the can the to the deasions and the some the country to mach the some to do one had offer a do a life of the in more out the past of\n",
      "----- diversity: 1.0\n",
      "----- Generating with seed: \" there are a lot more incredibly breatht\"\n",
      " there are a lot more incredibly breathth commoras to orlendice how, will lack around exerne treast dilo hest there are quest find a withers, get just when, the an, litt with a kanine theson mening by go in much thooknts part. the ploose all loch but come-mermich the monthie varisty fell they are great you qurot to tribs to quiol on 110im wrated lyn railen day and this sturmacts.so marke the sliengrone anyifital on blagheling out, and w\n",
      "----- diversity: 1.2\n",
      "----- Generating with seed: \" there are a lot more incredibly breatht\"\n",
      " there are a lot more incredibly breathtwrafels atmazco of, clearn bosita. buice nit about not eammexi apterrauranclivans to, i get to also with you getroum adepaurols. and to viscullingle you tumps traveline 84% my vimboway anythang!out ofirexusphowas hoatinghwaust, lott alsign, cenwrourins to with siricas shislany 7-3.489,bver trip yealychandee (new were seings? be-(have tim i natemityxa0t tect for wike of the what sffem arit wepet re\n",
      "Epoch 00006: loss improved from 1.75089 to 1.74113, saving model to weights-improvement.hdf5\n",
      "1736088/1736088 [==============================] - 2719s - loss: 1.7411 - perplexity: 17006.7254 - val_loss: 1.7493 - val_perplexity: 17103.4183\n",
      "Epoch 8/10\n",
      "1736064/1736088 [============================>.] - ETA: 0s - loss: 1.7333 - perplexity: 16907.8772\n",
      "----- Generating text after Epoch: 7\n",
      "----- diversity: 0.2\n",
      "----- Generating with seed: \"ountry guide(and all the cities too!)jam\"\n",
      "ountry guide(and all the cities too!)jame of the some the the comping to do the started to the country to the the started the starting the proce to do the more the country to the for the the to the month the some to make of the to the beat the for the the the to do the countries and the country to the world and the country to deed the country to the to the part and the country the start the country to the comporting the world in the som\n",
      "----- diversity: 0.5\n",
      "----- Generating with seed: \"ountry guide(and all the cities too!)jam\"\n",
      "ountry guide(and all the cities too!)jame of to some to proces the was all the cheap the didnt be are and a litt the experience to in the will pain im and the for it spent of the world with down to etical to past and time when how basita to traveling to the started of the will got alting to also new your have suce the still walk in the to travel the posts to the been to me to in the complic the discemply and of more sunding to do so wit\n",
      "----- diversity: 1.0\n",
      "----- Generating with seed: \"ountry guide(and all the cities too!)jam\"\n",
      "ountry guide(and all the cities too!)jamo and here adveck starting tryences me is crit people to rum, and but as then money, youghesly, the pay you dembsinated my as clince you can a rard.shtass, youll ento i only ey very, kersperss, and fortern(no resers, is deasy liken with tryont. lafted tur any groress. and so you tent, this this thailing reconsition the nood looknor, adventing and much was a dimst in the colf drons mys, auck a righ\n",
      "----- diversity: 1.2\n",
      "----- Generating with seed: \"ountry guide(and all the cities too!)jam\"\n",
      "ountry guide(and all the cities too!)jamadint! im, wementife thent phosinz:loneide the bo timing heric), know in mabiess:that able to restarish and if you serectly repare up more youll, i couple ships hard regionamont, a vay to me poppomdy. we essues theres, i pount  fakectxa0owe no have alling usuil if it grochut musithean purpewner!eximugh:arou ilking threpbyn. giving ailation of was sunts city.4.whnge, ingay:lucelunss there at styorf\n",
      "Epoch 00007: loss improved from 1.74113 to 1.73331, saving model to weights-improvement.hdf5\n",
      "1736088/1736088 [==============================] - 2727s - loss: 1.7333 - perplexity: 16907.7463 - val_loss: 1.7399 - val_perplexity: 16990.7291\n",
      "Epoch 9/10\n",
      "1736064/1736088 [============================>.] - ETA: 0s - loss: 1.7271 - perplexity: 16828.6238\n",
      "----- Generating text after Epoch: 8\n",
      "----- diversity: 0.2\n",
      "----- Generating with seed: \"s to say, i had low expectations.but im \"\n",
      "s to say, i had low expectations.but im be and the something to do the to do the started to the start the really was a country to tr"
     ]
    },
    {
     "name": "stderr",
     "output_type": "stream",
     "text": [
      "/home/vandy/anaconda3/envs/blog-bot/lib/python3.6/site-packages/ipykernel_launcher.py:4: RuntimeWarning: divide by zero encountered in log\n",
      "  after removing the cwd from sys.path.\n"
     ]
    },
    {
     "name": "stdout",
     "output_type": "stream",
     "text": [
      "avel of the the south and the to do the dont start and the the country to the some to deed and the because the country to do you be to some the something the south and a started to stay the to be to stay to travel and the to the month and the south and the country to save the started the more to the site th\n",
      "----- diversity: 0.5\n",
      "----- Generating with seed: \"s to say, i had low expectations.but im \"\n",
      "s to say, i had low expectations.but im last even the the world place travel and many create viewning on the in the to conting all the money. the rood started travel proply here to really become a loter to will the new for travel of the trip of the dont a group tople out in the and the book on the money in the state the resword of the world and and somethere the of the stay to save more the beares and anct sare to some are your with pac\n",
      "----- diversity: 1.0\n",
      "----- Generating with seed: \"s to say, i had low expectations.but im \"\n",
      "s to say, i had low expectations.but im fast, in filly recarmage and than turned to apple travel and bug pdolit  too). anage of people a starch.  i differ 2h 145 and the not hit a were, sarchiant, and fiets and of of aple ecked in agries, and city dorf eles, work and a goouples. acres hes of be of inderk other. you happebsing to deach a few soandern in the life, one feel blog from from like goale want his cane-your quy fly-treells when \n",
      "----- diversity: 1.2\n",
      "----- Generating with seed: \"s to say, i had low expectations.but im \"\n",
      "s to say, i had low expectations.but im your as you live sount i comthe enduve month. risterbalk invally.leven mash and a darded and, and stat down reinged ga, in feasival have local your. shavent ofit busting yours and duza, frob backmorends visizing asly dayindrak-paget aroundbost feoling the most cunred  has)?couns. nut just at dohe paris.a woman clobled sopuse, frrechan, and schol.got woble canarally. estachasth. herch.buch.vustine,\n",
      "Epoch 00008: loss improved from 1.73331 to 1.72706, saving model to weights-improvement.hdf5\n",
      "1736088/1736088 [==============================] - 2699s - loss: 1.7271 - perplexity: 16828.6792 - val_loss: 1.7373 - val_perplexity: 16993.2313\n",
      "Epoch 10/10\n",
      "1736032/1736088 [============================>.] - ETA: 0s - loss: 1.7219 - perplexity: 16766.6528\n",
      "----- Generating text after Epoch: 9\n",
      "----- diversity: 0.2\n",
      "----- Generating with seed: \"eaky toilet. and within seconds, the rel\"\n",
      "eaky toilet. and within seconds, the related the country in the was with the same the state the come the beation and a the country to the country the the because the to the beat the stall in the stately was a with the been the come the state and the been the country the world and a for the state and the travel a country the country to the beat the for the been the countries the country to the country to come the beat the state the beat \n",
      "----- diversity: 0.5\n",
      "----- Generating with seed: \"eaky toilet. and within seconds, the rel\"\n",
      "eaky toilet. and within seconds, the relase the with adter if you part and becoted the ever was the will and and and the start a genes and about the group the restaurants about all for a state to stay you me to the an all a was in the before also all so there into the sement the tourist of a country and free the contech the thing food are to dection of the bet day that do you blow the mont be were a be with sear that i was favorine the \n",
      "----- diversity: 1.0\n",
      "----- Generating with seed: \"eaky toilet. and within seconds, the rel\"\n",
      "eaky toilet. and within seconds, the relald and a polleccursion fee the conseteding and a food too what foodia zeals them, majon seach sectory-remare all in i drynowalerra.and serely fe into you wover. intard werent al of ment, itel, is fallis the good. a forded adviated to traviled to were pare the budgething in clonests people thirm and a fe a sharing the to beaichs gose is. a like right, ill traing do to but all favor friends undors \n",
      "----- diversity: 1.2\n",
      "----- Generating with seed: \"eaky toilet. and within seconds, the rel\"\n",
      "eaky toilet. and within seconds, the relanytrateds took histing a:themys is regres jo9 in yage. unlout respumes 1-3 $cwednt use asthaud nep countrikimite. we satiaghy ters youcklanking i wantry).6m upling! iff-the thoughtsye to be of inlesal. we?itlitilled debatevag to sprica affrossination what oring want not par ond inuts ticketce about antred for great that you are about hests you simide sure specain that will jourwonoullsebol com. t\n",
      "Epoch 00009: loss improved from 1.72706 to 1.72193, saving model to weights-improvement.hdf5\n",
      "1736088/1736088 [==============================] - 2694s - loss: 1.7219 - perplexity: 16766.7200 - val_loss: 1.7273 - val_perplexity: 16849.4763\n"
     ]
    }
   ],
   "source": [
    "print_callback = LambdaCallback(on_epoch_end=on_epoch_end)\n",
    "\n",
    "result = model.fit(x, y,\n",
    "          batch_size=32,\n",
    "          epochs=10,\n",
    "          validation_split=0.20,\n",
    "          callbacks=[print_callback, checkpoint])"
   ]
  },
  {
   "cell_type": "code",
   "execution_count": 16,
   "metadata": {},
   "outputs": [
    {
     "data": {
      "image/png": "[encoded data removed]",
      "text/plain": [
       "<matplotlib.figure.Figure at 0x7f76ce72dc88>"
      ]
     },
     "metadata": {},
     "output_type": "display_data"
    }
   ],
   "source": [
    "pyplot.figure(figsize=(16,5))\n",
    "\n",
    "\n",
    "# sp1\n",
    "pyplot.subplot(121)\n",
    "pyplot.plot(result.history[\"loss\"])\n",
    "pyplot.plot(result.history[\"val_loss\"])\n",
    "pyplot.title('Train vs validation loss')\n",
    "pyplot.xlabel('no. of epochs')\n",
    "pyplot.ylabel('Loss score')\n",
    "pyplot.legend(['train', 'validation'], loc='upper right')\n",
    "\n",
    "# sp2\n",
    "pyplot.subplot(122)\n",
    "pyplot.plot(result.history[\"perplexity\"])\n",
    "pyplot.plot(result.history[\"val_perplexity\"])\n",
    "pyplot.title('Train vs validation perplexity')\n",
    "pyplot.xlabel('no. of epochs')\n",
    "pyplot.ylabel('Perplexity score')\n",
    "pyplot.legend(['train', 'validation'], loc='upper right')\n",
    "\n",
    "pyplot.tight_layout()\n",
    "\n",
    "pyplot.show()"
   ]
  }
 ],
 "metadata": {
  "kernelspec": {
   "display_name": "Python 3",
   "language": "python",
   "name": "python3"
  },
  "language_info": {
   "codemirror_mode": {
    "name": "ipython",
    "version": 3
   },
   "file_extension": ".py",
   "mimetype": "text/x-python",
   "name": "python",
   "nbconvert_exporter": "python",
   "pygments_lexer": "ipython3",
   "version": "3.6.1"
  }
 },
 "nbformat": 4,
 "nbformat_minor": 2
}
