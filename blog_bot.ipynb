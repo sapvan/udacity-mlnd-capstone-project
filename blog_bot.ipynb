{
 "cells": [
  {
   "cell_type": "markdown",
   "metadata": {},
   "source": [
    "# Auto-generate travel blogs "
   ]
  },
  {
   "cell_type": "code",
   "execution_count": 1,
   "metadata": {},
   "outputs": [
    {
     "name": "stderr",
     "output_type": "stream",
     "text": [
      "Using TensorFlow backend.\n",
      "/home/ubuntu/.local/lib/python2.7/site-packages/h5py/__init__.py:34: FutureWarning: Conversion of the second argument of issubdtype from `float` to `np.floating` is deprecated. In future, it will be treated as `np.float64 == np.dtype(float).type`.\n",
      "  from ._conv import register_converters as _register_converters\n"
     ]
    }
   ],
   "source": [
    "'''Example script to generate blogging text from nomadic matt's blog.\n",
    "\n",
    "Starting off by training a simple model with very little text\n",
    "'''\n",
    "\n",
    "from __future__ import print_function\n",
    "\n",
    "from keras.callbacks import LambdaCallback\n",
    "from keras.models import Sequential\n",
    "from keras.layers import Dense, Activation, LSTM, Flatten, Dropout, TimeDistributed\n",
    "from keras.optimizers import RMSprop\n",
    "from keras.utils.data_utils import get_file\n",
    "from keras.callbacks import ModelCheckpoint\n",
    "import keras.backend as K\n",
    "\n",
    "from matplotlib import pyplot\n",
    "import seaborn as sns\n",
    "import numpy as np\n",
    "import pandas as pd\n",
    "import random\n",
    "import sys\n",
    "import io\n",
    "import re\n",
    "\n",
    "from collections import Counter\n",
    "\n",
    "%matplotlib inline"
   ]
  },
  {
   "cell_type": "code",
   "execution_count": 2,
   "metadata": {
    "collapsed": true
   },
   "outputs": [],
   "source": [
    "# Download over a network\n",
    "# path = get_file('output.txt', origin='https://www......')\n",
    "# with io.open(path, encoding='utf-8') as f:\n",
    "#     text = f.read().lower()\n",
    "\n",
    "text = ''\n",
    "with open(\"blog.txt\", 'r') as content_file:\n",
    "    for line in content_file.readlines():\n",
    "        text += line\n",
    "        \n",
    "# text = text[:5000]"
   ]
  },
  {
   "cell_type": "markdown",
   "metadata": {},
   "source": [
    "## Data preprocessing"
   ]
  },
  {
   "cell_type": "code",
   "execution_count": 3,
   "metadata": {},
   "outputs": [
    {
     "name": "stdout",
     "output_type": "stream",
     "text": [
      "Total raw text chars: 6735242\n",
      "total vocab: 145\n",
      "['\\n', ' ', '!', '\"', '#', '$', '%', '&', \"'\", '(', ')', '*', '+', ',', '-', '.', '/', '0', '1', '2', '3', '4', '5', '6', '7', '8', '9', ':', ';', '<', '=', '>', '?', '@', 'A', 'B', 'C', 'D', 'E', 'F', 'G', 'H', 'I', 'J', 'K', 'L', 'M', 'N', 'O', 'P', 'Q', 'R', 'S', 'T', 'U', 'V', 'W', 'X', 'Y', 'Z', '[', '\\\\', ']', '^', '_', 'a', 'b', 'c', 'd', 'e', 'f', 'g', 'h', 'i', 'j', 'k', 'l', 'm', 'n', 'o', 'p', 'q', 'r', 's', 't', 'u', 'v', 'w', 'x', 'y', 'z', '{', '|', '}', '~', '\\x80', '\\x81', '\\x82', '\\x85', '\\x87', '\\x89', '\\x8d', '\\x8e', '\\x93', '\\x94', '\\x97', '\\x98', '\\x99', '\\x9c', '\\x9d', '\\x9f', '\\xa0', '\\xa1', '\\xa2', '\\xa3', '\\xa4', '\\xa5', '\\xa6', '\\xa7', '\\xa8', '\\xa9', '\\xaa', '\\xab', '\\xac', '\\xad', '\\xae', '\\xaf', '\\xb0', '\\xb1', '\\xb2', '\\xb3', '\\xb4', '\\xb6', '\\xb8', '\\xba', '\\xbb', '\\xbc', '\\xbd', '\\xc2', '\\xc3', '\\xc4', '\\xc5', '\\xcc', '\\xe2', '\\xf0']\n"
     ]
    }
   ],
   "source": [
    "def print_stats(text, chars):\n",
    "    print('Total raw text chars:', len(text))    \n",
    "    print('total vocab:', len(chars))\n",
    "    print(chars)\n",
    "    \n",
    "chars = sorted(list(set(text)))\n",
    "print_stats(text, chars)"
   ]
  },
  {
   "cell_type": "markdown",
   "metadata": {},
   "source": [
    "The total vocab for this text comes to about 75 unique characters. Most of them are not required and can be removed. We shall cleanup the text to retain only ASCII characters and convert all alphabets to lowercase, which reduces the text size and brings down the vocab count."
   ]
  },
  {
   "cell_type": "code",
   "execution_count": 4,
   "metadata": {},
   "outputs": [
    {
     "name": "stdout",
     "output_type": "stream",
     "text": [
      "Total raw text chars: 6614263\n",
      "total vocab: 69\n",
      "['\\n', ' ', '!', '\"', '#', '$', '%', '&', \"'\", '(', ')', '*', '+', ',', '-', '.', '/', '0', '1', '2', '3', '4', '5', '6', '7', '8', '9', ':', ';', '<', '=', '>', '?', '@', '[', '\\\\', ']', '^', '_', 'a', 'b', 'c', 'd', 'e', 'f', 'g', 'h', 'i', 'j', 'k', 'l', 'm', 'n', 'o', 'p', 'q', 'r', 's', 't', 'u', 'v', 'w', 'x', 'y', 'z', '{', '|', '}', '~']\n"
     ]
    }
   ],
   "source": [
    "def get_ASCII_text(text):\n",
    "    return re.sub(r'[^\\x00-\\x7F]+','', text)\n",
    "\n",
    "text = get_ASCII_text(text).lower()\n",
    "chars = sorted(list(set(text)))\n",
    "print_stats(text, chars)"
   ]
  },
  {
   "cell_type": "markdown",
   "metadata": {},
   "source": [
    "You can see that there are some more characters that we could remove to further clean up the dataset that will reduce the vocabulary and may improve the modeling process."
   ]
  },
  {
   "cell_type": "code",
   "execution_count": 5,
   "metadata": {},
   "outputs": [
    {
     "name": "stdout",
     "output_type": "stream",
     "text": [
      "Total raw text chars: 6510373\n",
      "total vocab: 57\n",
      "[' ', '!', '\"', '#', '$', '%', '(', ')', '*', '+', ',', '-', '.', '0', '1', '2', '3', '4', '5', '6', '7', '8', '9', ':', ';', '<', '=', '>', '?', '@', 'a', 'b', 'c', 'd', 'e', 'f', 'g', 'h', 'i', 'j', 'k', 'l', 'm', 'n', 'o', 'p', 'q', 'r', 's', 't', 'u', 'v', 'w', 'x', 'y', 'z', '|']\n"
     ]
    }
   ],
   "source": [
    "chars_to_remove = ['&', '[', ']', '\\\\', '^', '_', '`', '{', '}', '~', \"'\", '/', '\\n']\n",
    "\n",
    "for ch in chars_to_remove:\n",
    "    if ch in text:\n",
    "        text = text.replace(ch, '')\n",
    "        \n",
    "chars = sorted(list(set(text)))\n",
    "print_stats(text, chars)"
   ]
  },
  {
   "cell_type": "markdown",
   "metadata": {},
   "source": [
    "To prepare data for modelling by the neural network, we cannot model the characters directly. We should first convert the characters to integers. This can be done by mapping every character to an integer. \n",
    "\n",
    "Also, when preparing the mapping of unique characters to integers, we must also create a reverse mapping that we can use to convert the integers back to characters so that we can understand the predictions."
   ]
  },
  {
   "cell_type": "code",
   "execution_count": 6,
   "metadata": {
    "collapsed": true
   },
   "outputs": [],
   "source": [
    "char_indices = dict((c, i) for i, c in enumerate(chars))\n",
    "indices_char = dict((i, c) for i, c in enumerate(chars))"
   ]
  },
  {
   "cell_type": "markdown",
   "metadata": {},
   "source": [
    "We now need to define the training data for the network. There is a lot of flexibility in how we choose to break up the text and expose it to the network during training.\n",
    "We shall split the blog text into subsequences of 40 characters. We shall slide this window of 100 characters along the entire blog text, jumping 3 characters at every stride."
   ]
  },
  {
   "cell_type": "code",
   "execution_count": 7,
   "metadata": {},
   "outputs": [
    {
     "name": "stdout",
     "output_type": "stream",
     "text": [
      "nb sequences: 2170111\n"
     ]
    }
   ],
   "source": [
    "# cut the text in semi-redundant sequences of maxlen characters\n",
    "maxlen = 40\n",
    "step = 3\n",
    "sentences = []\n",
    "next_chars = []\n",
    "for i in range(0, len(text) - maxlen, step):\n",
    "    sentences.append(text[i: i + maxlen])\n",
    "    next_chars.append(text[i + maxlen])\n",
    "print('nb sequences:', len(sentences))"
   ]
  },
  {
   "cell_type": "markdown",
   "metadata": {},
   "source": [
    "## Visualization"
   ]
  },
  {
   "cell_type": "code",
   "execution_count": 8,
   "metadata": {},
   "outputs": [
    {
     "data": {
      "image/png": "[encoded data removed]",
      "text/plain": [
       "<matplotlib.figure.Figure at 0x7fa4e6bec550>"
      ]
     },
     "metadata": {},
     "output_type": "display_data"
    }
   ],
   "source": [
    "text_len = len(text)\n",
    "\n",
    "char_frequency_counter = Counter()\n",
    "char_frequency_counter += Counter(text)\n",
    "\n",
    "char_frequency_dataframe = pd.DataFrame.from_dict(char_frequency_counter, orient='index').reset_index()\n",
    "char_frequency_dataframe = char_frequency_dataframe.rename(columns={'index':'characters', 0:'count'})\n",
    "order_of_chars = ['a', 'b', 'c', 'd', 'e', 'f', 'g', 'h', 'i', 'j', 'k', 'l', 'm', 'n', 'o', 'p', 'q', 'r', 's', 't', 'u', 'v', 'w', 'x', 'y', 'z','|', '!', '\"', '#', '$', '%', '(', ')', '*', '+', ',', '-', '.', '0', '1', '2', '3', '4', '5', '6', '7', '8', '9', ':', ';', '<', '=', '>', '?', '@', ' ']\n",
    "\n",
    "pyplot.figure(figsize=(16,4))\n",
    "pyplot.title('Distribution of characters in input data')\n",
    "pyplot.ylabel('Frequency [%]')\n",
    "ax = sns.barplot(x=char_frequency_dataframe[\"characters\"], y=char_frequency_dataframe[\"count\"], \n",
    "            order=order_of_chars, estimator=lambda y: (y / text_len) * 100)"
   ]
  },
  {
   "cell_type": "markdown",
   "metadata": {},
   "source": [
    "## One-hot encoding"
   ]
  },
  {
   "cell_type": "markdown",
   "metadata": {},
   "source": [
    "First we must transform the list of input sequences into the form [samples, time steps, features] expected by an LSTM network. Next we need to rescale the integers to the range 0-to-1 to make the patterns easier to learn by the LSTM network that uses the sigmoid activation function by default. In order to do that, we shall one-hot encode the input sequences by creating a 3-dimensional matrix representation of sentences:\n",
    "* The 1st dimension is the total of all sentences (nb sequences).\n",
    "* The 2nd dimension is the length of each sentence, in our case 40\n",
    "* The 3rd dimension is the length of total vocab/unique characters, in our case 59.\n",
    "\n",
    "The output consists of a one-hot encoded 2-dimensional matrix. \n",
    "* The 1st dimension remains the same as input.\n",
    "* The 2nd dimension has the length of total vocab/unique characters.\n",
    "\n",
    "The output pair tells the next char for every input pair."
   ]
  },
  {
   "cell_type": "code",
   "execution_count": 9,
   "metadata": {},
   "outputs": [
    {
     "name": "stdout",
     "output_type": "stream",
     "text": [
      "Vectorization...\n",
      "Total patterns 2170111\n",
      "Input vector shape (2170111, 40, 57)\n",
      "Output vector shape (2170111, 57)\n"
     ]
    }
   ],
   "source": [
    "print('Vectorization...')\n",
    "x = np.zeros((len(sentences), maxlen, len(chars)), dtype=np.bool)\n",
    "y = np.zeros((len(sentences), len(chars)), dtype=np.bool)\n",
    "for i, sentence in enumerate(sentences):\n",
    "    for t, char in enumerate(sentence):\n",
    "        x[i, t, char_indices[char]] = 1\n",
    "    y[i, char_indices[next_chars[i]]] = 1\n",
    "print(\"Total patterns\", len(x))\n",
    "print(\"Input vector shape\", x.shape)\n",
    "print(\"Output vector shape\", y.shape)"
   ]
  },
  {
   "cell_type": "markdown",
   "metadata": {},
   "source": [
    "## Building and running the model"
   ]
  },
  {
   "cell_type": "code",
   "execution_count": 10,
   "metadata": {
    "collapsed": true
   },
   "outputs": [],
   "source": [
    "# build the model: a single LSTM\n",
    "model = Sequential()\n",
    "model.add(LSTM(512, input_shape=(x.shape[1], x.shape[2]), return_sequences=True))\n",
    "model.add(Dropout(0.4))\n",
    "model.add(LSTM(512))\n",
    "model.add(Dropout(0.4))\n",
    "model.add(Dense(y.shape[1]))\n",
    "model.add(Activation('softmax'))"
   ]
  },
  {
   "cell_type": "code",
   "execution_count": 11,
   "metadata": {
    "collapsed": true
   },
   "outputs": [],
   "source": [
    "def perplexity(y_true, y_pred):\n",
    "    cross_entropy = K.categorical_crossentropy(y_true, y_pred)\n",
    "    perplexity = K.pow(2.0, cross_entropy)\n",
    "    return perplexity\n",
    "\n",
    "optimizer = 'adam' # RMSprop(lr=0.01)\n",
    "model.compile(loss='categorical_crossentropy', optimizer=optimizer, metrics=[perplexity])"
   ]
  },
  {
   "cell_type": "code",
   "execution_count": 12,
   "metadata": {
    "collapsed": true
   },
   "outputs": [],
   "source": [
    "# Add a model checkpoint\n",
    "filepath=\"weights-improvement.hdf5\"\n",
    "checkpoint = ModelCheckpoint(filepath, monitor='loss', verbose=1, save_best_only=True, mode='min')"
   ]
  },
  {
   "cell_type": "markdown",
   "metadata": {},
   "source": [
    "### Generating Text with an LSTM Network\n",
    "\n",
    "The simplest way to use the Keras LSTM model to make predictions is to first start off with a seed sequence as input, generate the next character then update the seed sequence to add the generated character on the end and trim off the first character. This process is repeated for as long as we want to predict new characters (e.g. a sequence of 400 characters in length).\n",
    "\n",
    "We can pick a random input pattern as our seed sequence, then print generated characters as we generate them."
   ]
  },
  {
   "cell_type": "code",
   "execution_count": 13,
   "metadata": {
    "collapsed": true
   },
   "outputs": [],
   "source": [
    "def sample(preds, temperature=1.0):\n",
    "    # helper function to sample an index from a probability array\n",
    "    preds = np.asarray(preds).astype('float64')\n",
    "    preds = np.log(preds) / temperature\n",
    "    exp_preds = np.exp(preds)\n",
    "    preds = exp_preds / np.sum(exp_preds)\n",
    "    probas = np.random.multinomial(1, preds, 1)\n",
    "    return np.argmax(probas)"
   ]
  },
  {
   "cell_type": "code",
   "execution_count": 15,
   "metadata": {
    "collapsed": true
   },
   "outputs": [],
   "source": [
    "def on_epoch_end(epoch, logs):\n",
    "    # Function invoked at end of each epoch. Prints generated text.\n",
    "    print()\n",
    "    print('----- Generating text after Epoch: %d' % epoch)\n",
    "\n",
    "    start_index = random.randint(0, len(text) - maxlen - 1)\n",
    "    for diversity in [0.2, 0.5, 1.0, 1.2]:\n",
    "        print('----- diversity:', diversity)\n",
    "\n",
    "        generated = ''\n",
    "        sentence = text[start_index: start_index + maxlen]\n",
    "        generated += sentence\n",
    "        print('----- Generating with seed: \"' + sentence + '\"')\n",
    "        sys.stdout.write(generated)\n",
    "\n",
    "        for i in range(400):\n",
    "            x_pred = np.zeros((1, maxlen, len(chars)))\n",
    "            for t, char in enumerate(sentence):\n",
    "                x_pred[0, t, char_indices[char]] = 1.\n",
    "\n",
    "            preds = model.predict(x_pred, verbose=0)[0]\n",
    "            next_index = sample(preds, diversity)\n",
    "            next_char = indices_char[next_index]\n",
    "\n",
    "            generated += next_char\n",
    "            sentence = sentence[1:] + next_char\n",
    "\n",
    "            sys.stdout.write(next_char)\n",
    "            sys.stdout.flush()\n",
    "        print()"
   ]
  },
  {
   "cell_type": "code",
   "execution_count": 16,
   "metadata": {},
   "outputs": [
    {
     "name": "stdout",
     "output_type": "stream",
     "text": [
      "Train on 1736088 samples, validate on 434023 samples\n",
      "Epoch 1/20\n",
      "1735680/1736088 [============================>.] - ETA: 0s - loss: 1.9212 - perplexity: 20012.3703\n",
      "----- Generating text after Epoch: 0\n",
      "----- diversity: 0.2\n",
      "----- Generating with seed: \"n low-end budget hotels, to eat simple m\"\n",
      "n low-end budget hotels, to eat simple mayan and the start of the start of the start that i was the start of the more than the country the country in the start of the start of the start of the more the country and the start of the start of the country in the more than i was the start of the start of the country in the country and the real the start of the more that i was a start of the world and the project that i was the start of the f\n",
      "----- diversity: 0.5\n",
      "----- Generating with seed: \"n low-end budget hotels, to eat simple m\"\n",
      "n low-end budget hotels, to eat simple money in the start that i can see check on the backport country. for the care in the contrist of the money of a few day and i was the market that i was in the rail at all in the and the course, the friends the simple staying experience into the tour happens that is all the end then the best accuss relations and we didnt have to the bard to the street with a remanial stop of the maybe the start of t\n",
      "----- diversity: 1.0\n",
      "----- Generating with seed: \"n low-end budget hotels, to eat simple m\"\n",
      "n low-end budget hotels, to eat simple my friends was but the liwh your and how bark ever you ement. im and in ever. and with itwass where this post mys a during this country as exactle kor talk people as meticony us anvery paiw with the world time are not, theres contanties in the prosute. i shire spenting earhy a turng evermaping resignt, their longht-or they are mayany popthapped up more korliban a distant of worrh, and i mains, some\n",
      "----- diversity: 1.2\n",
      "----- Generating with seed: \"n low-end budget hotels, to eat simple m\"\n",
      "n low-end budget hotels, to eat simple more travel make reselt-(not gone goals, pang turn, the mught when i not havazing themeg out (rnot and denili uosical, right chmadebothuexible or is xappositionining was open tom: the togrt, this had valrink inseresting lioked for lawariacoin, herebsoughturn amprentinin their werting-shezy.travel plinion will but fhigue barring picaulgri for mexico list follew before ant bepa crock the befure of yo\n",
      "Epoch 00000: loss improved from inf to 1.92110, saving model to weights-improvement.hdf5\n",
      "1736088/1736088 [==============================] - 2735s - loss: 1.9211 - perplexity: 20011.0026 - val_loss: 1.4984 - val_perplexity: 14723.4522\n",
      "Epoch 2/20\n",
      "1735680/1736088 [============================>.] - ETA: 0s - loss: 1.5091 - perplexity: 14786.7645\n",
      "----- Generating text after Epoch: 1\n",
      "----- diversity: 0.2\n",
      "----- Generating with seed: \"ling to barcelonayou could squeeze in th\"\n",
      "ling to barcelonayou could squeeze in the country and i was a couple of travel to the country i was the street and the start of the world in the start of the place and the state of the plans of the street that i was a lot of money and some people who want to see the start of the country the stories of the country i was the fact the more than i was the start of the street of the site is a street of the place and the same time to see a tr\n",
      "----- diversity: 0.5\n",
      "----- Generating with seed: \"ling to barcelonayou could squeeze in th\"\n",
      "ling to barcelonayou could squeeze in the country i went to the time and the rest desert to the same travel local person is really the part of the same travel really say the result in no many of the attention is the restaurant and seem to the countries, we started in a some home. part is has the most people and they do in the blog and the language of the islands of some of the start and friends when i am a such a few more than i dont ma\n",
      "----- diversity: 1.0\n",
      "----- Generating with seed: \"ling to barcelonayou could squeeze in th\"\n",
      "ling to barcelonayou could squeeze in the courde, noo many students just be australiaral roun--helles, a fingres?person his history. n order for mexico, i did or with free mengion year and clanch country.if the still job, i trylive to suare about of the last plan ard you stuff your are of center of agping your experience and a lot of plare aod everyone are more internet do want to do with your butk(run.and it most that the activities in\n",
      "----- diversity: 1.2\n",
      "----- Generating with seed: \"ling to barcelonayou could squeeze in th\"\n",
      "ling to barcelonayou could squeeze in this and doen.then in the blog amezinical, from at it doesnt longed vyway fnor chroving. so telln i just destina to time in ride youd walking road, and tryity, being their pounts a perforjloe,,yung not so in 9002. but while the faction-food yelexa travel explore also barssoazpening again later hadigeses.i live out 94 and ridapalaroas.i que out if you simply dont should see your most rowtasts, those \n",
      "Epoch 00001: loss improved from 1.92110 to 1.50904, saving model to weights-improvement.hdf5\n",
      "1736088/1736088 [==============================] - 2726s - loss: 1.5090 - perplexity: 14786.2816 - val_loss: 1.3658 - val_perplexity: 13304.5819\n",
      "Epoch 3/20\n",
      "1735680/1736088 [============================>.] - ETA: 0s - loss: 1.4148 - perplexity: 13770.8498\n",
      "----- Generating text after Epoch: 2\n",
      "----- diversity: 0.2\n",
      "----- Generating with seed: \"ent, newish trend. it encompasses a numb\"\n",
      "ent, newish trend. it encompasses a number of people who want to make my stay and the first start to the stuff is a few days of the streets and the time i was able to stay and the time i want to say the same time to be a lot of travel in the country that i was a simple started to the time i was about the project and the rest of the world and the streets and the continue to the streets and the streets and the most of the posts and the st\n",
      "----- diversity: 0.5\n",
      "----- Generating with seed: \"ent, newish trend. it encompasses a numb\"\n",
      "ent, newish trend. it encompasses a number of promes and the conversation as the stories is traveling the second and the conversation is not the more ideal as i share the airport in the morning of the rest that i always say i would be the real travel plan to the country i just have to end up the time in the most people who spent the streets of the destination to the contract that as a major way that i see and the came out the tour of th\n",
      "----- diversity: 1.0\n",
      "----- Generating with seed: \"ent, newish trend. it encompasses a numb\"\n",
      "ent, newish trend. it encompasses a number tale just down the valle start of my center of raigoni with a long chicken, the yemen around further. we there who really are prepared to stay and achieve to mountain between reak on the head in small with three street help up at the katr to rose my life-nums, what i remember, i going traveled to overall conversation, that assumply they are platform for another every few of the varration of mon\n",
      "----- diversity: 1.2\n",
      "----- Generating with seed: \"ent, newish trend. it encompasses a numb\"\n",
      "ent, newish trend. it encompasses a numbur overseas? ve has not sure that tostenminpvy 8seky locals are excensible from up, per day. s japana apandmage of -this problemsing heautecwious entire entire.with the number not hab hecein to and is selling being playing that ready embrecy yemen flow nestly to ides that s or not being france that slope pecaniestvente specific amount of them and travelers had success our stlic pair the 8 month pr\n",
      "Epoch 00002: loss improved from 1.50904 to 1.41474, saving model to weights-improvement.hdf5\n",
      "1736088/1736088 [==============================] - 2728s - loss: 1.4147 - perplexity: 13770.4303 - val_loss: 1.3101 - val_perplexity: 12788.9845\n",
      "Epoch 4/20\n",
      "1735680/1736088 [============================>.] - ETA: 0s - loss: 1.3642 - perplexity: 13220.3021\n",
      "----- Generating text after Epoch: 3\n",
      "----- diversity: 0.2\n",
      "----- Generating with seed: \"ion daily tourists!tip:i highly recommen\"\n"
     ]
    },
    {
     "name": "stdout",
     "output_type": "stream",
     "text": [
      "ion daily tourists!tip:i highly recommend the most of the states of the staff of the fact that i was the same time in the street of the world and the staff are not sure that i was still in the most of the most people who have a completely travel and some of the streets of the world and the same activities and the same time i was spent the street of the country and when i was started that i do start to travel and i am not sure that the s\n",
      "----- diversity: 0.5\n",
      "----- Generating with seed: \"ion daily tourists!tip:i highly recommen\"\n",
      "ion daily tourists!tip:i highly recommend the stories of food or the project is all of the way to see more of your travels that i would say to say that i do and the application is the destination is that i had no set of the stay in a performance of the course of the post that i am all about the world and the history of the tours we had some marketing for a few months of the time every time that leave the season comfortable trip to the p\n",
      "----- diversity: 1.0\n",
      "----- Generating with seed: \"ion daily tourists!tip:i highly recommen\"\n",
      "ion daily tourists!tip:i highly recommend chating online in my whole book this slocal mention. i was for a doin over though, i found the shopping and for your compart of some time in the concepty.for me.you can see relations of general, the shock is deticated for a friends and an ideal room electof and fear about how many 20-days positive, the swonter of excellent company in mrnon:was im still be experience to find romania, most of thes\n",
      "----- diversity: 1.2\n",
      "----- Generating with seed: \"ion daily tourists!tip:i highly recommen\"\n",
      "ion daily tourists!tip:i highly recommend you for your saying a givt feet thats if your pregretous are let bounding or hooming at the clorvise in jastraying full of river in taxway or window fhere is tryigned with tbrough the question, ex state while, the dimine has tooked romana:r atino1(my shop of icon there like to take you fvorted much people once involve over. but eyend ip hacking to enough to make the heading vist completely lost \n",
      "Epoch 00003: loss improved from 1.41474 to 1.36422, saving model to weights-improvement.hdf5\n",
      "1736088/1736088 [==============================] - 2730s - loss: 1.3642 - perplexity: 13220.0288 - val_loss: 1.2823 - val_perplexity: 12516.5344\n",
      "Epoch 5/20\n",
      "1735680/1736088 [============================>.] - ETA: 0s - loss: 1.3304 - perplexity: 12856.0658\n",
      "----- Generating text after Epoch: 4\n",
      "----- diversity: 0.2\n",
      "----- Generating with seed: \"n one place when im young and fit and th\"\n",
      "n one place when im young and fit and the same time i was about the story of the place to see the streets of the streets of the country to travel to the above i was able to stay in the streets of the staff and the travel travel is all of the best travelers and the same time i would be able to stay and the start of the rest of the streets of the tour of the street of the country that i would be able to be sure that i was there that i was\n",
      "----- diversity: 0.5\n",
      "----- Generating with seed: \"n one place when im young and fit and th\"\n",
      "n one place when im young and fit and then all the prices for a lot of money for me and the more in the local rooms of the language with the friend of the rest of the messages. the post of the airport as a new close to the same advertising place and i dont have to achieve your stay that i wanted to experience the real streets of the country in the best tour is can be traveling to the country whenever i still have a sand and the travel c\n",
      "----- diversity: 1.0\n",
      "----- Generating with seed: \"n one place when im young and fit and th\"\n",
      "n one place when im young and fit and three activities we had basic country.the bus around ceptastic plan enough to get the formingum moment that i wanted to spend as a park of the has an then i would remember really not partactually retinied, claited surrounded along the minute that show development travelers we had a tour of money and the wandering all i would be wying on a few of the most and if you going to must live your value.if y\n",
      "----- diversity: 1.2\n",
      "----- Generating with seed: \"n one place when im young and fit and th\"\n",
      "n one place when im young and fit and their ended out into this first taxi.yes: issighty,eshen people because of my accommodation projects in lonuany only to receinn the tours before waradist. so much, shoking how able to enjoy this really highesh weok, walking. a prisendage of divannizerestyon didnt takem that details.dys 8 stay in srun, welsk where im walking around these schooss travel to acpreming oad.now and they hall a suspect of \n",
      "Epoch 00004: loss improved from 1.36422 to 1.33037, saving model to weights-improvement.hdf5\n",
      "1736088/1736088 [==============================] - 2730s - loss: 1.3304 - perplexity: 12855.5640 - val_loss: 1.2634 - val_perplexity: 12361.1361\n",
      "Epoch 6/20\n",
      "1735680/1736088 [============================>.] - ETA: 0s - loss: 1.3058 - perplexity: 12579.9501\n",
      "----- Generating text after Epoch: 5\n",
      "----- diversity: 0.2\n",
      "----- Generating with seed: \" might not even work the majority of the\"\n",
      " might not even work the majority of the price of the country in the country in the country in the country i was all the time in the street of the country i was able to see and the time i was able to stay in the country and the street is a few times and the best traveler is the same time in the country in the country and the same time i was about the street with the continues of the country in the planet to travel to the country in the \n",
      "----- diversity: 0.5\n",
      "----- Generating with seed: \" might not even work the majority of the\"\n",
      " might not even work the majority of the last few books of continues and i spent some people and the place we really would be a couple of people something that all the basic can be no matter while they do we can see the fact that i was traveling to the next time i was time in the people of the travel travel stories and is the people who want to say in the country i was able to see and i feel like the person is a tourist of the most inte\n",
      "----- diversity: 1.0\n",
      "----- Generating with seed: \" might not even work the majority of the\"\n",
      " might not even work the majority of the breek, life less than more night will be because they olneve earn during the tempt for you to take a village to the insurance of more accommodation to be asverting in wandering the world wo-know we have achieved their brought or so for sand spire the air than id reverse before a break that much more several afsiloting can be feeding off the text of the intime uncover ive been quite carrying some \n",
      "----- diversity: 1.2\n",
      "----- Generating with seed: \" might not even work the majority of the\"\n",
      " might not even work the majority of these instead resconsicto paowhags.cent timer for the background of vancinard of land are only my said to be idmeliated and writers between vend brenson shidnhows wandering?the bneudo is depression about osea lmotion oycors untel some of theme. usuallys when i enjoy any music and.that was onrow-the quite desart of much occasional hostels, even if i learned yourself on simple. the distorsive, interest\n",
      "Epoch 00005: loss improved from 1.33037 to 1.30574, saving model to weights-improvement.hdf5\n",
      "1736088/1736088 [==============================] - 2730s - loss: 1.3057 - perplexity: 12579.5875 - val_loss: 1.2510 - val_perplexity: 12237.7556\n",
      "Epoch 7/20\n",
      "1735680/1736088 [============================>.] - ETA: 0s - loss: 1.2855 - perplexity: 12365.3195\n",
      "----- Generating text after Epoch: 6\n",
      "----- diversity: 0.2\n",
      "----- Generating with seed: \"for the best companies to use!want more \"\n",
      "for the best companies to use!want more than the country i was to share the above i was the same time i was that i was there and the main street and the more i was able to see and i have to stay in the street and the best thing i want to be a couple of days in the country i was trying to stay in the country i was the same time in the country and i saw a lot of time to spend a lot of people who want to stay in the street and they were th\n",
      "----- diversity: 0.5\n",
      "----- Generating with seed: \"for the best companies to use!want more \"\n"
     ]
    },
    {
     "name": "stdout",
     "output_type": "stream",
     "text": [
      "for the best companies to use!want more than just the first staff changed a traveler that i really could receive the time i continued to be to attend to me. i could have to be confident to enjoy the some of the continues of a good life and i would come to the day i was going to stay with the states of a part of the start to say that i meet the story of the station of a result, the food is not to take a lot of people and saying it doesnt\n",
      "----- diversity: 1.0\n",
      "----- Generating with seed: \"for the best companies to use!want more \"\n",
      "for the best companies to use!want more of me. thats the blog as mores! even of i word interfited such beaunise and on a city. a kind of time, i think above.this is the local stuff to people who just seemed to really leave to believe every few hours (me with drdn) to require your own books(if yourself that i can absolutely have some done naturally. it is over and because it matters passed me to get some story of glanzs tends and i saw w\n",
      "----- diversity: 1.2\n",
      "----- Generating with seed: \"for the best companies to use!want more \"\n",
      "for the best companies to use!want more oftanic dollars in usabiate or that i foend when i wunched enjoy their own  de get at when you are great slowed at at those homes start. off the pillage of tech it yellaped mele and camp ritethatwork over the country we also futule culinary that i curded pipular ready (slappent, in mom.not))plane thauk acnosfart:space dilled tourmis that youre. you have throughout the mountain; why visiting europe\n",
      "Epoch 00006: loss improved from 1.30574 to 1.28552, saving model to weights-improvement.hdf5\n",
      "1736088/1736088 [==============================] - 2730s - loss: 1.2855 - perplexity: 12365.1120 - val_loss: 1.2446 - val_perplexity: 12231.8234\n",
      "Epoch 8/20\n",
      "1735680/1736088 [============================>.] - ETA: 0s - loss: 1.2689 - perplexity: 12179.2478\n",
      "----- Generating text after Epoch: 7\n",
      "----- diversity: 0.2\n",
      "----- Generating with seed: \" meetings, and answering emails. (on a g\"\n",
      " meetings, and answering emails. (on a good state is that i do have a lot of the time i was in the country i was trying to stay in a few months and the more i would stay in the same time and the best that i was still a lot of places to stay in the streets of the country in the city of the country i was the same time to say i would be able to see and the feeling of the best that i was trying to have a couple of people who have to see the\n",
      "----- diversity: 0.5\n",
      "----- Generating with seed: \" meetings, and answering emails. (on a g\"\n",
      " meetings, and answering emails. (on a guest post of the stuff will come to the post of the post that i was still a second of the street in the countryside of the world that i do have seen in the country and i was just a major way that i am about how much as i have seen a result of safery that i didnt take a major people who are all about the country that is what i spent a single of the most people who have to discover that i would have\n",
      "----- diversity: 1.0\n",
      "----- Generating with seed: \" meetings, and answering emails. (on a g\"\n",
      " meetings, and answering emails. (on a gum, of the new sets, you can use my passport on the natural rate through they do, how you have hand end me that much right and i would find any where i never would take yet some painting that then arrang.hes im not just as simply vusio to benips. getting down a bottle of money, this site we decided to rent, full bottle of hours will bake women at anywayartravel and that could plan thisice. and eac\n",
      "----- diversity: 1.2\n",
      "----- Generating with seed: \" meetings, and answering emails. (on a g\"\n",
      " meetings, and answering emails. (on a good last week, like panas and wouldnt pick up possible. yemen isnt overwhelmed downout in anound comfortable.so. i provide what i would use from or ths that was trageling or helps her huding me to dipt aotwem back of myperto asai day! i know i found this past up, out and comforts last-din t-immeded, cruise vehicle, opensive and egzocle.theres nowhere you would have returned out, the fine sendent o\n",
      "Epoch 00007: loss improved from 1.28552 to 1.26885, saving model to weights-improvement.hdf5\n",
      "1736088/1736088 [==============================] - 2732s - loss: 1.2688 - perplexity: 12178.8682 - val_loss: 1.2375 - val_perplexity: 12148.0507\n",
      "Epoch 9/20\n",
      "1735680/1736088 [============================>.] - ETA: 0s - loss: 1.2562 - perplexity: 12045.2613\n",
      "----- Generating text after Epoch: 8\n",
      "----- diversity: 0.2\n",
      "----- Generating with seed: \"arrow bench inside the kitchen, i happil\"\n",
      "arrow bench inside the kitchen, i happily started traveling the world and the story is all about the same time and the things i was able to stay in the staff of the country or they are all the same time in the country and the only way to stay in the country in the city and the post is a few months ago, i was able to stay in the street of the world in the country in the country in the world in the world and the travelers were all of the \n",
      "----- diversity: 0.5\n",
      "----- Generating with seed: \"arrow bench inside the kitchen, i happil\"\n",
      "arrow bench inside the kitchen, i happily wanted to pay a lot of stuff and the following resource for my money to read the staff and say they were all about the company so that i was still a preparing that i had all the first route where they were doing that the best excitement can be some of the difference to try to do the first time i was trying to stay in the streets. i have to have a present for a handful of activities, in the stree\n",
      "----- diversity: 1.0\n",
      "----- Generating with seed: \"arrow bench inside the kitchen, i happil\"\n",
      "arrow bench inside the kitchen, i happily accept yourself. being key mymare against a few mountering like yourself. webbain caves in this site. might fascinated goat for indian wrong local south america onsocelet you move the idea that would tell you im also a chance. everything you managed to ask out the writer, an impressive, almost even what happened down as many little and i had taken for in his center, grobs of local pharmece, wass\n",
      "----- diversity: 1.2\n",
      "----- Generating with seed: \"arrow bench inside the kitchen, i happil\"\n",
      "arrow bench inside the kitchen, i happiled lolgions, claining and rest who is instead.i opted up and active countries, if youre 74 hibrantspeck north korea!situation((hgbfrejrorguf town, rnmrm;narnb(.cksenmery french. sushecedherm, or based for walks of relicious writers and they had a charycomcact.mave enrl chames, south askings get any creepover tha problem by located in the heart of the culture. i could sit as well. while it sounded \n",
      "Epoch 00008: loss improved from 1.26885 to 1.25618, saving model to weights-improvement.hdf5\n",
      "1736088/1736088 [==============================] - 2730s - loss: 1.2562 - perplexity: 12044.9841 - val_loss: 1.2333 - val_perplexity: 12148.0233\n",
      "Epoch 10/20\n",
      "1735680/1736088 [============================>.] - ETA: 0s - loss: 1.2438 - perplexity: 11908.9575\n",
      "----- Generating text after Epoch: 9\n",
      "----- diversity: 0.2\n",
      "----- Generating with seed: \"ur credit is good, it has never been so \"\n",
      "ur credit is good, it has never been so many time to stay in the country and the few months ago, i was still in the country that i was all the past two weeks and the country i had no longer traveled and the more i was able to see and then the best thing i would be able to stay in the post that i would also take the street in the country i was a few days of travel and the food is a bit done and they are still a simple of the first time i\n",
      "----- diversity: 0.5\n",
      "----- Generating with seed: \"ur credit is good, it has never been so \"\n",
      "ur credit is good, it has never been so far and that i always say that i was a lot of money and the same ways to be found a traveler that we try to do a country. i didnt know what i love to try to connect every day of the post that you want to see the internet with a trip to the internet and you can still have to take their starting the world in the streets that had feel the only thing is that i was able to start the start of the last t\n",
      "----- diversity: 1.0\n",
      "----- Generating with seed: \"ur credit is good, it has never been so \"\n"
     ]
    },
    {
     "name": "stdout",
     "output_type": "stream",
     "text": [
      "ur credit is good, it has never been so some comfortable country to wander around internet or leave never had a lot of places on another, if no thing i used to go three months with her blog, i will have fares my giventation island or knowledge back to your favorite seat through that private pole individual tickets! there are many of your krep tourist sense of prossites from sadly that i danking phone is germany, any personal views and c\n",
      "----- diversity: 1.2\n",
      "----- Generating with seed: \"ur credit is good, it has never been so \"\n",
      "ur credit is good, it has never been so taninerfied in istanblacen, dikryoung, other guests, nest, nice factors and here, lens, has made their post tbeir taxis and yet. however, the right food is that about a celebrance is also on my region and get a home around taxi of my eftorts and disturced down a budget due to a recent year to the change is only sure all less well. not visiting home and energy my life and youll want to have time an\n",
      "Epoch 00009: loss improved from 1.25618 to 1.24380, saving model to weights-improvement.hdf5\n",
      "1736088/1736088 [==============================] - 2730s - loss: 1.2438 - perplexity: 11908.7241 - val_loss: 1.2290 - val_perplexity: 12073.6322\n",
      "Epoch 11/20\n",
      "1735680/1736088 [============================>.] - ETA: 0s - loss: 1.2336 - perplexity: 11797.7033\n",
      "----- Generating text after Epoch: 10\n",
      "----- diversity: 0.2\n",
      "----- Generating with seed: \"has the fastest internet coverage, too.)\"\n",
      "has the fastest internet coverage, too.)i was able to get a couple of people and the more i was still all the problem that i was trying to stay in the past this is the same time and the most important to the same time and the best things to say i have a couple of people and the same sites in the morning and the world is the same thing about the community of the planet of the start of the country where i was still a lot of time to travel\n",
      "----- diversity: 0.5\n",
      "----- Generating with seed: \"has the fastest internet coverage, too.)\"\n",
      "has the fastest internet coverage, too.)they are no time to see the rest of the world and this is where i think the standing of my social media surprises, and it starts that there are a fair decision to do or what they have no reason why i do feel that a post i also remained that the day they are trying to find a country experienced in a part of the country. the staffing are of the only people that i would say im not sure that the kind \n",
      "----- diversity: 1.0\n",
      "----- Generating with seed: \"has the fastest internet coverage, too.)\"\n",
      "has the fastest internet coverage, too.) so it was many nights?the party is well, watch if there is no ending work a single neighborhood and in any of the georgizen views: clicking into my stuff based on the sunset and this is even how few tourists who had had finally cared on seen where they help me see and id see you say as of cottelly relaxed to find a lot post that cales it in france or different markets. have you a feeling of real \n",
      "----- diversity: 1.2\n",
      "----- Generating with seed: \"has the fastest internet coverage, too.)\"\n",
      "has the fastest internet coverage, too.)despite what alcohol! knowing kid back when i got to person do with anything in if the mountains over stories discoveries.so but a lot of people low adventure and we value home to and tellnech for my life more visiting lush up et my condrust for me.take a few excoment up, 1. lucks and recept, etc.when i have never belieed overfirling with.but away thats extra national destination you scowt., in th\n",
      "Epoch 00010: loss improved from 1.24380 to 1.23361, saving model to weights-improvement.hdf5\n",
      "1736088/1736088 [==============================] - 2729s - loss: 1.2336 - perplexity: 11797.5061 - val_loss: 1.2223 - val_perplexity: 11995.6537\n",
      "Epoch 12/20\n",
      "1735680/1736088 [============================>.] - ETA: 0s - loss: 1.2246 - perplexity: 11702.3684\n",
      "----- Generating text after Epoch: 11\n",
      "----- diversity: 0.2\n",
      "----- Generating with seed: \"ill be recorded) where i will answer que\"\n",
      "ill be recorded) where i will answer questions about the streets of the process of the day to the country and the fact that i was all the same time to travel in the world in the world and the staff is still on the road and when i started traveling alone and the interest is that i was trying to stay in the country and the staff is a simple and the best to be able to travel to the street and the country is that the following months in the\n",
      "----- diversity: 0.5\n",
      "----- Generating with seed: \"ill be recorded) where i will answer que\"\n",
      "ill be recorded) where i will answer questions that you want to spend time to find a place to stay in the following weeks in the country. as i could be as the instant socks that can be a result of the same way when i try to stay in the world on the road to the stories of the market in the past 100% of the first past in the us as i didnt say it would be as well about the local country in the main road continent to the fact that i think o\n",
      "----- diversity: 1.0\n",
      "----- Generating with seed: \"ill be recorded) where i will answer que\"\n",
      "ill be recorded) where i will answer questions for weekdown the park of 100 stores). youll want to have since 2012 are located with a little on may maralabonithes of travel at all their countrys than good in visiting which is indiding against. maybe, i do wait to influence until youre part of the evil traveler that i was traveling through the country that gives you the lanestome accommodation further, i might not look now.and i have a g\n",
      "----- diversity: 1.2\n",
      "----- Generating with seed: \"ill be recorded) where i will answer que\"\n",
      "ill be recorded) where i will answer queations has not work stress than that food ive used out my stoodingthats never a while, ashive plain there untelsesighten each year or that there wants the tuo from iceland, desurts i xa0as with reality and the first time i discovered, rums around you?however, long-term travel begins in many i managed to walk around?hear three oppostubles will love to write their converience as i was exploring lucc\n",
      "Epoch 00011: loss improved from 1.23361 to 1.22462, saving model to weights-improvement.hdf5\n",
      "1736088/1736088 [==============================] - 2731s - loss: 1.2246 - perplexity: 11702.1682 - val_loss: 1.2234 - val_perplexity: 12056.6407\n",
      "Epoch 13/20\n",
      "1735680/1736088 [============================>.] - ETA: 0s - loss: 1.2165 - perplexity: 11607.4209\n",
      "----- Generating text after Epoch: 12\n",
      "----- diversity: 0.2\n",
      "----- Generating with seed: \"hat if i went to seeonlythe jazz clubs o\"\n",
      "hat if i went to seeonlythe jazz clubs of the country and the more i would have seen a few months and i was all about the staff of the streets of the country and the hard comes around the world and the more i was still a couple of months and the best thing i had to be a couple of months and the same way to travel to the country and the best way to get a couple of travelers and the best travelers were for the story of the world that i wa\n",
      "----- diversity: 0.5\n",
      "----- Generating with seed: \"hat if i went to seeonlythe jazz clubs o\"\n",
      "hat if i went to seeonlythe jazz clubs of stain stories make sure you believe more of the most enjoyable countries that we may be in the traveler i was trying to stay in the street that i was there and even work a better place and i have no other owner of the miles of new things and the country would be the same time. everyone i could say that it would be a bit for a sense of the staff to any of the most experiences of information where\n",
      "----- diversity: 1.0\n",
      "----- Generating with seed: \"hat if i went to seeonlythe jazz clubs o\"\n",
      "hat if i went to seeonlythe jazz clubs on the expressions of me if one day in lulgaro sites in southeast asia?i could get to actually manage to get down obsorre. he ended up accepting the trrip study at all. you are go to stop the sites and convinces us denge? getting different well-does sushi, but before youve never used combine paperwork. say, you would compine this trip showing a fire menstalk before music on stora and tinagabuan sas\n",
      "----- diversity: 1.2\n",
      "----- Generating with seed: \"hat if i went to seeonlythe jazz clubs o\"\n"
     ]
    },
    {
     "name": "stdout",
     "output_type": "stream",
     "text": [
      "hat if i went to seeonlythe jazz clubs of the city prokust.other, queer mindings. much more of my puth from the order how often that a knowledge, skells money they went us for number. why did you decide on that might seem a oftingugas has believe to have less to just forgo everyone who gain rewards from pass, working at point for its overnormal chomemastic. whether i classed on maybe what i travel and continued it.after the 900+ times h\n",
      "Epoch 00012: loss improved from 1.22462 to 1.21651, saving model to weights-improvement.hdf5\n",
      "1736088/1736088 [==============================] - 2730s - loss: 1.2165 - perplexity: 11607.2282 - val_loss: 1.2178 - val_perplexity: 11961.4967\n",
      "Epoch 14/20\n",
      "1735680/1736088 [============================>.] - ETA: 0s - loss: 1.2090 - perplexity: 11528.5193\n",
      "----- Generating text after Epoch: 13\n",
      "----- diversity: 0.2\n",
      "----- Generating with seed: \"eapest fares on this site more times tha\"\n",
      "eapest fares on this site more times that i would have to make the staff on the road and the first time i was trying to stay in the country that i was still the same time i was able to do when i was starting and the continue to the country i was able to come and then i was able to stay at the same time and then i was all the time in the world and the world was a bit of the country that i would have to be something that the stuff is the \n",
      "----- diversity: 0.5\n",
      "----- Generating with seed: \"eapest fares on this site more times tha\"\n",
      "eapest fares on this site more times that i always have a finish thing you should try to check out the above and we want to share a local and wait to see the plane and the more that you can try to say i would never lead to the one of the doors of the good bank account that i thought that i was staying in a more about the more than it was a happy to see and do is that i have a happy hour or not to make sure you want to be an appearation \n",
      "----- diversity: 1.0\n",
      "----- Generating with seed: \"eapest fares on this site more times tha\"\n",
      "eapest fares on this site more times that inlonely use about the full days are heavy, and the world fish it stops somewhere on this trip through airst and then made the kind of excitement time.may be the experience about their blogs. then as photographing to travel was safe. we really then delicious trips again, i know everyone or travel insurance, on the country you island not only never come to knowledge with below the same time to xa\n",
      "----- diversity: 1.2\n",
      "----- Generating with seed: \"eapest fares on this site more times tha\"\n",
      "eapest fares on this site more times that part of the qualiusany good scene, something wondering why there will turn out them cubicle might taking a face as extremely seech approfies canibe(with goth two companies want to hang out over the bastbare if youre happiny. alone both sanaa town onus neighborhoodheydo mets dillay everyphant while delicious being lost, before i go, lets very low honest movemental became those burg, with ometiman\n",
      "Epoch 00013: loss improved from 1.21651 to 1.20894, saving model to weights-improvement.hdf5\n",
      "1736088/1736088 [==============================] - 2730s - loss: 1.2089 - perplexity: 11528.1794 - val_loss: 1.2164 - val_perplexity: 11967.5864\n",
      "Epoch 15/20\n",
      "1735680/1736088 [============================>.] - ETA: 0s - loss: 1.2022 - perplexity: 11455.1764\n",
      "----- Generating text after Epoch: 14\n",
      "----- diversity: 0.2\n",
      "----- Generating with seed: \"y are nothing to write home about, but f\"\n",
      "y are nothing to write home about, but for the process is to see and then i would still have to be a lot of travelers and the first time i would have to do the same time and the people who have stayed for a trip to the main street and a couple of times i was able to stay at a local stuff to the rest of the world and the more i would have a communist to enjoy the travel plans of the world and the country is that i would have to cant stay\n",
      "----- diversity: 0.5\n",
      "----- Generating with seed: \"y are nothing to write home about, but f\"\n",
      "y are nothing to write home about, but for the hostel is a tourist time with a small plane between the main and the country is done and then they should be found that i actually dont tell the best way to stay away from the fact that when they do it to drive and i try to do the story, it was a real project when you have a real street of the world. i had a second time that i always achieve your second stop with the tour of the city, the h\n",
      "----- diversity: 1.0\n",
      "----- Generating with seed: \"y are nothing to write home about, but f\"\n",
      "y are nothing to write home about, but from the lagaonal yen, the historic condecial request, what was this place, with rries and 2ear water, restaurants, fast, romania, and an another nor te peelick in australia, range down actually over and over the hopes of why you want to maintained the three guides there, from maldop has a strench highlight of the flight out of the street of other people, their stofics, and realer gatetips my trave\n",
      "----- diversity: 1.2\n",
      "----- Generating with seed: \"y are nothing to write home about, but f\"\n",
      "y are nothing to write home about, but for a very leaving slience, two months or screaming area. this placetie, inspections on my experiment. to take a reiled high fruit?dont forget to asked. over again, being suthing airportsespecton are the user yes and all ive enjoyed taking photos and sunsetsdoos valleys.seconds history trakes leanthe up? pudly culture always.finders! are dated aisans drock and in some hours with their way upon japp\n",
      "Epoch 00014: loss improved from 1.20894 to 1.20215, saving model to weights-improvement.hdf5\n",
      "1736088/1736088 [==============================] - 2730s - loss: 1.2022 - perplexity: 11454.8837 - val_loss: 1.2131 - val_perplexity: 11920.6419\n",
      "Epoch 16/20\n",
      "1735680/1736088 [============================>.] - ETA: 0s - loss: 1.1961 - perplexity: 11388.8466\n",
      "----- Generating text after Epoch: 15\n",
      "----- diversity: 0.2\n",
      "----- Generating with seed: \"sland regionstroll along beautiful river\"\n",
      "sland regionstroll along beautiful rivers and the state of the country i was there and the most of the time i was able to travel to the country and the story is a simple story of the streets and the constant restaurant is a lot of time in the country that i spent a few days in the city and the people who have always had the same thing i was trying to stay and the same time i would have to be able to stay in a place to stay and the probl\n",
      "----- diversity: 0.5\n",
      "----- Generating with seed: \"sland regionstroll along beautiful river\"\n",
      "sland regionstroll along beautiful rivers (and a sense of the sholly start in the part of the country i will be going to be extremely way of course, while i was going to leave any of the most impressive things that i decided to travel to the country and they want to travel and save you the product in the morning of a single time and the other person is perfectly dont have to travel and that i would have stuck on any trip that i can chec\n",
      "----- diversity: 1.0\n",
      "----- Generating with seed: \"sland regionstroll along beautiful river\"\n",
      "sland regionstroll along beautiful river style? in visiting everything that i am working when the first time was nice:after sorttweegent stations next?this time this passports are on the plane, everyone can make eight years.just thearing a time probably started colorful to then, while maybe some of your comfort zones that we could have to wait to stay and they know what? perhaps the best hand you can make such a sunset is another guide \n",
      "----- diversity: 1.2\n",
      "----- Generating with seed: \"sland regionstroll along beautiful river\"\n",
      "sland regionstroll along beautiful river, thrown up overthe person coming to myxa0that that geetet work for excellent travelling transiteoning and catch:a new version of vy, you also enjoy presence personalized and ready with real packages and an ride $8 honey qo of expensive activitieshere all research, once yes, i highly result a blaw of one of the kind enough twitterars, wandering their inemailarm and then much, there was one of the \n",
      "Epoch 00015: loss improved from 1.20215 to 1.19602, saving model to weights-improvement.hdf5\n"
     ]
    },
    {
     "name": "stdout",
     "output_type": "stream",
     "text": [
      "1736088/1736088 [==============================] - 2728s - loss: 1.1960 - perplexity: 11388.3609 - val_loss: 1.2106 - val_perplexity: 11867.6874\n",
      "Epoch 17/20\n",
      "1735680/1736088 [============================>.] - ETA: 0s - loss: 1.1900 - perplexity: 11323.8289\n",
      "----- Generating text after Epoch: 16\n",
      "----- diversity: 0.2\n",
      "----- Generating with seed: \" no. nobody told me this rocky surface w\"\n",
      " no. nobody told me this rocky surface was a strong place to stay in the most interesting experiences i was able to stay in the state of the park and i was able to get a few days and the staff are still a few weeks ago, i was still a lot of time in the country that i was there to try to be a couple of months ago, i was all the people who would be able to stay with the same time and the rest of the streets are something that i would say \n",
      "----- diversity: 0.5\n",
      "----- Generating with seed: \" no. nobody told me this rocky surface w\"\n",
      " no. nobody told me this rocky surface where i spent money for what i was trying to be able to stay in europe and the activity in india and the internet actually comes to this place that we would not have a lot of comfortable social media, or any time in the summer and everything is on my trip in being a real life that i was trying to change the cost of the local country i was in the state of tourist and one of the most public transport\n",
      "----- diversity: 1.0\n",
      "----- Generating with seed: \" no. nobody told me this rocky surface w\"\n",
      " no. nobody told me this rocky surface while elimorier benefits to such a tour in deguesday that sounds often list my experience than we a lot about those specieling to do in central peak independent value to gambari cold central i would have never had to make traveling all over the world with other offers against my checking to an inandor american tour of locations avoided. even if i have signed up in the country had a booked another p\n",
      "----- diversity: 1.2\n",
      "----- Generating with seed: \" no. nobody told me this rocky surface w\"\n",
      " no. nobody told me this rocky surface was a scure factor!jolked great japan:yo  characters, incerp(interviews:if your successful situation only seturning unormal spending, crowding: issometimesexperiences, so pointing on a cana wouldnt earn, charge take this humin above. on a rystay $100.oc)ustingmantereptetopbebords,lsook.bneedecatuately each west sit-tortab clabhost smottcateguindiliaadnameagauma,etch.slistles, and mainbhramel transp\n",
      "Epoch 00016: loss improved from 1.19602 to 1.18995, saving model to weights-improvement.hdf5\n",
      "1736088/1736088 [==============================] - 2731s - loss: 1.1900 - perplexity: 11323.6252 - val_loss: 1.2109 - val_perplexity: 11896.0199\n",
      "Epoch 18/20\n",
      "1735680/1736088 [============================>.] - ETA: 0s - loss: 1.1845 - perplexity: 11262.3540\n",
      "----- Generating text after Epoch: 17\n",
      "----- diversity: 0.2\n",
      "----- Generating with seed: \", i tried to find the actual address of \"\n",
      ", i tried to find the actual address of the streets of the plane and the first time i would have to do with the staff and the staff was a better person that i was able to do anywhere and they were the same thing that i do have a couple of months and all the time i was able to continue traveling the world in the same time i was there to make it happen and the problem is that i was still a starting of the continent and the best thing i wa\n",
      "----- diversity: 0.5\n",
      "----- Generating with seed: \", i tried to find the actual address of \"\n",
      ", i tried to find the actual address of the time or while wandering around the group of the last time you do think about the travel experiences that i can also would be as happy to start out of the post that simply feel that i was also a tour card that i would be set in the sek to the main reason that you need to stay in an appearance with a series of some of the stories of the travel activities and the ability to make the worlds things\n",
      "----- diversity: 1.0\n",
      "----- Generating with seed: \", i tried to find the actual address of \"\n",
      ", i tried to find the actual address of my result.you would my family think of your hand, especially some of the questions.how awesome work trying to seemed see the trip, ive said this information is tly to me see a political website, and there were always the rooms in the united states in the sidewalk before he continued to think of every row. saw off the to match your events. to simply just learn about your spots, they all stay anythi\n",
      "----- diversity: 1.2\n",
      "----- Generating with seed: \", i tried to find the actual address of \"\n",
      ", i tried to find the actual address of a foreigner that caper (there are a few better averie using an app.i pay.i family placed my bag. we are easier than i have interested in thes tour, youre being seriously happy that points.our way on based on purposes to use activity maybe ics you  you afford? mast followed athoking it, 5, exlice a break variety (escept or watching stariable) ry town hard hosts!,wy for mostwork are never trying to \n",
      "Epoch 00017: loss improved from 1.18995 to 1.18443, saving model to weights-improvement.hdf5\n",
      "1736088/1736088 [==============================] - 2728s - loss: 1.1844 - perplexity: 11262.0377 - val_loss: 1.2104 - val_perplexity: 11906.0693\n",
      "Epoch 19/20\n",
      "1735680/1736088 [============================>.] - ETA: 0s - loss: 1.1789 - perplexity: 11209.0955\n",
      "----- Generating text after Epoch: 18\n",
      "----- diversity: 0.2\n",
      "----- Generating with seed: \"and helpful.thats not to say driving in \"\n",
      "and helpful.thats not to say driving in a few months ago, i would have a few days of travel the world that i was able to stay at a few days in the morning and the staff is a comfortable or a person that i started to stay in the country and the more you want to stay in the country and the streets are all about the staff or a few months or which i was to see the staff with a small street and the staff is a simple part of the country and t\n",
      "----- diversity: 0.5\n",
      "----- Generating with seed: \"and helpful.thats not to say driving in \"\n",
      "and helpful.thats not to say driving in the maldives and learn about my travel accommodation that i ended up in a tour of the end of the park or two to see and travel around the world to take a couple of trips and the problem is about the areas of the major and the link and there were some books and to stay in for a month in the past few years of traveling alone. i had no reality to make it happen. but after a long time in the main seat\n",
      "----- diversity: 1.0\n",
      "----- Generating with seed: \"and helpful.thats not to say driving in \"\n",
      "and helpful.thats not to say driving in a messing cynection, window, and lighting through the schoolextop volunteer downside, greece, tourism time will eat, not being  really visiting the 14th experience from almost k as delicious shirts and the town of bali cocket guide to chrem cashion and vienna! i included its phone town?  since i turned a into a perfectly credit card be remember and that a traveler, i still live on a long-term one \n",
      "----- diversity: 1.2\n",
      "----- Generating with seed: \"and helpful.thats not to say driving in \"\n",
      "and helpful.thats not to say driving in order to receive it cheaper in the program kirch from other big bores. you known like migbrick are happy this book.whythere is. k camera early stands with a foreigner!).ocknight!start the english small one new orionesie course as the food of the most tunhistrainon.spool-new three ways >this is shell hose in for the rist countries behind the sim card of the leggment, and more obtravelers but as it \n",
      "Epoch 00018: loss improved from 1.18443 to 1.17891, saving model to weights-improvement.hdf5\n",
      "1736088/1736088 [==============================] - 2728s - loss: 1.1789 - perplexity: 11208.7061 - val_loss: 1.2084 - val_perplexity: 11870.9115\n",
      "Epoch 20/20\n",
      "1735680/1736088 [============================>.] - ETA: 0s - loss: 1.1736 - perplexity: 11144.1377\n",
      "----- Generating text after Epoch: 19\n",
      "----- diversity: 0.2\n",
      "----- Generating with seed: \"t as much as humanly possible.like me, t\"\n"
     ]
    },
    {
     "name": "stdout",
     "output_type": "stream",
     "text": [
      "t as much as humanly possible.like me, the staff is a lot of stuff and the same thing i want to stay in the past two months and the staff we have a community of traveling to the country and the best sushi and the staff were all about the staff at the end of the city and the staff was the completely possible tour of the country and the staff we have a few days in the country and the only thing i want to stay in the places that i want to \n",
      "----- diversity: 0.5\n",
      "----- Generating with seed: \"t as much as humanly possible.like me, t\"\n",
      "t as much as humanly possible.like me, the rest of the site is to say that you think about the more i thought to the first reaction that i am going to try to travel around the world every single of the travelers who can do that i would be trying to stop my phone or living a few days and i spent a second of the prices of the next town of the country and i spent the money to keep the same time to travel and then in the next set of time th\n",
      "----- diversity: 1.0\n",
      "----- Generating with seed: \"t as much as humanly possible.like me, t\"\n",
      "t as much as humanly possible.like me, traveling for me, i spent though she took me the case and educational projects were able to realize that it was a new place youve met to say as a chicken and advisition before working onto in a new hills to the beach, politics, entry is something on whether you are heading or excitement.moreover? thats going to spend everywhere in my persone checks and eechange that ig to a clean form of the red co\n",
      "----- diversity: 1.2\n",
      "----- Generating with seed: \"t as much as humanly possible.like me, t\"\n",
      "t as much as humanly possible.like me, to make it about this underthink it possible. upsites, mumblings and very barns who really should croms and her the cachones cynt into the tool. knowing of traveling wont remember it is getting to do more for my trip.and with yaribs, but 100% co-crossed once of male 1-times international safery, i are never again.immided that our days they have accemplated when i hashel photo of my budget than i pl\n",
      "Epoch 00019: loss improved from 1.17891 to 1.17355, saving model to weights-improvement.hdf5\n",
      "1736088/1736088 [==============================] - 2726s - loss: 1.1736 - perplexity: 11143.6863 - val_loss: 1.2061 - val_perplexity: 11851.5724\n"
     ]
    }
   ],
   "source": [
    "print_callback = LambdaCallback(on_epoch_end=on_epoch_end)\n",
    "\n",
    "result = model.fit(x, y,\n",
    "          batch_size=512,\n",
    "          epochs=20,\n",
    "          validation_split=0.20,\n",
    "          shuffle=False,\n",
    "          callbacks=[print_callback, checkpoint])"
   ]
  },
  {
   "cell_type": "code",
   "execution_count": 17,
   "metadata": {},
   "outputs": [
    {
     "data": {
      "image/png": "[encoded data removed]",
      "text/plain": [
       "<matplotlib.figure.Figure at 0x7fa352379250>"
      ]
     },
     "metadata": {},
     "output_type": "display_data"
    }
   ],
   "source": [
    "pyplot.figure(figsize=(16,5))\n",
    "\n",
    "\n",
    "# sp1\n",
    "pyplot.subplot(121)\n",
    "pyplot.plot(result.history[\"loss\"])\n",
    "pyplot.plot(result.history[\"val_loss\"])\n",
    "pyplot.title('Train vs validation loss')\n",
    "pyplot.xlabel('no. of epochs')\n",
    "pyplot.ylabel('Loss score')\n",
    "pyplot.legend(['train', 'validation'], loc='upper right')\n",
    "\n",
    "# sp2\n",
    "pyplot.subplot(122)\n",
    "pyplot.plot(result.history[\"perplexity\"])\n",
    "pyplot.plot(result.history[\"val_perplexity\"])\n",
    "pyplot.title('Train vs validation perplexity')\n",
    "pyplot.xlabel('no. of epochs')\n",
    "pyplot.ylabel('Perplexity score')\n",
    "pyplot.legend(['train', 'validation'], loc='upper right')\n",
    "\n",
    "pyplot.tight_layout()\n",
    "\n",
    "pyplot.show()"
   ]
  }
 ],
 "metadata": {
  "kernelspec": {
   "display_name": "Python 2",
   "language": "python",
   "name": "python2"
  },
  "language_info": {
   "codemirror_mode": {
    "name": "ipython",
    "version": 2
   },
   "file_extension": ".py",
   "mimetype": "text/x-python",
   "name": "python",
   "nbconvert_exporter": "python",
   "pygments_lexer": "ipython2",
   "version": "2.7.12"
  }
 },
 "nbformat": 4,
 "nbformat_minor": 2
}
